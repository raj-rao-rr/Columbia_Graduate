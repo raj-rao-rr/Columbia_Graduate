{
 "cells": [
  {
   "cell_type": "code",
   "execution_count": 1,
   "id": "3351eb7a-1072-4a8f-bc81-db3f272522c3",
   "metadata": {},
   "outputs": [],
   "source": [
    "import pandas as pd \n",
    "import matplotlib.pyplot as plt\n",
    "import numpy as np "
   ]
  },
  {
   "cell_type": "code",
   "execution_count": 2,
   "id": "c7ca906a-4ed6-4bd2-b70e-5d45538f7002",
   "metadata": {},
   "outputs": [],
   "source": [
    "prob_f = pd.DataFrame({'Fire': ['T', 'F'], \n",
    "                       'proba': [0.01, 0.99]})\n",
    "prob_aGf = pd.DataFrame({'Fire': ['T', 'T', 'F', 'F'], \n",
    "                         'Alarm': ['T', 'F', 'T', 'F'], \n",
    "                         'proba': [0.95, 0.05, 0.01, 0.99]})\n",
    "utility_matrix = pd.DataFrame({'Fire': ['T', 'T', 'T', 'T', 'F', 'F', 'F', 'F'], \n",
    "                        'checkSmoke': ['T', 'T', 'F', 'F', 'T', 'T', 'F', 'F'], \n",
    "                        'Call': ['T', 'F', 'T', 'F', 'T', 'F', 'T', 'F'],\n",
    "                        'Utility': [-220, -5020, -200, -5000, -220, -20, -200, 0,],})"
   ]
  },
  {
   "cell_type": "markdown",
   "id": "02a81bc1-52da-4190-9d42-d2f9476a8b4e",
   "metadata": {},
   "source": [
    "### Problem 2.1"
   ]
  },
  {
   "cell_type": "code",
   "execution_count": 3,
   "id": "97665a39-a846-43d9-adce-5145ae9400f8",
   "metadata": {},
   "outputs": [],
   "source": [
    "# Merge probability values for the Fire and Alarm - if Alarm True then checkSmoke is True \n",
    "X1 = pd.merge(left=prob_aGf, right=prob_f, on=['Fire'])\n",
    "X1['proba'] = X1['proba_x'] * X1['proba_y']\n",
    "X1 = X1[['Fire', 'Alarm', 'proba']]"
   ]
  },
  {
   "cell_type": "code",
   "execution_count": 4,
   "id": "d01b7a8d-4891-4de1-a34d-ff1ba9f5f12c",
   "metadata": {},
   "outputs": [],
   "source": [
    "# Sum out the Fire chance node, it isn't a parent of any decision nodes (i.e. checkSmoke, call) \n",
    "X2 = pd.merge(left=X1, right=utility_matrix, on=['Fire'])\n",
    "X2['weighted_utility'] = X2['Utility'] * X2['proba']\n",
    "X2 = X2[['Alarm', 'Fire', 'checkSmoke', 'Call', 'weighted_utility']]"
   ]
  },
  {
   "cell_type": "code",
   "execution_count": 5,
   "id": "0c54f8e4-ff15-4077-9540-367b0c4592c4",
   "metadata": {},
   "outputs": [
    {
     "data": {
      "text/html": [
       "<div>\n",
       "<style scoped>\n",
       "    .dataframe tbody tr th:only-of-type {\n",
       "        vertical-align: middle;\n",
       "    }\n",
       "\n",
       "    .dataframe tbody tr th {\n",
       "        vertical-align: top;\n",
       "    }\n",
       "\n",
       "    .dataframe thead th {\n",
       "        text-align: right;\n",
       "    }\n",
       "</style>\n",
       "<table border=\"1\" class=\"dataframe\">\n",
       "  <thead>\n",
       "    <tr style=\"text-align: right;\">\n",
       "      <th></th>\n",
       "      <th>Alarm</th>\n",
       "      <th>checkSmoke</th>\n",
       "      <th>Call</th>\n",
       "      <th>weighted_utility</th>\n",
       "    </tr>\n",
       "  </thead>\n",
       "  <tbody>\n",
       "    <tr>\n",
       "      <th>0</th>\n",
       "      <td>F</td>\n",
       "      <td>F</td>\n",
       "      <td>F</td>\n",
       "      <td>-2.500</td>\n",
       "    </tr>\n",
       "    <tr>\n",
       "      <th>1</th>\n",
       "      <td>F</td>\n",
       "      <td>F</td>\n",
       "      <td>T</td>\n",
       "      <td>-196.120</td>\n",
       "    </tr>\n",
       "    <tr>\n",
       "      <th>2</th>\n",
       "      <td>F</td>\n",
       "      <td>T</td>\n",
       "      <td>F</td>\n",
       "      <td>-22.112</td>\n",
       "    </tr>\n",
       "    <tr>\n",
       "      <th>3</th>\n",
       "      <td>F</td>\n",
       "      <td>T</td>\n",
       "      <td>T</td>\n",
       "      <td>-215.732</td>\n",
       "    </tr>\n",
       "    <tr>\n",
       "      <th>4</th>\n",
       "      <td>T</td>\n",
       "      <td>F</td>\n",
       "      <td>F</td>\n",
       "      <td>-47.500</td>\n",
       "    </tr>\n",
       "    <tr>\n",
       "      <th>5</th>\n",
       "      <td>T</td>\n",
       "      <td>F</td>\n",
       "      <td>T</td>\n",
       "      <td>-3.880</td>\n",
       "    </tr>\n",
       "    <tr>\n",
       "      <th>6</th>\n",
       "      <td>T</td>\n",
       "      <td>T</td>\n",
       "      <td>F</td>\n",
       "      <td>-47.888</td>\n",
       "    </tr>\n",
       "    <tr>\n",
       "      <th>7</th>\n",
       "      <td>T</td>\n",
       "      <td>T</td>\n",
       "      <td>T</td>\n",
       "      <td>-4.268</td>\n",
       "    </tr>\n",
       "  </tbody>\n",
       "</table>\n",
       "</div>"
      ],
      "text/plain": [
       "  Alarm checkSmoke Call  weighted_utility\n",
       "0     F          F    F            -2.500\n",
       "1     F          F    T          -196.120\n",
       "2     F          T    F           -22.112\n",
       "3     F          T    T          -215.732\n",
       "4     T          F    F           -47.500\n",
       "5     T          F    T            -3.880\n",
       "6     T          T    F           -47.888\n",
       "7     T          T    T            -4.268"
      ]
     },
     "metadata": {},
     "output_type": "display_data"
    }
   ],
   "source": [
    "joint_factor = X2.groupby(['Alarm', 'checkSmoke', 'Call'])[['weighted_utility']].sum().reset_index()\n",
    "display(joint_factor)"
   ]
  },
  {
   "cell_type": "markdown",
   "id": "5d8fe716-663e-4ccb-b259-e56c17759c87",
   "metadata": {},
   "source": [
    "### Problem 2.2"
   ]
  },
  {
   "cell_type": "code",
   "execution_count": 6,
   "id": "b05b7e35-24b6-4b8b-9336-706e6560a2af",
   "metadata": {},
   "outputs": [
    {
     "data": {
      "text/html": [
       "<div>\n",
       "<style scoped>\n",
       "    .dataframe tbody tr th:only-of-type {\n",
       "        vertical-align: middle;\n",
       "    }\n",
       "\n",
       "    .dataframe tbody tr th {\n",
       "        vertical-align: top;\n",
       "    }\n",
       "\n",
       "    .dataframe thead th {\n",
       "        text-align: right;\n",
       "    }\n",
       "</style>\n",
       "<table border=\"1\" class=\"dataframe\">\n",
       "  <thead>\n",
       "    <tr style=\"text-align: right;\">\n",
       "      <th></th>\n",
       "      <th>Alarm</th>\n",
       "      <th>checkSmoke</th>\n",
       "      <th>Call</th>\n",
       "      <th>weighted_utility</th>\n",
       "    </tr>\n",
       "  </thead>\n",
       "  <tbody>\n",
       "    <tr>\n",
       "      <th>0</th>\n",
       "      <td>F</td>\n",
       "      <td>F</td>\n",
       "      <td>F</td>\n",
       "      <td>-2.500</td>\n",
       "    </tr>\n",
       "    <tr>\n",
       "      <th>2</th>\n",
       "      <td>F</td>\n",
       "      <td>T</td>\n",
       "      <td>F</td>\n",
       "      <td>-22.112</td>\n",
       "    </tr>\n",
       "    <tr>\n",
       "      <th>5</th>\n",
       "      <td>T</td>\n",
       "      <td>F</td>\n",
       "      <td>T</td>\n",
       "      <td>-3.880</td>\n",
       "    </tr>\n",
       "    <tr>\n",
       "      <th>7</th>\n",
       "      <td>T</td>\n",
       "      <td>T</td>\n",
       "      <td>T</td>\n",
       "      <td>-4.268</td>\n",
       "    </tr>\n",
       "  </tbody>\n",
       "</table>\n",
       "</div>"
      ],
      "text/plain": [
       "  Alarm checkSmoke Call  weighted_utility\n",
       "0     F          F    F            -2.500\n",
       "2     F          T    F           -22.112\n",
       "5     T          F    T            -3.880\n",
       "7     T          T    T            -4.268"
      ]
     },
     "execution_count": 6,
     "metadata": {},
     "output_type": "execute_result"
    }
   ],
   "source": [
    "# Retrieve the optimal policy and corresponding expected utilities for Call\n",
    "joint_factor.loc[joint_factor.groupby(['Alarm', 'checkSmoke'])[['weighted_utility']].idxmax().values.flatten()]"
   ]
  },
  {
   "cell_type": "markdown",
   "id": "d551da3b-be36-47a8-b404-7ff7e9b53896",
   "metadata": {},
   "source": [
    "### Problem 2.4"
   ]
  },
  {
   "cell_type": "code",
   "execution_count": 7,
   "id": "98f0c307-9d95-42f8-9892-2c89dd476640",
   "metadata": {},
   "outputs": [
    {
     "data": {
      "text/html": [
       "<div>\n",
       "<style scoped>\n",
       "    .dataframe tbody tr th:only-of-type {\n",
       "        vertical-align: middle;\n",
       "    }\n",
       "\n",
       "    .dataframe tbody tr th {\n",
       "        vertical-align: top;\n",
       "    }\n",
       "\n",
       "    .dataframe thead th {\n",
       "        text-align: right;\n",
       "    }\n",
       "</style>\n",
       "<table border=\"1\" class=\"dataframe\">\n",
       "  <thead>\n",
       "    <tr style=\"text-align: right;\">\n",
       "      <th></th>\n",
       "      <th>Alarm</th>\n",
       "      <th>checkSmoke</th>\n",
       "      <th>Call</th>\n",
       "      <th>weighted_utility</th>\n",
       "    </tr>\n",
       "  </thead>\n",
       "  <tbody>\n",
       "    <tr>\n",
       "      <th>0</th>\n",
       "      <td>F</td>\n",
       "      <td>F</td>\n",
       "      <td>F</td>\n",
       "      <td>-2.50</td>\n",
       "    </tr>\n",
       "    <tr>\n",
       "      <th>5</th>\n",
       "      <td>T</td>\n",
       "      <td>F</td>\n",
       "      <td>T</td>\n",
       "      <td>-3.88</td>\n",
       "    </tr>\n",
       "  </tbody>\n",
       "</table>\n",
       "</div>"
      ],
      "text/plain": [
       "  Alarm checkSmoke Call  weighted_utility\n",
       "0     F          F    F             -2.50\n",
       "5     T          F    T             -3.88"
      ]
     },
     "metadata": {},
     "output_type": "display_data"
    },
    {
     "name": "stdout",
     "output_type": "stream",
     "text": [
      "MEU:-6.38\n"
     ]
    }
   ],
   "source": [
    "display(joint_factor.loc[joint_factor.groupby(['Alarm'])[['weighted_utility']].idxmax().values.flatten()])\n",
    "meu = joint_factor.loc[joint_factor.groupby(['Alarm'])[['weighted_utility']].idxmax().values.flatten()]['weighted_utility'].sum()\n",
    "print(f'MEU:{meu}')"
   ]
  },
  {
   "cell_type": "markdown",
   "id": "0ebe397f-10fc-4410-9397-aaceda86372f",
   "metadata": {},
   "source": [
    "### Problem 3.3"
   ]
  },
  {
   "cell_type": "code",
   "execution_count": 8,
   "id": "9323ea12-6e75-4d50-8169-9ac63c8f64f0",
   "metadata": {},
   "outputs": [],
   "source": [
    "prob_x1y = pd.DataFrame({'X1': [-1, 0, 1, -1, 0, 1], 'Y': [0, 0, 0, 1, 1, 1], 'proba': [0, 0.5, 0.5, 0.25, 0.5, 0.25]})\n",
    "prob_x2y = pd.DataFrame({'X2': [-1, 0, 1, -1, 0, 1], 'Y': [0, 0, 0, 1, 1, 1], 'proba': [0.5, 0, 0.5, 0, 0.25, 0.75]})"
   ]
  },
  {
   "cell_type": "code",
   "execution_count": 9,
   "id": "e8298ae2-a309-4c23-88cd-06a09e7130e0",
   "metadata": {},
   "outputs": [],
   "source": [
    "samples = [(1, -1 , 0), (1, 1, 0), (0, -1, 0), (0, 1, 0), (1, 1, 1), (0, 0, 1), (0, 1, 1), (-1, 1, 1),]"
   ]
  },
  {
   "cell_type": "code",
   "execution_count": 10,
   "id": "85c97634-d322-4b26-b564-d9d37690511a",
   "metadata": {},
   "outputs": [],
   "source": [
    "tracker = []\n",
    "\n",
    "for i in samples:\n",
    "    x1, x2, x = i    \n",
    "    \n",
    "    # compute both the Y=0, Y=1 vector for each condtional probability\n",
    "    t1 = prob_x1y[(prob_x1y['X1'] == x1) & (prob_x1y['Y'] == 0)]['proba'].values * prob_x2y[(prob_x2y['X2'] == x2) & (prob_x2y['Y'] == 0)]['proba'].values\n",
    "    t2 = prob_x1y[(prob_x1y['X1'] == x1) & (prob_x1y['Y'] == 1)]['proba'].values * prob_x2y[(prob_x2y['X2'] == x2) & (prob_x2y['Y'] == 1)]['proba'].values\n",
    "    \n",
    "    if x == 0:\n",
    "        tracker.append((t1/(t2+t1))[0])\n",
    "    else:\n",
    "        tracker.append((t2/(t2+t1))[0])"
   ]
  },
  {
   "cell_type": "code",
   "execution_count": 11,
   "id": "782befd2-58ab-418d-998f-59f2d96ac26f",
   "metadata": {},
   "outputs": [],
   "source": [
    "expected_counts = pd.DataFrame({'Pr(X1X2|Y)': tracker})\n",
    "expected_counts = expected_counts.join(pd.DataFrame(samples, columns=['X1', 'X2', 'Y']))"
   ]
  },
  {
   "cell_type": "code",
   "execution_count": 12,
   "id": "22df0856-bd4d-4c6f-b504-5aa8a1c93a5c",
   "metadata": {},
   "outputs": [
    {
     "data": {
      "text/html": [
       "<div>\n",
       "<style scoped>\n",
       "    .dataframe tbody tr th:only-of-type {\n",
       "        vertical-align: middle;\n",
       "    }\n",
       "\n",
       "    .dataframe tbody tr th {\n",
       "        vertical-align: top;\n",
       "    }\n",
       "\n",
       "    .dataframe thead th {\n",
       "        text-align: right;\n",
       "    }\n",
       "</style>\n",
       "<table border=\"1\" class=\"dataframe\">\n",
       "  <thead>\n",
       "    <tr style=\"text-align: right;\">\n",
       "      <th></th>\n",
       "      <th>Pr(X1X2|Y)</th>\n",
       "      <th>X1</th>\n",
       "      <th>X2</th>\n",
       "      <th>Y</th>\n",
       "    </tr>\n",
       "  </thead>\n",
       "  <tbody>\n",
       "    <tr>\n",
       "      <th>0</th>\n",
       "      <td>1.000000</td>\n",
       "      <td>1</td>\n",
       "      <td>-1</td>\n",
       "      <td>0</td>\n",
       "    </tr>\n",
       "    <tr>\n",
       "      <th>1</th>\n",
       "      <td>0.571429</td>\n",
       "      <td>1</td>\n",
       "      <td>1</td>\n",
       "      <td>0</td>\n",
       "    </tr>\n",
       "    <tr>\n",
       "      <th>2</th>\n",
       "      <td>1.000000</td>\n",
       "      <td>0</td>\n",
       "      <td>-1</td>\n",
       "      <td>0</td>\n",
       "    </tr>\n",
       "    <tr>\n",
       "      <th>3</th>\n",
       "      <td>0.400000</td>\n",
       "      <td>0</td>\n",
       "      <td>1</td>\n",
       "      <td>0</td>\n",
       "    </tr>\n",
       "    <tr>\n",
       "      <th>4</th>\n",
       "      <td>0.428571</td>\n",
       "      <td>1</td>\n",
       "      <td>1</td>\n",
       "      <td>1</td>\n",
       "    </tr>\n",
       "    <tr>\n",
       "      <th>5</th>\n",
       "      <td>1.000000</td>\n",
       "      <td>0</td>\n",
       "      <td>0</td>\n",
       "      <td>1</td>\n",
       "    </tr>\n",
       "    <tr>\n",
       "      <th>6</th>\n",
       "      <td>0.600000</td>\n",
       "      <td>0</td>\n",
       "      <td>1</td>\n",
       "      <td>1</td>\n",
       "    </tr>\n",
       "    <tr>\n",
       "      <th>7</th>\n",
       "      <td>1.000000</td>\n",
       "      <td>-1</td>\n",
       "      <td>1</td>\n",
       "      <td>1</td>\n",
       "    </tr>\n",
       "  </tbody>\n",
       "</table>\n",
       "</div>"
      ],
      "text/plain": [
       "   Pr(X1X2|Y)  X1  X2  Y\n",
       "0    1.000000   1  -1  0\n",
       "1    0.571429   1   1  0\n",
       "2    1.000000   0  -1  0\n",
       "3    0.400000   0   1  0\n",
       "4    0.428571   1   1  1\n",
       "5    1.000000   0   0  1\n",
       "6    0.600000   0   1  1\n",
       "7    1.000000  -1   1  1"
      ]
     },
     "execution_count": 12,
     "metadata": {},
     "output_type": "execute_result"
    }
   ],
   "source": [
    "expected_counts"
   ]
  },
  {
   "cell_type": "markdown",
   "id": "1606fdd8-780a-42ea-8b3a-915a1cc66496",
   "metadata": {},
   "source": [
    "### Problem 3.4"
   ]
  },
  {
   "cell_type": "code",
   "execution_count": 13,
   "id": "2a0fd692-7ac9-4918-a4d7-7d2515e2af61",
   "metadata": {},
   "outputs": [],
   "source": [
    "maximization = expected_counts.copy()"
   ]
  },
  {
   "cell_type": "code",
   "execution_count": 14,
   "id": "65e02f2e-5276-41cc-ada2-19f475b52469",
   "metadata": {},
   "outputs": [
    {
     "data": {
      "text/html": [
       "<div>\n",
       "<style scoped>\n",
       "    .dataframe tbody tr th:only-of-type {\n",
       "        vertical-align: middle;\n",
       "    }\n",
       "\n",
       "    .dataframe tbody tr th {\n",
       "        vertical-align: top;\n",
       "    }\n",
       "\n",
       "    .dataframe thead th {\n",
       "        text-align: right;\n",
       "    }\n",
       "</style>\n",
       "<table border=\"1\" class=\"dataframe\">\n",
       "  <thead>\n",
       "    <tr style=\"text-align: right;\">\n",
       "      <th></th>\n",
       "      <th>Pr(X1X2|Y)</th>\n",
       "      <th>X1</th>\n",
       "      <th>X2</th>\n",
       "      <th>Y</th>\n",
       "    </tr>\n",
       "  </thead>\n",
       "  <tbody>\n",
       "    <tr>\n",
       "      <th>0</th>\n",
       "      <td>1.000000</td>\n",
       "      <td>1</td>\n",
       "      <td>-1</td>\n",
       "      <td>0</td>\n",
       "    </tr>\n",
       "    <tr>\n",
       "      <th>1</th>\n",
       "      <td>0.571429</td>\n",
       "      <td>1</td>\n",
       "      <td>1</td>\n",
       "      <td>0</td>\n",
       "    </tr>\n",
       "    <tr>\n",
       "      <th>2</th>\n",
       "      <td>1.000000</td>\n",
       "      <td>0</td>\n",
       "      <td>-1</td>\n",
       "      <td>0</td>\n",
       "    </tr>\n",
       "    <tr>\n",
       "      <th>3</th>\n",
       "      <td>0.400000</td>\n",
       "      <td>0</td>\n",
       "      <td>1</td>\n",
       "      <td>0</td>\n",
       "    </tr>\n",
       "    <tr>\n",
       "      <th>4</th>\n",
       "      <td>0.428571</td>\n",
       "      <td>1</td>\n",
       "      <td>1</td>\n",
       "      <td>1</td>\n",
       "    </tr>\n",
       "    <tr>\n",
       "      <th>5</th>\n",
       "      <td>1.000000</td>\n",
       "      <td>0</td>\n",
       "      <td>0</td>\n",
       "      <td>1</td>\n",
       "    </tr>\n",
       "    <tr>\n",
       "      <th>6</th>\n",
       "      <td>0.600000</td>\n",
       "      <td>0</td>\n",
       "      <td>1</td>\n",
       "      <td>1</td>\n",
       "    </tr>\n",
       "    <tr>\n",
       "      <th>7</th>\n",
       "      <td>1.000000</td>\n",
       "      <td>-1</td>\n",
       "      <td>1</td>\n",
       "      <td>1</td>\n",
       "    </tr>\n",
       "  </tbody>\n",
       "</table>\n",
       "</div>"
      ],
      "text/plain": [
       "   Pr(X1X2|Y)  X1  X2  Y\n",
       "0    1.000000   1  -1  0\n",
       "1    0.571429   1   1  0\n",
       "2    1.000000   0  -1  0\n",
       "3    0.400000   0   1  0\n",
       "4    0.428571   1   1  1\n",
       "5    1.000000   0   0  1\n",
       "6    0.600000   0   1  1\n",
       "7    1.000000  -1   1  1"
      ]
     },
     "execution_count": 14,
     "metadata": {},
     "output_type": "execute_result"
    }
   ],
   "source": [
    "maximization"
   ]
  },
  {
   "cell_type": "code",
   "execution_count": 15,
   "id": "1db23399-6ff5-436f-bdbc-3dfd5f629564",
   "metadata": {},
   "outputs": [
    {
     "data": {
      "text/html": [
       "<div>\n",
       "<style scoped>\n",
       "    .dataframe tbody tr th:only-of-type {\n",
       "        vertical-align: middle;\n",
       "    }\n",
       "\n",
       "    .dataframe tbody tr th {\n",
       "        vertical-align: top;\n",
       "    }\n",
       "\n",
       "    .dataframe thead th {\n",
       "        text-align: right;\n",
       "    }\n",
       "</style>\n",
       "<table border=\"1\" class=\"dataframe\">\n",
       "  <thead>\n",
       "    <tr style=\"text-align: right;\">\n",
       "      <th></th>\n",
       "      <th>P(Y)</th>\n",
       "    </tr>\n",
       "    <tr>\n",
       "      <th>Y</th>\n",
       "      <th></th>\n",
       "    </tr>\n",
       "  </thead>\n",
       "  <tbody>\n",
       "    <tr>\n",
       "      <th>0</th>\n",
       "      <td>0.495238</td>\n",
       "    </tr>\n",
       "    <tr>\n",
       "      <th>1</th>\n",
       "      <td>0.504762</td>\n",
       "    </tr>\n",
       "  </tbody>\n",
       "</table>\n",
       "</div>"
      ],
      "text/plain": [
       "       P(Y)\n",
       "Y          \n",
       "0  0.495238\n",
       "1  0.504762"
      ]
     },
     "metadata": {},
     "output_type": "display_data"
    }
   ],
   "source": [
    "# normalize the aggregate weighted sum\n",
    "pY = maximization.groupby('Y')[['Pr(X1X2|Y)']].sum()\n",
    "pY = pY / pY.sum()\n",
    "pY.columns = ['P(Y)']\n",
    "display(pY)"
   ]
  },
  {
   "cell_type": "code",
   "execution_count": 16,
   "id": "94f860c5-b9a0-49a6-b5e9-187b0bc504e3",
   "metadata": {},
   "outputs": [
    {
     "data": {
      "text/html": [
       "<div>\n",
       "<style scoped>\n",
       "    .dataframe tbody tr th:only-of-type {\n",
       "        vertical-align: middle;\n",
       "    }\n",
       "\n",
       "    .dataframe tbody tr th {\n",
       "        vertical-align: top;\n",
       "    }\n",
       "\n",
       "    .dataframe thead th {\n",
       "        text-align: right;\n",
       "    }\n",
       "</style>\n",
       "<table border=\"1\" class=\"dataframe\">\n",
       "  <thead>\n",
       "    <tr style=\"text-align: right;\">\n",
       "      <th>X1</th>\n",
       "      <th>-1</th>\n",
       "      <th>0</th>\n",
       "      <th>1</th>\n",
       "    </tr>\n",
       "    <tr>\n",
       "      <th>Y</th>\n",
       "      <th></th>\n",
       "      <th></th>\n",
       "      <th></th>\n",
       "    </tr>\n",
       "  </thead>\n",
       "  <tbody>\n",
       "    <tr>\n",
       "      <th>0</th>\n",
       "      <td>0.000000</td>\n",
       "      <td>0.471154</td>\n",
       "      <td>0.528846</td>\n",
       "    </tr>\n",
       "    <tr>\n",
       "      <th>1</th>\n",
       "      <td>0.330189</td>\n",
       "      <td>0.528302</td>\n",
       "      <td>0.141509</td>\n",
       "    </tr>\n",
       "  </tbody>\n",
       "</table>\n",
       "</div>"
      ],
      "text/plain": [
       "X1        -1         0         1\n",
       "Y                               \n",
       "0   0.000000  0.471154  0.528846\n",
       "1   0.330189  0.528302  0.141509"
      ]
     },
     "metadata": {},
     "output_type": "display_data"
    }
   ],
   "source": [
    "# normalize the marginal distribution for X1 given Y\n",
    "new_prob_x1y = maximization.groupby(['Y', 'X1'])[['Pr(X1X2|Y)']].sum().reset_index()\n",
    "new_prob_x1y = pd.pivot_table(data=new_prob_x1y, columns='X1', index='Y', values='Pr(X1X2|Y)').fillna(0)\n",
    "new_prob_x1y = new_prob_x1y.apply(lambda x: x / x.sum(), axis=1)\n",
    "display(new_prob_x1y)"
   ]
  },
  {
   "cell_type": "code",
   "execution_count": 17,
   "id": "7716dc89-34a8-42a9-a057-4742f4311cd9",
   "metadata": {},
   "outputs": [
    {
     "data": {
      "text/html": [
       "<div>\n",
       "<style scoped>\n",
       "    .dataframe tbody tr th:only-of-type {\n",
       "        vertical-align: middle;\n",
       "    }\n",
       "\n",
       "    .dataframe tbody tr th {\n",
       "        vertical-align: top;\n",
       "    }\n",
       "\n",
       "    .dataframe thead th {\n",
       "        text-align: right;\n",
       "    }\n",
       "</style>\n",
       "<table border=\"1\" class=\"dataframe\">\n",
       "  <thead>\n",
       "    <tr style=\"text-align: right;\">\n",
       "      <th>X2</th>\n",
       "      <th>-1</th>\n",
       "      <th>0</th>\n",
       "      <th>1</th>\n",
       "    </tr>\n",
       "    <tr>\n",
       "      <th>Y</th>\n",
       "      <th></th>\n",
       "      <th></th>\n",
       "      <th></th>\n",
       "    </tr>\n",
       "  </thead>\n",
       "  <tbody>\n",
       "    <tr>\n",
       "      <th>0</th>\n",
       "      <td>0.673077</td>\n",
       "      <td>0.000000</td>\n",
       "      <td>0.326923</td>\n",
       "    </tr>\n",
       "    <tr>\n",
       "      <th>1</th>\n",
       "      <td>0.000000</td>\n",
       "      <td>0.330189</td>\n",
       "      <td>0.669811</td>\n",
       "    </tr>\n",
       "  </tbody>\n",
       "</table>\n",
       "</div>"
      ],
      "text/plain": [
       "X2        -1         0         1\n",
       "Y                               \n",
       "0   0.673077  0.000000  0.326923\n",
       "1   0.000000  0.330189  0.669811"
      ]
     },
     "metadata": {},
     "output_type": "display_data"
    }
   ],
   "source": [
    "# normalize the marginal distribution for X2 given Y\n",
    "new_prob_x2y = maximization.groupby(['Y', 'X2'])[['Pr(X1X2|Y)']].sum().reset_index()\n",
    "new_prob_x2y = pd.pivot_table(data=new_prob_x2y, columns='X2', index='Y', values='Pr(X1X2|Y)').fillna(0)\n",
    "new_prob_x2y = new_prob_x2y.apply(lambda x: x / x.sum(), axis=1)\n",
    "display(new_prob_x2y)"
   ]
  },
  {
   "cell_type": "markdown",
   "id": "2c450d2e-fd1a-40d6-9799-a7cbe672b855",
   "metadata": {},
   "source": [
    "### Problem 4.1"
   ]
  },
  {
   "cell_type": "code",
   "execution_count": 18,
   "id": "b396a41a-e85a-4172-a4ef-220ae658b9cc",
   "metadata": {},
   "outputs": [],
   "source": [
    "# Drop samples 4 and 5 from the original 8 sample list\n",
    "new_sample = pd.DataFrame(samples, columns=['X1', 'X2', 'Y'], index=np.arange(1, 9)).drop(index=[4, 5])"
   ]
  },
  {
   "cell_type": "code",
   "execution_count": 19,
   "id": "7599c654-eb07-48d1-9313-3af599181752",
   "metadata": {},
   "outputs": [],
   "source": [
    "def activation_function1(val:float):\n",
    "    \"Denote the treatment given a f_w value\"\n",
    "    if val <= 0:\n",
    "        return 0\n",
    "    else:\n",
    "        return 1"
   ]
  },
  {
   "cell_type": "code",
   "execution_count": 20,
   "id": "dec8c639-b651-485e-b47c-6727897e2a49",
   "metadata": {},
   "outputs": [
    {
     "name": "stdout",
     "output_type": "stream",
     "text": [
      "Sampling (1, -1) No weight updated occured\n",
      "Sampling (1, 1) No weight updated occured\n",
      "Sampling (0, -1) Weight update occured\n",
      "\t[ 0 -2  1] -> [ 0 -2  1]\n",
      "Sampling (0, 0) Weight update occured\n",
      "\t[ 1 -2  1] -> [ 1 -2  1]\n",
      "Sampling (0, 1) No weight updated occured\n",
      "Sampling (-1, 1) No weight updated occured\n"
     ]
    }
   ],
   "source": [
    "weightV = np.array([1, -2, 0])\n",
    "alpha = 1\n",
    "\n",
    "for w in new_sample.index:\n",
    "    _x1, _x2, _y0 = new_sample.loc[w].values\n",
    "    y_pred = activation_function1(weightV[0] + weightV[1]*_x1 + weightV[2]*_x2) \n",
    "    \n",
    "    if (_y0-y_pred) == 0:\n",
    "        print(f'Sampling {(_x1, _x2)} No weight updated occured')\n",
    "    else:\n",
    "        old_weight = weightV\n",
    "        weightV += alpha*(_y0-y_pred)*np.array([1, _x1, _x2]) \n",
    "        print(f'Sampling {(_x1, _x2)} Weight update occured')\n",
    "        print(f'\\t{old_weight} -> {weightV}')"
   ]
  },
  {
   "cell_type": "markdown",
   "id": "ad0f013f-e8bd-44fe-8382-832be2ba1670",
   "metadata": {},
   "source": [
    "### Problem 4.2"
   ]
  },
  {
   "cell_type": "code",
   "execution_count": 21,
   "id": "8f2a4a21-85dd-4927-8059-102ab3b5aca2",
   "metadata": {},
   "outputs": [
    {
     "data": {
      "image/png": "[encoded data removed]",
      "text/plain": [
       "<Figure size 720x432 with 1 Axes>"
      ]
     },
     "metadata": {
      "needs_background": "light"
     },
     "output_type": "display_data"
    }
   ],
   "source": [
    "fig, axe = plt.subplots()\n",
    "\n",
    "axe.spines[['right', 'top']].set_visible(False)\n",
    "fig.set_figwidth(10)\n",
    "fig.set_figheight(6)\n",
    "\n",
    "plt.scatter(x=new_sample[new_sample['Y'] == 0].X1, y=new_sample[new_sample['Y'] == 0].X2, label='Y=0', color='b')\n",
    "plt.scatter(x=new_sample[new_sample['Y'] == 1].X1, y=new_sample[new_sample['Y'] == 1].X2, label='Y=1', color='r')\n",
    "\n",
    "# plot the intial weight vector denoted as (1, -2, 0) -> 1 - 2x = 0\n",
    "axe.axvline(x=0.5, ls='--', color='k', label='Original Weight Vector')\n",
    "\n",
    "# plot the intial weight vector denoted as (1, -2, 1) -> 1 - 2x + y = 0\n",
    "axe.plot(np.arange(-1, 1.1, step=0.1), 2*np.arange(-1, 1.1, step=0.1)-1, ls='--', color='g', label='New Weight Vector')\n",
    "\n",
    "axe.set_ylabel('X2')\n",
    "axe.set_xlabel('X1')\n",
    "plt.legend()\n",
    "plt.show()"
   ]
  },
  {
   "cell_type": "markdown",
   "id": "bfcbda67-8775-4a59-9187-c57293d0eb59",
   "metadata": {},
   "source": [
    "### Problem 4.3"
   ]
  },
  {
   "cell_type": "code",
   "execution_count": 22,
   "id": "1b6cfb15-f950-43e8-b0b1-8f2420c7196b",
   "metadata": {},
   "outputs": [],
   "source": [
    "from sklearn.linear_model import LogisticRegression\n",
    "from sklearn.inspection import DecisionBoundaryDisplay\n",
    "from sklearn.model_selection import train_test_split"
   ]
  },
  {
   "cell_type": "code",
   "execution_count": 23,
   "id": "7c396fdf-3581-4e92-bff5-13cee9a584f8",
   "metadata": {},
   "outputs": [
    {
     "name": "stdout",
     "output_type": "stream",
     "text": [
      "w0 = [-0.28535145]\n",
      "[w1, w2] = [[-0.80046508  0.43929907]]\n",
      "test accuracy:  1.0\n"
     ]
    }
   ],
   "source": [
    "X_train, X_test, y_train, y_test = train_test_split(new_sample[['X1', 'X2']], new_sample['Y'], test_size=0.1)\n",
    "\n",
    "classifier = LogisticRegression().fit(X_train, y_train)\n",
    "print(\"w0 =\", classifier.intercept_)\n",
    "print(\"[w1, w2] =\", classifier.coef_)\n",
    "print(\"test accuracy: \", classifier.score(X_test, y_test))"
   ]
  },
  {
   "cell_type": "code",
   "execution_count": 24,
   "id": "2d7d886a-2377-47e4-ae15-b5bdad5d1fdd",
   "metadata": {},
   "outputs": [
    {
     "data": {
      "image/png": "[encoded data removed]",
      "text/plain": [
       "<Figure size 432x288 with 1 Axes>"
      ]
     },
     "metadata": {
      "needs_background": "light"
     },
     "output_type": "display_data"
    }
   ],
   "source": [
    "disp = DecisionBoundaryDisplay.from_estimator(\n",
    "    classifier, new_sample[['X1', 'X2']], response_method=\"predict_proba\", \n",
    "    xlabel='X1', ylabel='X2',\n",
    "    alpha=0.5)\n",
    "disp.ax_.scatter(new_sample['X1'], new_sample['X2'], c=new_sample['Y'], edgecolor=\"k\")\n",
    "plt.show()"
   ]
  },
  {
   "cell_type": "markdown",
   "id": "37456005-d790-4b04-9b53-bb4d708847b2",
   "metadata": {},
   "source": [
    "### Problem 4.4"
   ]
  },
  {
   "cell_type": "code",
   "execution_count": 25,
   "id": "e6bd0055-b1ab-40ff-88cc-f22e3f9cfd14",
   "metadata": {},
   "outputs": [
    {
     "name": "stdout",
     "output_type": "stream",
     "text": [
      "Mean negative log-likelihood: -0.7772795038577506\n"
     ]
    }
   ],
   "source": [
    "# compute the mean negative log likelihood\n",
    "neg_log_likelihood = classifier.predict_log_proba(new_sample[['X1', 'X2']])\n",
    "print(f'Mean negative log-likelihood: {np.mean(neg_log_likelihood)}')"
   ]
  },
  {
   "cell_type": "code",
   "execution_count": 26,
   "id": "7f27dd9b-b450-42b7-bd04-68b7f8508857",
   "metadata": {},
   "outputs": [],
   "source": [
    "# computing the gradient, defined by the partial deriviates of L with weight w_i\n",
    "sk_wgt_vector = np.concatenate((classifier.intercept_,classifier.coef_[0]))"
   ]
  },
  {
   "cell_type": "code",
   "execution_count": 27,
   "id": "13b50fbf-4326-466f-a1c5-3f8bcd15ac48",
   "metadata": {},
   "outputs": [],
   "source": [
    "def sigmoid_func(x: list, wgt_vector:np.ndarray) -> float:\n",
    "    val = 1 + np.exp(-(-wgt_vector[0] + wgt_vector[1]*x[0] + wgt_vector[2]*x[1]))\n",
    "    return 1 / val "
   ]
  },
  {
   "cell_type": "code",
   "execution_count": 28,
   "id": "050d2824-8b00-4682-9466-033480eb7501",
   "metadata": {},
   "outputs": [],
   "source": [
    "# construct the error residual to be used in comptuation\n",
    "error_res = []\n",
    "for i in new_sample[['X1', 'X2']].index:\n",
    "    error_res.append(sigmoid_func(new_sample.loc[i].values[:2], sk_wgt_vector))"
   ]
  },
  {
   "cell_type": "code",
   "execution_count": 29,
   "id": "5d10ff36-0c2c-4720-9b58-736945aa331a",
   "metadata": {},
   "outputs": [
    {
     "name": "stdout",
     "output_type": "stream",
     "text": [
      "w_0 = 0.5477368581017065\n",
      "w_1 = -0.010372807971608352\n",
      "w_2 = 0.2060648431836709\n"
     ]
    }
   ],
   "source": [
    "for idx in range(3):\n",
    "    avg_gradient = []\n",
    "    \n",
    "    for idx2, e in enumerate(error_res):    \n",
    "        if idx == 0:\n",
    "            avg_gradient.append(e * 1)\n",
    "        else:\n",
    "            avg_gradient.append(e * new_sample[['X1', 'X2']].iloc[idx2].iloc[idx-1])\n",
    "        \n",
    "    print(f'w_{idx} = {np.mean(avg_gradient)}')"
   ]
  },
  {
   "cell_type": "code",
   "execution_count": null,
   "id": "d1ef1871-81d7-4186-bae7-273353bf8fbb",
   "metadata": {},
   "outputs": [],
   "source": []
  }
 ],
 "metadata": {
  "kernelspec": {
   "display_name": "Python 3 (ipykernel)",
   "language": "python",
   "name": "python3"
  },
  "language_info": {
   "codemirror_mode": {
    "name": "ipython",
    "version": 3
   },
   "file_extension": ".py",
   "mimetype": "text/x-python",
   "name": "python",
   "nbconvert_exporter": "python",
   "pygments_lexer": "ipython3",
   "version": "3.9.7"
  }
 },
 "nbformat": 4,
 "nbformat_minor": 5
}
