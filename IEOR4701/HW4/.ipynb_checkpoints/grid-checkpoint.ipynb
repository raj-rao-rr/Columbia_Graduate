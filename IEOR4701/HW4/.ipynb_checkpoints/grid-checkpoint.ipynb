{
 "cells": [
  {
   "cell_type": "code",
   "execution_count": 1,
   "metadata": {},
   "outputs": [],
   "source": [
    "import numpy as np\n",
    "import pandas as pd"
   ]
  },
  {
   "cell_type": "markdown",
   "metadata": {},
   "source": [
    "## Problem 1"
   ]
  },
  {
   "cell_type": "code",
   "execution_count": 2,
   "metadata": {},
   "outputs": [],
   "source": [
    "T = np.array([[1/3,1/3,1/3,0,0,0],\n",
    "              [1/3,1/3,0,1/3,0,0],\n",
    "              [1/3,0,1/3,1/3,0,0],\n",
    "              [0,.2,.2,.2,.2,.2],\n",
    "              [0,0,0,.5,.5,0],\n",
    "              [0,0,0,.5,0,.5]])\n",
    "\n",
    "Oempty = np.array([.5, .5, .5, 1, .25, .25])\n",
    "Ohash = np.array([0, .25, .25, 0, .5, .5])\n",
    "Owall = np.array([.5, .25, .25, 0, .25, .25])"
   ]
  },
  {
   "cell_type": "markdown",
   "metadata": {},
   "source": [
    "**Sub-Problem 1.1**"
   ]
  },
  {
   "cell_type": "code",
   "execution_count": 3,
   "metadata": {},
   "outputs": [
    {
     "name": "stdout",
     "output_type": "stream",
     "text": [
      "Stationary distribution π = [0.16666667 0.16666667 0.16666667 0.27777778 0.11111111 0.11111111]\n"
     ]
    }
   ],
   "source": [
    "# Solve for the eigenvector of the Transition matrix transpose\n",
    "e_values, e_vectors = np.linalg.eig(T.T)\n",
    "\n",
    "# Retrieve the eigenvalue whose value is approx. 1 (python binary math)\n",
    "selection = np.argmax(abs(e_values - 1) <= 1e-10)\n",
    "\n",
    "# Extract the optimal policy and normalize to scale to 1\n",
    "pi = e_vectors[:, selection] / e_vectors[:, selection].sum()\n",
    "print(\"Stationary distribution π =\", pi)"
   ]
  },
  {
   "cell_type": "markdown",
   "metadata": {},
   "source": [
    "**Sub-Problem 1.2**"
   ]
  },
  {
   "cell_type": "code",
   "execution_count": 4,
   "metadata": {},
   "outputs": [
    {
     "name": "stdout",
     "output_type": "stream",
     "text": [
      "Observation 1:wall\n",
      "   a1 = [0.08333333 0.04166667 0.04166667 0.         0.02777778 0.02777778]\n",
      "Observation 2:hash\n",
      "   a2 = [0.         0.01041667 0.01041667 0.         0.00694444 0.00694444]\n"
     ]
    }
   ],
   "source": [
    "# Starting from our optimal policy (a0) we follow sequential steps 1) Wall 2) Hash\n",
    "action_map = {'wall': Owall, 'hash': Ohash, 'empty': Oempty}\n",
    "alpha_values = {'a0': pi}\n",
    "belief_distributions = []\n",
    "\n",
    "a_prime = pi.copy()\n",
    "for idx, a in enumerate(['wall', 'hash']):\n",
    "    print(f'Observation {idx+1}:{a}')\n",
    "    action = action_map[a]\n",
    "    a_prime = a_prime.dot(T) * action\n",
    "    alpha_values[f'a{idx+1}'] = a_prime\n",
    "    print(f'   a{idx+1} = {a_prime}')\n",
    "\n",
    "    # Normalize the element wise multiplication to sum to 1\n",
    "    a_norm = a_prime / a_prime.sum()\n",
    "    belief_distributions.append(a_norm)"
   ]
  },
  {
   "cell_type": "code",
   "execution_count": 5,
   "metadata": {},
   "outputs": [
    {
     "name": "stdout",
     "output_type": "stream",
     "text": [
      "e1 = [0.375  0.1875 0.1875 0.     0.125  0.125 ]\n",
      "e2 = [0.  0.3 0.3 0.  0.2 0.2]\n"
     ]
    }
   ],
   "source": [
    "# Display the belief distributions\n",
    "for i in range(2):\n",
    "    print(f'e{i+1} = {belief_distributions[i]}')"
   ]
  },
  {
   "cell_type": "markdown",
   "metadata": {},
   "source": [
    "\n",
    "**Sub-Problem 1.3**"
   ]
  },
  {
   "cell_type": "code",
   "execution_count": 6,
   "metadata": {},
   "outputs": [
    {
     "data": {
      "text/html": [
       "<div>\n",
       "<style scoped>\n",
       "    .dataframe tbody tr th:only-of-type {\n",
       "        vertical-align: middle;\n",
       "    }\n",
       "\n",
       "    .dataframe tbody tr th {\n",
       "        vertical-align: top;\n",
       "    }\n",
       "\n",
       "    .dataframe thead th {\n",
       "        text-align: right;\n",
       "    }\n",
       "</style>\n",
       "<table border=\"1\" class=\"dataframe\">\n",
       "  <thead>\n",
       "    <tr style=\"text-align: right;\">\n",
       "      <th></th>\n",
       "      <th>Pr(X1 | e1))</th>\n",
       "      <th>Pr(X2 | e1, e2))</th>\n",
       "      <th>Pr(X1, X2 | e1, e2))</th>\n",
       "    </tr>\n",
       "  </thead>\n",
       "  <tbody>\n",
       "    <tr>\n",
       "      <th>1</th>\n",
       "      <td>0.1875</td>\n",
       "      <td>0.3</td>\n",
       "      <td>0.05625</td>\n",
       "    </tr>\n",
       "    <tr>\n",
       "      <th>2</th>\n",
       "      <td>0.1875</td>\n",
       "      <td>0.3</td>\n",
       "      <td>0.05625</td>\n",
       "    </tr>\n",
       "    <tr>\n",
       "      <th>4</th>\n",
       "      <td>0.1250</td>\n",
       "      <td>0.2</td>\n",
       "      <td>0.02500</td>\n",
       "    </tr>\n",
       "    <tr>\n",
       "      <th>5</th>\n",
       "      <td>0.1250</td>\n",
       "      <td>0.2</td>\n",
       "      <td>0.02500</td>\n",
       "    </tr>\n",
       "  </tbody>\n",
       "</table>\n",
       "</div>"
      ],
      "text/plain": [
       "   Pr(X1 | e1))  Pr(X2 | e1, e2))  Pr(X1, X2 | e1, e2))\n",
       "1        0.1875               0.3               0.05625\n",
       "2        0.1875               0.3               0.05625\n",
       "4        0.1250               0.2               0.02500\n",
       "5        0.1250               0.2               0.02500"
      ]
     },
     "metadata": {},
     "output_type": "display_data"
    }
   ],
   "source": [
    "# Compute joint-probability distribution \n",
    "df = pd.DataFrame(\n",
    "    {\n",
    "        'Pr(X1 | e1))': belief_distributions[0],\n",
    "        'Pr(X2 | e1, e2))': belief_distributions[1],\n",
    "        'Pr(X1, X2 | e1, e2))': belief_distributions[0] * belief_distributions[1], \n",
    "        }\n",
    "        )\n",
    "\n",
    "# Consider only joint probability values that are nonzero.\n",
    "display(df[df['Pr(X1, X2 | e1, e2))'] > 0])"
   ]
  },
  {
   "cell_type": "markdown",
   "metadata": {},
   "source": [
    "**Sub-Problem 1.4**"
   ]
  },
  {
   "cell_type": "code",
   "execution_count": 7,
   "metadata": {},
   "outputs": [
    {
     "name": "stdout",
     "output_type": "stream",
     "text": [
      "Observation 2:initial\n",
      "   b2 = [1 1 1 1 1 1]\n",
      "Observation 1:hash\n",
      "   b1 = [0.16666667 0.08333333 0.08333333 0.3        0.25       0.25      ]\n",
      "Observation 0:wall\n",
      "   b0 = [0.04166667 0.03472222 0.03472222 0.03333333 0.03125    0.03125   ]\n"
     ]
    }
   ],
   "source": [
    "beta = np.array([1, 1, 1, 1, 1, 1])\n",
    "beta_values = {'b2': beta}\n",
    "\n",
    "print(f'Observation {2}:initial')\n",
    "print(f'   b{2} = {beta}')\n",
    "k_term = 1\n",
    "for idx, a in enumerate(['hash', 'wall']):\n",
    "    print(f'Observation {k_term-idx}:{a}')\n",
    "    action = action_map[a]\n",
    "    beta = (beta * action).dot(T.T)\n",
    "    print(f'   b{k_term-idx} = {beta}')\n",
    "    beta_values[f'b{k_term-idx}'] = beta"
   ]
  },
  {
   "cell_type": "markdown",
   "metadata": {},
   "source": [
    "**Sub-Problem 1.5**"
   ]
  },
  {
   "cell_type": "code",
   "execution_count": 8,
   "metadata": {},
   "outputs": [
    {
     "name": "stdout",
     "output_type": "stream",
     "text": [
      "gamma0:[0.2        0.16666667 0.16666667 0.26666667 0.1        0.1       ]\n",
      "gamma1:[0.4 0.1 0.1 0.  0.2 0.2]\n",
      "gamma2:[0.  0.3 0.3 0.  0.2 0.2]\n"
     ]
    }
   ],
   "source": [
    "# Multiply element-wise in reverse order for beta and alpha \n",
    "gamma_values = {}\n",
    "\n",
    "n = len(alpha_values)\n",
    "for i in range(n):\n",
    "    X = beta_values[f'b{i}'] * alpha_values[f'a{i}']\n",
    "    # Normalize the the gamma values to determine\n",
    "    print(f'gamma{i}:{X/X.sum()}')\n",
    "    gamma_values[f'g{i}'] = X/X.sum()"
   ]
  },
  {
   "cell_type": "markdown",
   "metadata": {},
   "source": [
    "**Sub-Problem 1.6**"
   ]
  },
  {
   "cell_type": "code",
   "execution_count": 9,
   "metadata": {},
   "outputs": [
    {
     "name": "stdout",
     "output_type": "stream",
     "text": [
      "Pr(e1|X) = [1.   0.25 0.25  nan 0.5  0.5 ]\n",
      "Pr(e2|X) = [0.   0.75 0.75  nan 0.5  0.5 ]\n"
     ]
    },
    {
     "name": "stderr",
     "output_type": "stream",
     "text": [
      "C:\\Users\\mahar\\AppData\\Local\\Temp/ipykernel_31668/847108434.py:4: RuntimeWarning: invalid value encountered in true_divide\n",
      "  print(f\"Pr(e1|X) = {gamma_values['g1'] / gamma_matrix[1:].sum(axis=0)}\")\n",
      "C:\\Users\\mahar\\AppData\\Local\\Temp/ipykernel_31668/847108434.py:7: RuntimeWarning: invalid value encountered in true_divide\n",
      "  print(f\"Pr(e2|X) = {gamma_values['g2'] / gamma_matrix[1:].sum(axis=0)}\")\n"
     ]
    }
   ],
   "source": [
    "gamma_matrix = np.array([i for i in gamma_values.values()])\n",
    "\n",
    "# gamma one corresponds with the wall\n",
    "print(f\"Pr(e1|X) = {gamma_values['g1'] / gamma_matrix[1:].sum(axis=0)}\")\n",
    "\n",
    "# gamma two corresponds with the hash\n",
    "print(f\"Pr(e2|X) = {gamma_values['g2'] / gamma_matrix[1:].sum(axis=0)}\")"
   ]
  },
  {
   "cell_type": "markdown",
   "metadata": {},
   "source": [
    "**Sub-Problem 1.7**"
   ]
  },
  {
   "cell_type": "code",
   "execution_count": 10,
   "metadata": {},
   "outputs": [
    {
     "name": "stdout",
     "output_type": "stream",
     "text": [
      "[[0.22222222 0.38888889 0.38888889 0.         0.         0.        ]\n",
      " [0.5        0.5        0.         0.         0.         0.        ]\n",
      " [0.5        0.         0.5        0.         0.         0.        ]\n",
      " [0.         0.125      0.125      0.         0.375      0.375     ]\n",
      " [0.         0.         0.         0.         1.         0.        ]\n",
      " [0.         0.         0.         0.         0.         1.        ]]\n"
     ]
    }
   ],
   "source": [
    "# Compute the “expected” transition frequency matrices\n",
    "zeta0 = np.diag(alpha_values['a0'])@T@np.diag(Owall)@np.diag(beta_values['b1'])\n",
    "zeta1 = np.diag(alpha_values['a1'])@T@np.diag(Ohash)@np.diag(beta_values['b2'])\n",
    "\n",
    "# Construct the updated model transition matrix\n",
    "updated_transition = (zeta0 + zeta1).copy()\n",
    "\n",
    "for idx, row in enumerate(updated_transition):\n",
    "    updated_transition[idx, :] = row / row.sum()\n",
    "\n",
    "print(updated_transition)"
   ]
  },
  {
   "cell_type": "markdown",
   "metadata": {},
   "source": [
    "## Problem 2"
   ]
  },
  {
   "cell_type": "code",
   "execution_count": 55,
   "metadata": {},
   "outputs": [],
   "source": [
    "prob_wGb = pd.DataFrame({'Bronchitis': ['T', 'F'], 'Proba': [0.6, 0.001]})\n",
    "prob_bGis = pd.DataFrame({'Influenza': ['T', 'T', 'F', 'F', 'T', 'T', 'F', 'F'], \n",
    "                          'Smokes': ['T', 'F', 'T', 'F', 'T', 'F', 'T', 'F'], \n",
    "                          'Bronchitis': ['T', 'T', 'T', 'T', 'F', 'F', 'F', 'F'], \n",
    "                          'Proba': [0.99, 0.9, 0.7, 1e-4, 0.01, 0.1, 0.3, 0.9999]})\n",
    "prob_i = pd.DataFrame({'Influenza': ['T', 'F'], 'Proba': [0.05, 0.95]})\n",
    "prob_s = pd.DataFrame({'Smokes': ['T', 'F'], 'Proba': [0.2, 0.8]})\n",
    "prob_fGi = pd.DataFrame({'Influenza': ['T', 'T', 'F', 'F'], 'Fever': ['T', 'F', 'T', 'F'], 'Proba': [0.9, 0.1, 0.05, 0.95]})"
   ]
  },
  {
   "cell_type": "code",
   "execution_count": 56,
   "metadata": {},
   "outputs": [],
   "source": [
    "# First intermediate product given merge \n",
    "X1 = pd.merge(left=prob_bGis, right=prob_wGb, on='Bronchitis')\n",
    "X1['Proba'] = X1['Proba_x'] * X1['Proba_y']\n",
    "X1 = X1.groupby(['Influenza', 'Smokes'])['Proba'].sum().reset_index()"
   ]
  },
  {
   "cell_type": "code",
   "execution_count": 57,
   "metadata": {},
   "outputs": [
    {
     "data": {
      "text/html": [
       "<div>\n",
       "<style scoped>\n",
       "    .dataframe tbody tr th:only-of-type {\n",
       "        vertical-align: middle;\n",
       "    }\n",
       "\n",
       "    .dataframe tbody tr th {\n",
       "        vertical-align: top;\n",
       "    }\n",
       "\n",
       "    .dataframe thead th {\n",
       "        text-align: right;\n",
       "    }\n",
       "</style>\n",
       "<table border=\"1\" class=\"dataframe\">\n",
       "  <thead>\n",
       "    <tr style=\"text-align: right;\">\n",
       "      <th></th>\n",
       "      <th>Influenza</th>\n",
       "      <th>Smokes</th>\n",
       "      <th>Proba</th>\n",
       "    </tr>\n",
       "  </thead>\n",
       "  <tbody>\n",
       "    <tr>\n",
       "      <th>0</th>\n",
       "      <td>F</td>\n",
       "      <td>F</td>\n",
       "      <td>0.00106</td>\n",
       "    </tr>\n",
       "    <tr>\n",
       "      <th>1</th>\n",
       "      <td>F</td>\n",
       "      <td>T</td>\n",
       "      <td>0.42030</td>\n",
       "    </tr>\n",
       "    <tr>\n",
       "      <th>2</th>\n",
       "      <td>T</td>\n",
       "      <td>F</td>\n",
       "      <td>0.54010</td>\n",
       "    </tr>\n",
       "    <tr>\n",
       "      <th>3</th>\n",
       "      <td>T</td>\n",
       "      <td>T</td>\n",
       "      <td>0.59401</td>\n",
       "    </tr>\n",
       "  </tbody>\n",
       "</table>\n",
       "</div>"
      ],
      "text/plain": [
       "  Influenza Smokes    Proba\n",
       "0         F      F  0.00106\n",
       "1         F      T  0.42030\n",
       "2         T      F  0.54010\n",
       "3         T      T  0.59401"
      ]
     },
     "execution_count": 57,
     "metadata": {},
     "output_type": "execute_result"
    }
   ],
   "source": [
    "X1"
   ]
  },
  {
   "cell_type": "code",
   "execution_count": 58,
   "metadata": {},
   "outputs": [],
   "source": [
    "# Second intermediate product given merge \n",
    "X2 = pd.merge(left=X1, right=prob_s, on='Smokes')\n",
    "X2['Proba'] = X2['Proba_x'] * X2['Proba_y']\n",
    "X2 = X2.groupby(['Influenza'])['Proba'].sum().reset_index()"
   ]
  },
  {
   "cell_type": "code",
   "execution_count": 59,
   "metadata": {},
   "outputs": [
    {
     "data": {
      "text/html": [
       "<div>\n",
       "<style scoped>\n",
       "    .dataframe tbody tr th:only-of-type {\n",
       "        vertical-align: middle;\n",
       "    }\n",
       "\n",
       "    .dataframe tbody tr th {\n",
       "        vertical-align: top;\n",
       "    }\n",
       "\n",
       "    .dataframe thead th {\n",
       "        text-align: right;\n",
       "    }\n",
       "</style>\n",
       "<table border=\"1\" class=\"dataframe\">\n",
       "  <thead>\n",
       "    <tr style=\"text-align: right;\">\n",
       "      <th></th>\n",
       "      <th>Influenza</th>\n",
       "      <th>Proba</th>\n",
       "    </tr>\n",
       "  </thead>\n",
       "  <tbody>\n",
       "    <tr>\n",
       "      <th>0</th>\n",
       "      <td>F</td>\n",
       "      <td>0.084908</td>\n",
       "    </tr>\n",
       "    <tr>\n",
       "      <th>1</th>\n",
       "      <td>T</td>\n",
       "      <td>0.550882</td>\n",
       "    </tr>\n",
       "  </tbody>\n",
       "</table>\n",
       "</div>"
      ],
      "text/plain": [
       "  Influenza     Proba\n",
       "0         F  0.084908\n",
       "1         T  0.550882"
      ]
     },
     "execution_count": 59,
     "metadata": {},
     "output_type": "execute_result"
    }
   ],
   "source": [
    "X2"
   ]
  },
  {
   "cell_type": "code",
   "execution_count": 60,
   "metadata": {},
   "outputs": [],
   "source": [
    "# Third intermediate product given merge \n",
    "X3 = pd.merge(left=X2, right=prob_i, on='Influenza')\n",
    "X3 ['Proba'] = X3 ['Proba_x'] * X3 ['Proba_y']\n",
    "X3 = X3.groupby(['Influenza'])['Proba'].sum().reset_index()"
   ]
  },
  {
   "cell_type": "code",
   "execution_count": 61,
   "metadata": {},
   "outputs": [
    {
     "data": {
      "text/html": [
       "<div>\n",
       "<style scoped>\n",
       "    .dataframe tbody tr th:only-of-type {\n",
       "        vertical-align: middle;\n",
       "    }\n",
       "\n",
       "    .dataframe tbody tr th {\n",
       "        vertical-align: top;\n",
       "    }\n",
       "\n",
       "    .dataframe thead th {\n",
       "        text-align: right;\n",
       "    }\n",
       "</style>\n",
       "<table border=\"1\" class=\"dataframe\">\n",
       "  <thead>\n",
       "    <tr style=\"text-align: right;\">\n",
       "      <th></th>\n",
       "      <th>Influenza</th>\n",
       "      <th>Proba</th>\n",
       "    </tr>\n",
       "  </thead>\n",
       "  <tbody>\n",
       "    <tr>\n",
       "      <th>0</th>\n",
       "      <td>F</td>\n",
       "      <td>0.080663</td>\n",
       "    </tr>\n",
       "    <tr>\n",
       "      <th>1</th>\n",
       "      <td>T</td>\n",
       "      <td>0.027544</td>\n",
       "    </tr>\n",
       "  </tbody>\n",
       "</table>\n",
       "</div>"
      ],
      "text/plain": [
       "  Influenza     Proba\n",
       "0         F  0.080663\n",
       "1         T  0.027544"
      ]
     },
     "execution_count": 61,
     "metadata": {},
     "output_type": "execute_result"
    }
   ],
   "source": [
    "X3"
   ]
  },
  {
   "cell_type": "code",
   "execution_count": 62,
   "metadata": {},
   "outputs": [],
   "source": [
    "# Final intermediate product given merge \n",
    "X4 = pd.merge(left=X3, right=prob_fGi, on='Influenza')\n",
    "X4 ['Proba'] = X4 ['Proba_x'] * X4 ['Proba_y']\n",
    "X4 = X4.groupby(['Fever'])['Proba'].sum().reset_index()\n",
    "X4 = X4.set_index('Fever')"
   ]
  },
  {
   "cell_type": "code",
   "execution_count": 63,
   "metadata": {},
   "outputs": [
    {
     "data": {
      "text/html": [
       "<div>\n",
       "<style scoped>\n",
       "    .dataframe tbody tr th:only-of-type {\n",
       "        vertical-align: middle;\n",
       "    }\n",
       "\n",
       "    .dataframe tbody tr th {\n",
       "        vertical-align: top;\n",
       "    }\n",
       "\n",
       "    .dataframe thead th {\n",
       "        text-align: right;\n",
       "    }\n",
       "</style>\n",
       "<table border=\"1\" class=\"dataframe\">\n",
       "  <thead>\n",
       "    <tr style=\"text-align: right;\">\n",
       "      <th></th>\n",
       "      <th>Proba</th>\n",
       "    </tr>\n",
       "    <tr>\n",
       "      <th>Fever</th>\n",
       "      <th></th>\n",
       "    </tr>\n",
       "  </thead>\n",
       "  <tbody>\n",
       "    <tr>\n",
       "      <th>F</th>\n",
       "      <td>0.733632</td>\n",
       "    </tr>\n",
       "    <tr>\n",
       "      <th>T</th>\n",
       "      <td>0.266368</td>\n",
       "    </tr>\n",
       "  </tbody>\n",
       "</table>\n",
       "</div>"
      ],
      "text/plain": [
       "          Proba\n",
       "Fever          \n",
       "F      0.733632\n",
       "T      0.266368"
      ]
     },
     "execution_count": 63,
     "metadata": {},
     "output_type": "execute_result"
    }
   ],
   "source": [
    "X4 / X4.sum()"
   ]
  },
  {
   "cell_type": "code",
   "execution_count": null,
   "metadata": {},
   "outputs": [],
   "source": []
  }
 ],
 "metadata": {
  "kernelspec": {
   "display_name": "Python 3 (ipykernel)",
   "language": "python",
   "name": "python3"
  },
  "language_info": {
   "codemirror_mode": {
    "name": "ipython",
    "version": 3
   },
   "file_extension": ".py",
   "mimetype": "text/x-python",
   "name": "python",
   "nbconvert_exporter": "python",
   "pygments_lexer": "ipython3",
   "version": "3.9.7"
  }
 },
 "nbformat": 4,
 "nbformat_minor": 4
}
