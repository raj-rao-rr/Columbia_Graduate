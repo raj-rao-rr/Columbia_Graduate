{
 "cells": [
  {
   "cell_type": "code",
   "execution_count": 1,
   "id": "71c63eee-8e61-43e7-a07f-27507e1e394b",
   "metadata": {},
   "outputs": [],
   "source": [
    "import numpy as np \n",
    "import pandas as pd\n",
    "import scipy.stats as stats\n",
    "import matplotlib.pyplot as plt"
   ]
  },
  {
   "cell_type": "markdown",
   "id": "81b330ca-2b44-4bfd-baf2-1a1fb38acc59",
   "metadata": {},
   "source": [
    "### Problem 1"
   ]
  },
  {
   "cell_type": "code",
   "execution_count": 2,
   "id": "44f3d172-33d8-4190-8c77-a74751be1237",
   "metadata": {},
   "outputs": [],
   "source": [
    "def binomial_func(n:int, p:float):\n",
    "    \"\"\"\n",
    "    Recurssive Binomial Function\n",
    "    \"\"\"\n",
    "    U = np.random.uniform()\n",
    "    F = 0          # CDF initialization\n",
    "    K = -1         # k-increment step-counter\n",
    "    pK = (1-p)**n  # PMF initialization (fly)\n",
    "    \n",
    "    while U > F:\n",
    "        K += 1\n",
    "        pK *= (n-K)/(K+1) * (p/(1-p))\n",
    "        F += pK\n",
    "    return K"
   ]
  },
  {
   "cell_type": "code",
   "execution_count": 19,
   "id": "8489aa01-6dc7-44bd-ac7b-00c1cdaf55a4",
   "metadata": {},
   "outputs": [
    {
     "data": {
      "image/png": "[encoded data removed]",
      "text/plain": [
       "<Figure size 432x288 with 1 Axes>"
      ]
     },
     "metadata": {
      "needs_background": "light"
     },
     "output_type": "display_data"
    }
   ],
   "source": [
    "fig, ax = plt.subplots()\n",
    "N = 10; P = 2/3\n",
    "X = [binomial_func(N, P) for i in range(100)]\n",
    "ax.hist(x=X, density=True, alpha=0.5)\n",
    "plt.show()"
   ]
  },
  {
   "cell_type": "markdown",
   "id": "16ebd24c-69cb-4672-9370-a98cc855b03a",
   "metadata": {},
   "source": [
    "### Problem 2"
   ]
  },
  {
   "cell_type": "code",
   "execution_count": 2,
   "id": "2476d5ec-c5ff-4414-b8b8-9f153bdd686a",
   "metadata": {},
   "outputs": [],
   "source": [
    "def neg_binomial_func1(r:int, p:float):\n",
    "    \"\"\"\n",
    "    Recurssive Binomial Function\n",
    "    \"\"\"\n",
    "    U = np.random.uniform()\n",
    "    K = r-1        # k-increment step-counter\n",
    "    pK = (p)**r    # PMF initialization (fly)\n",
    "    F = pK         # CDF initialization\n",
    "    \n",
    "    while (U > F):\n",
    "        K += 1\n",
    "        pK *= (K*(1-p)) / (K+1-r)\n",
    "        F += pK\n",
    "    return K"
   ]
  },
  {
   "cell_type": "code",
   "execution_count": 5,
   "id": "0e1e8a62-3492-4943-9cb6-a3dd5286b565",
   "metadata": {},
   "outputs": [],
   "source": [
    "def neg_binomial_func2(r:int, p:float):\n",
    "    \"\"\"\n",
    "    Itterative Binomial Function\n",
    "    \"\"\"\n",
    "\n",
    "    def geometric(p:float):\n",
    "        \"\"\"\n",
    "        Itterative Geometric Random Variable\n",
    "        \"\"\"\n",
    "        I = 0  # indicator for success\n",
    "        X = 0\n",
    "        while I == 0:\n",
    "            U = np.random.uniform()\n",
    "            if U <= p:\n",
    "                I = 1\n",
    "                return X\n",
    "            else:\n",
    "                X += 1\n",
    "    \n",
    "    total_trials = 0\n",
    "    for _ in range(r):\n",
    "        total_trials += geometric(p)\n",
    "    \n",
    "    return total_trials"
   ]
  },
  {
   "cell_type": "code",
   "execution_count": 6,
   "id": "1eb375fc-132e-40e9-8361-de7400a303d3",
   "metadata": {},
   "outputs": [],
   "source": [
    "def neg_binomial_func3(r:int, p:float):\n",
    "    \"\"\"\n",
    "    Itterative Binomial Function\n",
    "    \"\"\"\n",
    "    \n",
    "    def bernoulli(p:float):\n",
    "        U = np.random.uniform()\n",
    "        if U <= p:\n",
    "            return 1\n",
    "    \n",
    "    total_trials = 0\n",
    "    for _ in range(r):\n",
    "        \n",
    "        X = 0\n",
    "        I = 0\n",
    "        while I == 0:\n",
    "            V = bernoulli(p)\n",
    "            if V == 1:\n",
    "                I = 1\n",
    "            else:\n",
    "                X += 1\n",
    "        \n",
    "        total_trials += X\n",
    "    \n",
    "    return total_trials"
   ]
  },
  {
   "cell_type": "code",
   "execution_count": 3,
   "id": "6cdcbef8-87f0-4957-b6ec-125abdb08d3b",
   "metadata": {},
   "outputs": [],
   "source": [
    "R = 2; P = 1/3"
   ]
  },
  {
   "cell_type": "code",
   "execution_count": 4,
   "id": "7fdfc3a4-592e-4b11-8e3c-bfc98c82a2ff",
   "metadata": {},
   "outputs": [
    {
     "data": {
      "image/png": "[encoded data removed]",
      "text/plain": [
       "<Figure size 432x288 with 1 Axes>"
      ]
     },
     "metadata": {
      "needs_background": "light"
     },
     "output_type": "display_data"
    }
   ],
   "source": [
    "fig, ax = plt.subplots()\n",
    "X = [neg_binomial_func1(R, P) for i in range(100)]\n",
    "ax.hist(x=X, density=True, alpha=0.5)\n",
    "plt.show()"
   ]
  },
  {
   "cell_type": "code",
   "execution_count": 8,
   "id": "d4226c36-4c55-4444-9461-f4e82d398912",
   "metadata": {},
   "outputs": [
    {
     "data": {
      "image/png": "[encoded data removed]",
      "text/plain": [
       "<Figure size 432x288 with 1 Axes>"
      ]
     },
     "metadata": {
      "needs_background": "light"
     },
     "output_type": "display_data"
    }
   ],
   "source": [
    "fig, ax = plt.subplots()\n",
    "X = [neg_binomial_func2(R, P) for i in range(100)]\n",
    "ax.hist(x=X, density=True, alpha=0.5)\n",
    "plt.show()"
   ]
  },
  {
   "cell_type": "code",
   "execution_count": 74,
   "id": "ef8e384c-d2a3-46ec-9771-78e8b6601ed8",
   "metadata": {},
   "outputs": [
    {
     "data": {
      "image/png": "[encoded data removed]",
      "text/plain": [
       "<Figure size 432x288 with 1 Axes>"
      ]
     },
     "metadata": {
      "needs_background": "light"
     },
     "output_type": "display_data"
    }
   ],
   "source": [
    "fig, ax = plt.subplots()\n",
    "X = [neg_binomial_func3(R, P) for i in range(100)]\n",
    "ax.hist(x=X, density=True, alpha=0.5)\n",
    "plt.show()"
   ]
  },
  {
   "cell_type": "markdown",
   "id": "f01f27b0-f71e-47f9-bc6e-d6e8b32dec98",
   "metadata": {},
   "source": [
    "### Problem 3"
   ]
  },
  {
   "cell_type": "code",
   "execution_count": 26,
   "id": "24d3f596-4e67-46ab-a6a7-9ade20f9d952",
   "metadata": {},
   "outputs": [],
   "source": [
    "def special_func():\n",
    "    \"\"\"\n",
    "    Special function from problem 3\n",
    "    \"\"\"\n",
    "    U = np.random.uniform(0,1)\n",
    "    J = (np.log(U) - np.log(1/2) - np.log(3/4) - np.log(2) + np.log(3)) / (np.log(1/2) + np.log(2) - np.log(3))\n",
    "    return J"
   ]
  },
  {
   "cell_type": "code",
   "execution_count": 30,
   "id": "4d59bff3-b3a2-4176-91ca-e631a33efec0",
   "metadata": {},
   "outputs": [
    {
     "data": {
      "image/png": "[encoded data removed]",
      "text/plain": [
       "<Figure size 432x288 with 1 Axes>"
      ]
     },
     "metadata": {
      "needs_background": "light"
     },
     "output_type": "display_data"
    }
   ],
   "source": [
    "arr = []\n",
    "for i in range(1, 100):\n",
    "    # val = (1/2)**(i+1) + (1/2)*(2**(i-1) / 3**i)\n",
    "    val = (1/2)**(i+1)\n",
    "    arr.append(val)\n",
    "plt.plot(arr)\n",
    "plt.show()"
   ]
  },
  {
   "cell_type": "code",
   "execution_count": 28,
   "id": "06c5ae17-2c16-4565-b3d2-c877abdf1351",
   "metadata": {},
   "outputs": [
    {
     "data": {
      "image/png": "[encoded data removed]",
      "text/plain": [
       "<Figure size 432x288 with 1 Axes>"
      ]
     },
     "metadata": {
      "needs_background": "light"
     },
     "output_type": "display_data"
    }
   ],
   "source": [
    "fig, ax = plt.subplots()\n",
    "X = [special_func() for i in range(100)]\n",
    "ax.hist(x=X, density=True, alpha=0.5)\n",
    "plt.show()"
   ]
  },
  {
   "cell_type": "markdown",
   "id": "16d3163e-7127-405d-8464-30c4116a2a68",
   "metadata": {},
   "source": [
    "### Problem 4"
   ]
  },
  {
   "cell_type": "code",
   "execution_count": 9,
   "id": "8131ee42-37bd-4efd-bc10-98520db2505a",
   "metadata": {},
   "outputs": [],
   "source": [
    "def dice(x:float):\n",
    "    \"\"\"\n",
    "    Simulate a dice roll across a uniform distribution\n",
    "    \"\"\"\n",
    "    interval = 1/6\n",
    "    if x <= interval:\n",
    "        return 1\n",
    "    elif interval < x <= interval * 2:\n",
    "        return 2\n",
    "    elif interval * 2 < x <= interval * 3:\n",
    "        return 3\n",
    "    elif interval * 3 < x <= interval * 4:\n",
    "        return 4\n",
    "    elif interval * 4 < x <= interval * 5:\n",
    "        return 5\n",
    "    elif interval * 5 < x:\n",
    "        return 6"
   ]
  },
  {
   "cell_type": "code",
   "execution_count": 10,
   "id": "0ee703c4-3d8f-42c5-b246-6585c995cac8",
   "metadata": {},
   "outputs": [],
   "source": [
    "def fair_dice_game():\n",
    "    \"\"\"\n",
    "    Simulate the fair-dice game i.e. counting the total number \n",
    "    of rolls before every die possibility concluding the rolls\n",
    "    \"\"\"\n",
    "    \n",
    "    die_count = {}  # Use dictionary to track which dice run\n",
    "    count = 0\n",
    "    while len(die_count) < 6:\n",
    "        U = np.random.uniform()\n",
    "        dice_value = dice(U)\n",
    "        \n",
    "        if dice_value not in die_count:\n",
    "            die_count[dice_value] = 1\n",
    "        else:\n",
    "            die_count[dice_value] += 1\n",
    "        \n",
    "        count += 1\n",
    "        \n",
    "    return count "
   ]
  },
  {
   "cell_type": "code",
   "execution_count": 25,
   "id": "2a415521-3dd8-48ab-9ad5-1022efe603ab",
   "metadata": {},
   "outputs": [
    {
     "data": {
      "image/png": "[encoded data removed]",
      "text/plain": [
       "<Figure size 432x288 with 1 Axes>"
      ]
     },
     "metadata": {
      "needs_background": "light"
     },
     "output_type": "display_data"
    }
   ],
   "source": [
    "fig, ax = plt.subplots()\n",
    "X = [fair_dice_game() for i in range(100)]\n",
    "ax.hist(x=X, density=True, alpha=0.5)\n",
    "plt.show()"
   ]
  },
  {
   "cell_type": "code",
   "execution_count": null,
   "id": "3f4c2f31-9cd0-42f7-9c5d-e2f44c09cbb0",
   "metadata": {},
   "outputs": [],
   "source": []
  }
 ],
 "metadata": {
  "kernelspec": {
   "display_name": "Python 3 (ipykernel)",
   "language": "python",
   "name": "python3"
  },
  "language_info": {
   "codemirror_mode": {
    "name": "ipython",
    "version": 3
   },
   "file_extension": ".py",
   "mimetype": "text/x-python",
   "name": "python",
   "nbconvert_exporter": "python",
   "pygments_lexer": "ipython3",
   "version": "3.9.7"
  }
 },
 "nbformat": 4,
 "nbformat_minor": 5
}
