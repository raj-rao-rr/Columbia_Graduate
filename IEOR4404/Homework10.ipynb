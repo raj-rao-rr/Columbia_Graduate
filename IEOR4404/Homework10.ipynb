{
 "cells": [
  {
   "cell_type": "code",
   "execution_count": 1,
   "id": "71c63eee-8e61-43e7-a07f-27507e1e394b",
   "metadata": {},
   "outputs": [],
   "source": [
    "import numpy as np\n",
    "import pandas as pd\n",
    "import scipy.stats as stats\n",
    "import matplotlib.pyplot as plt"
   ]
  },
  {
   "cell_type": "markdown",
   "id": "81b330ca-2b44-4bfd-baf2-1a1fb38acc59",
   "metadata": {},
   "source": [
    "### Problem 3"
   ]
  },
  {
   "cell_type": "code",
   "execution_count": 164,
   "id": "9b9d9e45-4b1f-47b8-8caf-17226f5e3856",
   "metadata": {},
   "outputs": [],
   "source": [
    "def sim3a(customers:int=10):\n",
    "    \"\"\"Naive Monte-Carlo Method\"\"\"\n",
    "    \n",
    "    inter_arrivals = np.random.exponential(1/2, size=customers)\n",
    "    waitings_times = np.random.exponential(1, size=customers)\n",
    "    arrival_times = inter_arrivals.cumsum()\n",
    "    \n",
    "    _start_ = np.zeros(customers)\n",
    "    _finish_ = np.zeros(customers)\n",
    "\n",
    "    for i in range(customers):\n",
    "        if i == 0:\n",
    "            _start_[i] = arrival_times[i]\n",
    "        else:\n",
    "            # The next start-time is simply the maximum between the next arrival \n",
    "            _start_[i] = max(arrival_times[i], _finish_[i - 1])\n",
    "\n",
    "        _finish_[i] = _start_[i] + waitings_times[i]\n",
    "    \n",
    "    time_in_system = _finish_ - arrival_times\n",
    "    return time_in_system.sum()"
   ]
  },
  {
   "cell_type": "code",
   "execution_count": 166,
   "id": "9cef0786-d1e0-4358-8cba-711bcce0ab87",
   "metadata": {},
   "outputs": [
    {
     "name": "stdout",
     "output_type": "stream",
     "text": [
      "Point-estimate for target 35.3237\n",
      "Variance estimate for target 350.2326\n"
     ]
    }
   ],
   "source": [
    "Y = np.array([sim3a() for i in range(1000)])\n",
    "print(f'Point-estimate for target {round(Y.mean(), 4)}\\nVariance estimate for target {round(Y.var(), 4)}')"
   ]
  },
  {
   "cell_type": "code",
   "execution_count": 85,
   "id": "cf15a8b7-a056-44c7-b0d1-4c5555f5b5ac",
   "metadata": {},
   "outputs": [],
   "source": [
    "def sim3b(customers:int=10):\n",
    "    \"\"\"Naive Monte-Carlo Method\"\"\"\n",
    "    \n",
    "    inter_arrivals = np.random.exponential(1/2, size=customers)\n",
    "    waitings_times = np.random.exponential(1, size=customers)\n",
    "    arrival_times = inter_arrivals.cumsum()\n",
    "    \n",
    "    _start_ = np.zeros(customers)\n",
    "    _finish_ = np.zeros(customers)\n",
    "\n",
    "    for i in range(customers):\n",
    "        if i == 0:\n",
    "            _start_[i] = arrival_times[i]\n",
    "        else:\n",
    "            # The next start-time is simply the maximum between the next arrival \n",
    "            _start_[i] = max(arrival_times[i], _finish_[i - 1])\n",
    "\n",
    "        _finish_[i] = _start_[i] + waitings_times[i]\n",
    "    \n",
    "    time_in_system = _finish_ - arrival_times\n",
    "    return time_in_system.sum(), waitings_times.sum()"
   ]
  },
  {
   "cell_type": "code",
   "execution_count": 90,
   "id": "75b96c8b-3d77-4ef4-a62b-ed6e38b7a575",
   "metadata": {},
   "outputs": [
    {
     "name": "stdout",
     "output_type": "stream",
     "text": [
      "Point-estimate for target 35.9888\n",
      "Variance estimate for target 98.6184\n"
     ]
    }
   ],
   "source": [
    "Y = np.array([sim3b() for i in range(1000)])\n",
    "\n",
    "cov = np.cov(Y[:, 0], Y[:, 1])[0, 1]\n",
    "var = np.var(Y[:, 1])\n",
    "\n",
    "# Compute the optimal beta measure\n",
    "beta = cov / var\n",
    "\n",
    "# Control variate estimator \n",
    "W = Y[:, 0] - beta * (Y[:, 1] - 10)\n",
    "\n",
    "print(f'Point-estimate for target {round(W.mean(), 4)}\\nVariance estimate for target {round(W.var(), 4)}')"
   ]
  },
  {
   "cell_type": "code",
   "execution_count": 92,
   "id": "67ccf7cf-c920-476e-aa0c-5ae2426572a1",
   "metadata": {},
   "outputs": [],
   "source": [
    "def sim3c(customers:int=10):\n",
    "    \"\"\"Naive Monte-Carlo Method\"\"\"\n",
    "    \n",
    "    inter_arrivals = np.random.exponential(1/2, size=customers)\n",
    "    waitings_times = np.random.exponential(1, size=customers)\n",
    "    arrival_times = inter_arrivals.cumsum()\n",
    "    \n",
    "    _start_ = np.zeros(customers)\n",
    "    _finish_ = np.zeros(customers)\n",
    "\n",
    "    for i in range(customers):\n",
    "        if i == 0:\n",
    "            _start_[i] = arrival_times[i]\n",
    "        else:\n",
    "            # The next start-time is simply the maximum between the next arrival \n",
    "            _start_[i] = max(arrival_times[i], _finish_[i - 1])\n",
    "\n",
    "        _finish_[i] = _start_[i] + waitings_times[i]\n",
    "    \n",
    "    time_in_system = _finish_ - arrival_times\n",
    "    return time_in_system.sum(), waitings_times.sum(), inter_arrivals.sum()"
   ]
  },
  {
   "cell_type": "code",
   "execution_count": 93,
   "id": "ae74a073-4d2e-48f8-8eee-0460c2058593",
   "metadata": {},
   "outputs": [
    {
     "name": "stdout",
     "output_type": "stream",
     "text": [
      "Point-estimate for target 35.595\n",
      "Variance estimate for target 86.375\n"
     ]
    }
   ],
   "source": [
    "Y = np.array([sim3c() for i in range(1000)])\n",
    "\n",
    "cov = np.cov(Y[:, 0], Y[:, 1]-Y[:, 2])[0, 1]\n",
    "var = np.var(Y[:, 1]-Y[:, 2])\n",
    "\n",
    "# Compute the optimal beta measure\n",
    "beta = cov / var\n",
    "\n",
    "# Control variate estimator \n",
    "W = Y[:, 0] - beta * ((Y[:, 1]-Y[:, 2]) - 5)\n",
    "\n",
    "print(f'Point-estimate for target {round(W.mean(), 4)}\\nVariance estimate for target {round(W.var(), 4)}')"
   ]
  },
  {
   "cell_type": "markdown",
   "id": "3e41967b-f787-437a-ba96-04711cffa88d",
   "metadata": {},
   "source": [
    "### Problem 4"
   ]
  },
  {
   "cell_type": "code",
   "execution_count": 2,
   "id": "804b1b15-697f-4681-a4fd-2f3c5b0a63d8",
   "metadata": {},
   "outputs": [],
   "source": [
    "def sim4a(loan_num:int=100):\n",
    "    \"\"\"Naive Monte-Carlo Method\"\"\"\n",
    "    \n",
    "    P = np.random.beta(1, 19)\n",
    "    U = np.random.uniform(0, 1, size=loan_num)\n",
    "    \n",
    "    # determine default of any n-loan given a uniform-random variable\n",
    "    default_trigger = U < P\n",
    "    \n",
    "    # determine the loss given default\n",
    "    loss = np.random.normal(3, 1, size=loan_num)\n",
    "    \n",
    "    return loss[default_trigger].sum()"
   ]
  },
  {
   "cell_type": "code",
   "execution_count": 9,
   "id": "8a63e1a4-d381-4389-b8d7-9f043c9dfab1",
   "metadata": {},
   "outputs": [
    {
     "name": "stdout",
     "output_type": "stream",
     "text": [
      "Point-estimate for target 0.05\n",
      "Variance estimate for target 0.0475\n"
     ]
    }
   ],
   "source": [
    "x_est = 3 * 100 * 0.05 * 3\n",
    "\n",
    "# Count only instances where our simulates Loss exceeds the implied probability\n",
    "Y = np.array([1 if sim4a() > x_est else 0 for i in range(100)])\n",
    "print(f'Point-estimate for target {round(Y.mean(), 4)}\\nVariance estimate for target {round(Y.var(), 4)}')"
   ]
  },
  {
   "cell_type": "code",
   "execution_count": 63,
   "id": "1976655b-76af-4d29-a400-970c6df0601f",
   "metadata": {},
   "outputs": [],
   "source": [
    "def sim4b(loan_num:int=100):\n",
    "    \"\"\"Conditional Monte-Carlo Method\"\"\"\n",
    "    \n",
    "    # determine default of any n-loan given a uniform-random variable\n",
    "    default_trigger = np.random.binomial(1, 0.05, size=loan_num)\n",
    "    \n",
    "    # determine the loss given default\n",
    "    loss = np.random.normal(3, 1, size=loan_num)\n",
    "    \n",
    "    return (loss*default_trigger).sum()"
   ]
  },
  {
   "cell_type": "code",
   "execution_count": 69,
   "id": "3d4cfa4c-14e3-40b5-b4ff-98eb057cc32d",
   "metadata": {},
   "outputs": [
    {
     "name": "stdout",
     "output_type": "stream",
     "text": [
      "Point-estimate for target 0.0\n",
      "Variance estimate for target 0.0\n"
     ]
    }
   ],
   "source": [
    "x_est = 3 * 100 * 0.05 * 3\n",
    "\n",
    "# Count only instances where our simulates Loss exceeds the implied probability\n",
    "Y = np.array([1 if sim4b() > x_est else 0 for i in range(100)])\n",
    "print(f'Point-estimate for target {round(Y.mean(), 4)}\\nVariance estimate for target {round(Y.var(), 4)}')"
   ]
  }
 ],
 "metadata": {
  "kernelspec": {
   "display_name": "Python 3 (ipykernel)",
   "language": "python",
   "name": "python3"
  },
  "language_info": {
   "codemirror_mode": {
    "name": "ipython",
    "version": 3
   },
   "file_extension": ".py",
   "mimetype": "text/x-python",
   "name": "python",
   "nbconvert_exporter": "python",
   "pygments_lexer": "ipython3",
   "version": "3.9.7"
  }
 },
 "nbformat": 4,
 "nbformat_minor": 5
}
