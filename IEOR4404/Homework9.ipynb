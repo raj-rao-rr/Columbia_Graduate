{
 "cells": [
  {
   "cell_type": "code",
   "execution_count": 3,
   "id": "71c63eee-8e61-43e7-a07f-27507e1e394b",
   "metadata": {},
   "outputs": [],
   "source": [
    "import numpy as np \n",
    "import pandas as pd\n",
    "import scipy.stats as stats\n",
    "import matplotlib.pyplot as plt"
   ]
  },
  {
   "cell_type": "markdown",
   "id": "81b330ca-2b44-4bfd-baf2-1a1fb38acc59",
   "metadata": {},
   "source": [
    "### Problem 1"
   ]
  },
  {
   "cell_type": "code",
   "execution_count": 7,
   "id": "544b63b0-cf65-483c-985a-76989ee182ae",
   "metadata": {},
   "outputs": [],
   "source": [
    "def sim1b(arrival_rate:float, s1_rate:float, s2_rate:float, p:float, T:int=10):\n",
    "    t = 0\n",
    "    X1, X2 = 0, 0\n",
    "    s1, s2 = np.random.exponential(s1_rate), np.random.exponential(s2_rate)\n",
    "    \n",
    "    # itterate through each arrrival time (expoential) to time T \n",
    "    while t < T:\n",
    "        arrival = np.random.exponential(arrival_rate)\n",
    "        \n",
    "        if t == 0:\n",
    "            s1 = arrival + np.random.exponential(s1_rate)\n",
    "            s2 = arrival + np.random.exponential(s2_rate)\n",
    "            \n",
    "        t += arrival\n",
    "        X1 += 1 # always increment by 1 inline with arrivals to server 1\n",
    "         \n",
    "        if (X1 > 0):\n",
    "            if s1 < t:\n",
    "                X1 -= 1 # reduce the active customer waiting on server 1\n",
    "                X2 += 1 # move the active customer to server 2\n",
    "                s1 += np.random.exponential(s1_rate)\n",
    "                \n",
    "        if (X2 > 0):\n",
    "            if s2 < t:\n",
    "                X2 -= 1 # reduce the active customer waiting on server 2\n",
    "                s2 += np.random.exponential(s2_rate)\n",
    "                \n",
    "                U = np.random.uniform(0,1)\n",
    "                if U < p:\n",
    "                    X1 += 1 # with probability p we return back to server 1\n",
    "\n",
    "    return X1, X2"
   ]
  },
  {
   "cell_type": "code",
   "execution_count": 43,
   "id": "37abdd9e-d031-4bed-8a2f-4bc2156c4b1a",
   "metadata": {},
   "outputs": [
    {
     "data": {
      "image/png": "[encoded data removed]",
      "text/plain": [
       "<Figure size 720x288 with 2 Axes>"
      ]
     },
     "metadata": {
      "needs_background": "light"
     },
     "output_type": "display_data"
    }
   ],
   "source": [
    "# Generate n samples and plot the underlying distributions\n",
    "Y = np.array([sim1b(arrival_rate=1, s1_rate=2, s2_rate=3, p=0.2, T=10) for i in range(1000)])\n",
    "\n",
    "fig, ax = plt.subplots(1, 2)\n",
    "fig.set_figwidth(10)\n",
    "ax[0].hist(Y[:, 0], label='$X_1(t)$', alpha=0.75, color='blue', density=True)\n",
    "ax[0].legend()\n",
    "ax[1].hist(Y[:, 1], label='$X_2(t)$', alpha=0.75, color='red', density=True)\n",
    "ax[1].legend()\n",
    "plt.show()"
   ]
  },
  {
   "cell_type": "markdown",
   "id": "feb7cd00-2324-4756-a2d5-dd70a8706913",
   "metadata": {},
   "source": [
    "### Problem 2"
   ]
  },
  {
   "cell_type": "code",
   "execution_count": 66,
   "id": "d11a987c-c1f1-490a-b963-95e9ba067180",
   "metadata": {},
   "outputs": [],
   "source": [
    "def sim2(C:int=1000, burn:int=100):\n",
    "    \n",
    "    t, c, X1 = 0, 0, 0\n",
    "    waiting_times = []\n",
    "    \n",
    "    while c < C:\n",
    "        # interarrival times are i.i.d Exp(1/2)\n",
    "        interarrival = np.random.exponential(0.5)\n",
    "        t += interarrival\n",
    "        \n",
    "        # First customer waiting time, sum 3 i.i.d Exp(2) random variables\n",
    "        if c == 0:\n",
    "            s = t + np.random.exponential(2, size=3).sum()\n",
    "        \n",
    "        # If waiting time < arrival we add on the next service time\n",
    "        if s < t:\n",
    "            s_time = np.random.exponential(2, size=3).sum()\n",
    "            \n",
    "            # After burn-rate of 100 customers, we append the waiting time\n",
    "            if c > burn:\n",
    "                waiting_times.append(s_time)\n",
    "            \n",
    "            s += s_time\n",
    "        c += 1\n",
    "    return np.array(waiting_times)"
   ]
  },
  {
   "cell_type": "code",
   "execution_count": 67,
   "id": "88839390-5f69-4b17-880a-30eb53a38183",
   "metadata": {},
   "outputs": [
    {
     "name": "stdout",
     "output_type": "stream",
     "text": [
      "The long-run average waiting time of the customers is 6.2617\n"
     ]
    }
   ],
   "source": [
    "print(f'The long-run average waiting time of the customers is {round(sim2().mean(), 4)}')"
   ]
  },
  {
   "cell_type": "markdown",
   "id": "46bb3810-7865-4320-b452-957352f4c852",
   "metadata": {},
   "source": [
    "### Problem 4"
   ]
  },
  {
   "cell_type": "code",
   "execution_count": 17,
   "id": "4a968c0d-7489-420c-a828-ac5d9c6c5f5b",
   "metadata": {},
   "outputs": [],
   "source": [
    "def sim4(mean:float, std:float):\n",
    "    \n",
    "    while True:\n",
    "        # simulate the shifted normal-random variables\n",
    "        X = np.random.normal(mean, std, 4)\n",
    "\n",
    "        # calculate minimum of the sums\n",
    "        min_sum = min(X[0] + X[1], X[2] + X[3], X[0] + X[3], X[1] + X[2])\n",
    "\n",
    "        if min_sum >= 4:\n",
    "            # compute likelihood ratio\n",
    "            weight = np.exp(4 - np.sum(X))\n",
    "            return weight\n",
    "    "
   ]
  },
  {
   "cell_type": "code",
   "execution_count": 18,
   "id": "544918c9-4bb1-4406-bf83-8b02c4abe2b2",
   "metadata": {},
   "outputs": [
    {
     "name": "stdout",
     "output_type": "stream",
     "text": [
      "The long-run average waiting time of the customers is 0.0022\n"
     ]
    }
   ],
   "source": [
    "X = np.array([sim4(2,1) for i in range(100)])\n",
    "print(f'The long-run average waiting time of the customers is {round(X.mean(), 4)}')"
   ]
  },
  {
   "cell_type": "code",
   "execution_count": null,
   "id": "9b9d9e45-4b1f-47b8-8caf-17226f5e3856",
   "metadata": {},
   "outputs": [],
   "source": []
  }
 ],
 "metadata": {
  "kernelspec": {
   "display_name": "Python 3 (ipykernel)",
   "language": "python",
   "name": "python3"
  },
  "language_info": {
   "codemirror_mode": {
    "name": "ipython",
    "version": 3
   },
   "file_extension": ".py",
   "mimetype": "text/x-python",
   "name": "python",
   "nbconvert_exporter": "python",
   "pygments_lexer": "ipython3",
   "version": "3.9.7"
  }
 },
 "nbformat": 4,
 "nbformat_minor": 5
}
