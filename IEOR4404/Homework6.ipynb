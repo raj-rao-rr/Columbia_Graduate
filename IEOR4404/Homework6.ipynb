{
 "cells": [
  {
   "cell_type": "code",
   "execution_count": 3,
   "id": "71c63eee-8e61-43e7-a07f-27507e1e394b",
   "metadata": {},
   "outputs": [],
   "source": [
    "import numpy as np \n",
    "import pandas as pd\n",
    "import scipy.stats as stats\n",
    "import matplotlib.pyplot as plt"
   ]
  },
  {
   "cell_type": "markdown",
   "id": "81b330ca-2b44-4bfd-baf2-1a1fb38acc59",
   "metadata": {},
   "source": [
    "### Problem 1.a\n",
    "\n",
    "$=\\int_0^1 exp{(e^x)}dx$"
   ]
  },
  {
   "cell_type": "code",
   "execution_count": 64,
   "id": "5d860756-3616-4180-849a-b85078162471",
   "metadata": {},
   "outputs": [],
   "source": [
    "def prob1a():\n",
    "    return np.exp(np.exp(np.random.uniform()))"
   ]
  },
  {
   "cell_type": "code",
   "execution_count": 65,
   "id": "10644a24-e54a-43a9-8345-51c16a39cd9a",
   "metadata": {},
   "outputs": [
    {
     "name": "stdout",
     "output_type": "stream",
     "text": [
      "Point estimator of 6.3229\n",
      "E[N] point-estimates with 1000 samples: (6.117, 6.5288)\n"
     ]
    }
   ],
   "source": [
    "X = np.array([prob1a() for i in range(1000)])\n",
    "print(f'Point estimator of {round(X.mean(), 4)}')\n",
    "\n",
    "alpha = 0.95\n",
    "z = stats.norm.ppf(alpha+(1-alpha)/2, loc=0, scale=1)\n",
    "lower, upper = round(X.mean()-z*X.std(ddof=1)/np.sqrt(X.size), 4), \\\n",
    "               round(X.mean()+z*X.std(ddof=1)/np.sqrt(X.size), 4)\n",
    "\n",
    "print(f'E[N] point-estimates with {X.size} samples: ({lower}, {upper})')"
   ]
  },
  {
   "cell_type": "markdown",
   "id": "ff3358e7-9b1e-4a29-9e85-4d322b3b0636",
   "metadata": {},
   "source": [
    "### Problem 1.b\n",
    "\n",
    "$=\\int_{-2}^2 e^{x+x^2}dx$"
   ]
  },
  {
   "cell_type": "code",
   "execution_count": 66,
   "id": "1fa3e809-7c68-4225-a1a3-f11493511809",
   "metadata": {},
   "outputs": [],
   "source": [
    "def prob1b(a, b):\n",
    "    x = np.random.uniform(a, b)\n",
    "    return np.exp(x+x**2)"
   ]
  },
  {
   "cell_type": "code",
   "execution_count": 67,
   "id": "c90ca4b0-c70f-45d9-a398-fce841f3e39a",
   "metadata": {},
   "outputs": [
    {
     "name": "stdout",
     "output_type": "stream",
     "text": [
      "Point estimator of 92.6201\n",
      "E[N] point-estimates with 1000 samples: (77.2428, 107.9972)\n"
     ]
    }
   ],
   "source": [
    "a, b = -2, 2\n",
    "scalar = b - a\n",
    "X = np.array([prob1b(a, b) for i in range(1000)])\n",
    "print(f'Point estimator of {round(X.mean()*scalar, 4)}')\n",
    "\n",
    "alpha = 0.95\n",
    "z = stats.norm.ppf(alpha+(1-alpha)/2, loc=0, scale=1)\n",
    "lower, upper = scalar*round(X.mean()-z*X.std(ddof=1)/np.sqrt(X.size), 4), \\\n",
    "               scalar*round(X.mean()+z*X.std(ddof=1)/np.sqrt(X.size), 4)\n",
    "\n",
    "print(f'E[N] point-estimates with {X.size} samples: ({lower}, {upper})')"
   ]
  },
  {
   "cell_type": "markdown",
   "id": "a612a601-478c-4389-8d30-c372a1655df0",
   "metadata": {},
   "source": [
    "### Problem 1.c\n",
    "\n",
    "$=\\int_0^\\infty x(1+x^2)^{-2}dx$"
   ]
  },
  {
   "cell_type": "code",
   "execution_count": 73,
   "id": "36084343-c2d2-45b8-bf07-6681f456ff99",
   "metadata": {},
   "outputs": [],
   "source": [
    "def prob1c():\n",
    "    x = np.random.uniform()\n",
    "    return (1/x**2) * ((1-x)/x)* (1+ ((1-x)/x)**2)**-2"
   ]
  },
  {
   "cell_type": "code",
   "execution_count": 74,
   "id": "8d7cbb60-d385-471e-bb8c-91321a506a66",
   "metadata": {},
   "outputs": [
    {
     "name": "stdout",
     "output_type": "stream",
     "text": [
      "Point estimator of 0.4911\n",
      "E[N] point-estimates with 1000 samples: (0.4701, 0.5121)\n"
     ]
    }
   ],
   "source": [
    "X = np.array([prob1c() for i in range(1000)])\n",
    "print(f'Point estimator of {round(X.mean(), 4)}')\n",
    "\n",
    "alpha = 0.95\n",
    "z = stats.norm.ppf(alpha+(1-alpha)/2, loc=0, scale=1)\n",
    "lower, upper = round(X.mean()-z*X.std(ddof=1)/np.sqrt(X.size), 4), \\\n",
    "               round(X.mean()+z*X.std(ddof=1)/np.sqrt(X.size), 4)\n",
    "\n",
    "print(f'E[N] point-estimates with {X.size} samples: ({lower}, {upper})')"
   ]
  },
  {
   "cell_type": "markdown",
   "id": "0f12ad9d-4960-476f-8ebc-df9891452b1f",
   "metadata": {},
   "source": [
    "### Problem 1.d\n",
    "\n",
    "$=\\int_0^\\infty \\int_0^{x^2} e^{-(x+y)}sin(xy)dydx$"
   ]
  },
  {
   "cell_type": "code",
   "execution_count": 104,
   "id": "229006ab-16e6-47b5-97dd-15ff227c954b",
   "metadata": {},
   "outputs": [],
   "source": [
    "def prob1d(x:float, y:float, t:float):\n",
    "    return np.exp(-(x + y)) * np.sin(x * y) * (1 / t**2)"
   ]
  },
  {
   "cell_type": "code",
   "execution_count": 115,
   "id": "1e74a0b4-4374-44ab-a0ca-9c0f3a192c51",
   "metadata": {},
   "outputs": [
    {
     "name": "stdout",
     "output_type": "stream",
     "text": [
      "Point estimator of 0.0963\n",
      "E[N] point-estimates with 100000 samples: (0.0953, 0.0974)\n"
     ]
    }
   ],
   "source": [
    "n = 100000\n",
    "t_sim = np.random.uniform(0, 1, size=n)\n",
    "x_sim = 1 / t_sim - 1\n",
    "y_sim = np.random.uniform(0, x_sim**2)\n",
    "\n",
    "X = prob1d(x_sim, y_sim, t_sim)\n",
    "print(f'Point estimator of {round(X.mean(), 4)}')\n",
    "\n",
    "alpha = 0.95\n",
    "z = stats.norm.ppf(alpha+(1-alpha)/2, loc=0, scale=1)\n",
    "lower, upper = round(X.mean()-z*X.std(ddof=1)/np.sqrt(X.size), 4), \\\n",
    "               round(X.mean()+z*X.std(ddof=1)/np.sqrt(X.size), 4)\n",
    "\n",
    "print(f'E[N] point-estimates with {X.size} samples: ({lower}, {upper})')"
   ]
  },
  {
   "cell_type": "markdown",
   "id": "c57fb04b-e530-4dfa-87fb-4a94646663d6",
   "metadata": {},
   "source": [
    "### Problem 2"
   ]
  },
  {
   "cell_type": "code",
   "execution_count": 22,
   "id": "bb79194b-a2a2-4690-8500-f37937f73dee",
   "metadata": {},
   "outputs": [],
   "source": [
    "def cov(X_bar:float, Y_bar:float, XY_bar:float):\n",
    "    \"\"\"\n",
    "    Solve for the covariance of two random variables E[XY]-E[X]E[Y]\n",
    "    \"\"\"\n",
    "    return XY_bar.mean() - X_bar.mean()*Y_bar.mean()\n",
    "\n",
    "def corr(X_bar:float, Y_bar:float, XY_bar:float):\n",
    "    \"\"\"\n",
    "    Solve for the covariance of two random variables Cov(X,Y)/np.sqrt(Var[X]Var[Y])\n",
    "    \"\"\"\n",
    "    return cov(X_bar, Y_bar, XY_bar) / (X_bar.std()*Y_bar.std())"
   ]
  },
  {
   "cell_type": "code",
   "execution_count": 67,
   "id": "280ad888-ce72-4c10-ba2e-0d38dbbbece7",
   "metadata": {},
   "outputs": [
    {
     "name": "stdout",
     "output_type": "stream",
     "text": [
      "Point-Estimates Covariance -0.07999172400407928\n",
      "Point-Estimates Correlation -0.02652856533184286\n"
     ]
    }
   ],
   "source": [
    "n = 1000\n",
    "\n",
    "def sim_1():\n",
    "    U1 = np.random.uniform()\n",
    "    U2 = np.exp(np.random.uniform())\n",
    "    U3 = np.sqrt(1-np.random.uniform()**2)\n",
    "    return U1, U2, U3, U1*U2, U1*U3\n",
    "\n",
    "# Compute the Covariance between uniform and exponential uniform    \n",
    "X1 = np.array([sim_1() for i in range(n)])\n",
    "covariance = cov(X1[:, 0], X1[:, 1], X1[:, 2])\n",
    "print(f'Point-Estimates Covariance {covariance}')\n",
    "\n",
    "# Compute the Correlation between uniform distribution composite\n",
    "X2 = np.array([sim_2() for i in range(n)])\n",
    "correlation = corr(X2[:, 0], X2[:, 1], X2[:, 2])\n",
    "print(f'Point-Estimates Correlation {correlation}')"
   ]
  },
  {
   "cell_type": "code",
   "execution_count": null,
   "id": "46f617cf-75ea-4cef-a16e-f27e5bb57152",
   "metadata": {},
   "outputs": [],
   "source": []
  }
 ],
 "metadata": {
  "kernelspec": {
   "display_name": "Python 3 (ipykernel)",
   "language": "python",
   "name": "python3"
  },
  "language_info": {
   "codemirror_mode": {
    "name": "ipython",
    "version": 3
   },
   "file_extension": ".py",
   "mimetype": "text/x-python",
   "name": "python",
   "nbconvert_exporter": "python",
   "pygments_lexer": "ipython3",
   "version": "3.9.7"
  }
 },
 "nbformat": 4,
 "nbformat_minor": 5
}
