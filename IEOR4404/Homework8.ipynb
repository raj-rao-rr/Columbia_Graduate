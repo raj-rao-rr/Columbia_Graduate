{
 "cells": [
  {
   "cell_type": "code",
   "execution_count": 1,
   "id": "71c63eee-8e61-43e7-a07f-27507e1e394b",
   "metadata": {},
   "outputs": [],
   "source": [
    "import numpy as np \n",
    "import pandas as pd\n",
    "import scipy.stats as stats\n",
    "import matplotlib.pyplot as plt"
   ]
  },
  {
   "cell_type": "code",
   "execution_count": 2,
   "id": "59caef1b-f626-437f-9253-766cdb6f7d2c",
   "metadata": {},
   "outputs": [
    {
     "data": {
      "text/plain": [
       "array([[0.96744763, 0.52946318, 0.61998717, 0.39891043, 0.2596771 ]])"
      ]
     },
     "execution_count": 2,
     "metadata": {},
     "output_type": "execute_result"
    }
   ],
   "source": [
    "np.random.uniform(0, 1, (1,5))"
   ]
  },
  {
   "cell_type": "markdown",
   "id": "81b330ca-2b44-4bfd-baf2-1a1fb38acc59",
   "metadata": {},
   "source": [
    "### Problem 1"
   ]
  },
  {
   "cell_type": "code",
   "execution_count": 42,
   "id": "3c7532d0-55dc-4de9-80fa-69690b68d385",
   "metadata": {},
   "outputs": [],
   "source": [
    "def sim_1b(lam:float=2, T:int=10):\n",
    "    \n",
    "    t = 0              # total accural time taken\n",
    "    free_channels = 3  # the number of message boxes at facility\n",
    "    channels = [0, 0, 0]\n",
    "    \n",
    "    while t < T:\n",
    "        t += np.random.exponential(scale=lam)\n",
    "        \n",
    "        if free_channels > 0:\n",
    "            try:\n",
    "                idx = channels.index(0)\n",
    "                channels[idx] = t + np.random.exponential(scale=1)  \n",
    "            except ValueError:\n",
    "                pass\n",
    "        \n",
    "        channels = [0 if i < t else i for i in channels]\n",
    "        free_channels = len(list(filter(lambda x: x==0, channels)))\n",
    "        \n",
    "    return free_channels"
   ]
  },
  {
   "cell_type": "code",
   "execution_count": 57,
   "id": "e2dc75a1-2aff-4493-8b38-650204155f56",
   "metadata": {},
   "outputs": [
    {
     "name": "stdout",
     "output_type": "stream",
     "text": [
      "Probability all channels are busy at T. = 0.01\n"
     ]
    }
   ],
   "source": [
    "P = np.array([sim_1b(lam=2, T=10) for i in range(100)])\n",
    "print(f'Probability all channels are busy at T. = {(P == 0).sum() / P.size}')"
   ]
  },
  {
   "cell_type": "markdown",
   "id": "feb7cd00-2324-4756-a2d5-dd70a8706913",
   "metadata": {},
   "source": [
    "### Problem 2"
   ]
  },
  {
   "cell_type": "code",
   "execution_count": 12,
   "id": "b65afa26-5d38-4b50-9839-83a9f5c14053",
   "metadata": {},
   "outputs": [],
   "source": [
    "def sim_2c(rho:int=1, T:int=10):\n",
    "    \n",
    "    N = 5\n",
    "    U = np.random.uniform(0,1, size=N)\n",
    "    A_prime = T*np.sort(U)\n",
    "    \n",
    "    residual = []\n",
    "    for arrival in A_prime:\n",
    "        time_remaining = np.random.uniform(arrival, T)\n",
    "        residual.append(time_remaining)\n",
    "    return residual"
   ]
  },
  {
   "cell_type": "code",
   "execution_count": 23,
   "id": "5aa6f7a0-4e85-49c1-a0de-66a484e7bfb7",
   "metadata": {},
   "outputs": [
    {
     "data": {
      "image/png": "[encoded data removed]",
      "text/plain": [
       "<Figure size 432x288 with 1 Axes>"
      ]
     },
     "metadata": {
      "needs_background": "light"
     },
     "output_type": "display_data"
    }
   ],
   "source": [
    "plt.hist([np.array(sim_2c()).mean() for i in range(100)], alpha=0.5)\n",
    "plt.show()"
   ]
  },
  {
   "cell_type": "markdown",
   "id": "96ca8cd4-bb2b-46b2-8d9f-c7b7391bc6f6",
   "metadata": {},
   "source": [
    "### Problem 3"
   ]
  },
  {
   "cell_type": "code",
   "execution_count": 3,
   "id": "b32b79e1-33ed-407a-b415-144cf074f3ff",
   "metadata": {},
   "outputs": [],
   "source": [
    "inhomogeneous_poisson = lambda t: 2 + np.cos(2*np.pi*t)"
   ]
  },
  {
   "cell_type": "code",
   "execution_count": 37,
   "id": "a740f044-4491-4095-bb55-bfdaf9516299",
   "metadata": {},
   "outputs": [],
   "source": [
    "def prob3_interarrival(lam:int=3, T:int=10):\n",
    "    \"\"\"Interarrival Time Generation Approach\"\"\"\n",
    "    \n",
    "    t = 0              # total accural time taken\n",
    "    i = 0\n",
    "    while t < T:\n",
    "        U = np.random.uniform(0, 1)\n",
    "        t = t - np.log(U)/lam\n",
    "        V = np.random.uniform(0, 1)\n",
    "        \n",
    "        if V <= inhomogeneous_poisson(t) / lam:\n",
    "            i+=1\n",
    "        \n",
    "    return i-1"
   ]
  },
  {
   "cell_type": "code",
   "execution_count": 43,
   "id": "15680cee-8ff2-4c8c-a5df-c532488d8b60",
   "metadata": {},
   "outputs": [],
   "source": [
    "def prob3_conditional(lam:int=3, T:int=10):\n",
    "    \"\"\"Conditional Representation Approach\"\"\"\n",
    "    \n",
    "    nT = np.random.poisson(lam*T)\n",
    "    U = np.random.uniform(0, 1, size=nT)\n",
    "    a_prime = T*np.sort(U)\n",
    "    \n",
    "    a_prime = np.array([i if (np.random.uniform() <= inhomogeneous_poisson(i) / lam) \n",
    "                        else 0 for i in a_prime])\n",
    "    \n",
    "    return a_prime[a_prime > 0].size"
   ]
  },
  {
   "cell_type": "code",
   "execution_count": 44,
   "id": "27a9a789-012c-4d6a-b73b-b96e9c5fb51a",
   "metadata": {},
   "outputs": [],
   "source": [
    "def prob3_alternative(lam:int=3, T:int=10):\n",
    "    \"\"\"Alternative Conditional Approach\"\"\"\n",
    "    \n",
    "    nT = np.random.poisson(lam*T)\n",
    "    U = T*np.random.uniform(0, 1, size=nT)\n",
    "    \n",
    "    a_prime = np.array([i if (np.random.uniform() <= inhomogeneous_poisson(i) / lam) \n",
    "                        else 0 for i in U])\n",
    "    \n",
    "    return a_prime[a_prime > 0].size"
   ]
  },
  {
   "cell_type": "code",
   "execution_count": 45,
   "id": "d6f92e08-6ec8-4e00-acb3-a92c6c6b2cc6",
   "metadata": {},
   "outputs": [
    {
     "name": "stdout",
     "output_type": "stream",
     "text": [
      "Expectation of N(t) = 19.944\n",
      "Expectation of N(t) = 19.913\n",
      "Expectation of N(t) = 20.039\n"
     ]
    }
   ],
   "source": [
    "X1 = np.array([prob3_interarrival() for i in range(1000)])\n",
    "X2 = np.array([prob3_conditional() for i in range(1000)])\n",
    "X3 = np.array([prob3_alternative() for i in range(1000)])\n",
    "\n",
    "print(f'Expectation of N(t) = {X1.mean()}')\n",
    "print(f'Expectation of N(t) = {X2.mean()}')\n",
    "print(f'Expectation of N(t) = {X3.mean()}')"
   ]
  }
 ],
 "metadata": {
  "kernelspec": {
   "display_name": "Python 3 (ipykernel)",
   "language": "python",
   "name": "python3"
  },
  "language_info": {
   "codemirror_mode": {
    "name": "ipython",
    "version": 3
   },
   "file_extension": ".py",
   "mimetype": "text/x-python",
   "name": "python",
   "nbconvert_exporter": "python",
   "pygments_lexer": "ipython3",
   "version": "3.9.7"
  }
 },
 "nbformat": 4,
 "nbformat_minor": 5
}
