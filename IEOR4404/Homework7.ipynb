{
 "cells": [
  {
   "cell_type": "code",
   "execution_count": 1,
   "id": "71c63eee-8e61-43e7-a07f-27507e1e394b",
   "metadata": {},
   "outputs": [],
   "source": [
    "import numpy as np \n",
    "import pandas as pd\n",
    "import scipy.stats as stats\n",
    "import matplotlib.pyplot as plt"
   ]
  },
  {
   "cell_type": "markdown",
   "id": "81b330ca-2b44-4bfd-baf2-1a1fb38acc59",
   "metadata": {},
   "source": [
    "### Problem 1"
   ]
  },
  {
   "cell_type": "code",
   "execution_count": 14,
   "id": "50a9bea1-1ecd-491d-910f-69666a5399fd",
   "metadata": {},
   "outputs": [
    {
     "data": {
      "text/plain": [
       "array([[0.5       , 0.33333333, 0.16666667],\n",
       "       [0.        , 0.33333333, 0.66666667],\n",
       "       [0.5       , 0.        , 0.5       ]])"
      ]
     },
     "execution_count": 14,
     "metadata": {},
     "output_type": "execute_result"
    }
   ],
   "source": [
    "markov_chain = np.array([[1/2, 1/3, 1/6], [0, 1/3, 2/3], [1/2, 0, 1/2]])\n",
    "markov_chain"
   ]
  },
  {
   "cell_type": "code",
   "execution_count": 12,
   "id": "9644c82a-439b-442c-811f-b757c2f84d70",
   "metadata": {},
   "outputs": [],
   "source": [
    "def markov_step(u:float, current_state:int, transition_proba:np.ndarray):\n",
    "    \"\"\"\n",
    "    Determine the Markov-Step based on current state \n",
    "    \"\"\"\n",
    "    X = np.cumsum(transition_proba[current_state, :])\n",
    "\n",
    "    for idx, i in enumerate(X):\n",
    "        if idx == 0:\n",
    "            low, upp = 0, X[idx]\n",
    "        else:\n",
    "            low, upp = X[idx-1], X[idx]\n",
    "        \n",
    "        if low < u <= upp:\n",
    "            return idx"
   ]
  },
  {
   "cell_type": "code",
   "execution_count": 18,
   "id": "543298f7-22a3-4f5e-adcc-082d494cfe16",
   "metadata": {},
   "outputs": [],
   "source": [
    "def prob1_sim(N:int, MC:np.ndarray, starting_state:int=0):\n",
    "    \"\"\"\n",
    "    Use Uniform random variable to generate MC sequence/path\n",
    "    \"\"\"\n",
    "    i = starting_state\n",
    "    xarr = [0]*N\n",
    "    for idx in range(N):\n",
    "        U = np.random.uniform(0, 1)\n",
    "        next_step = markov_step(u=U, current_state=i, transition_proba=MC)\n",
    "        xarr[idx] = next_step\n",
    "        i = next_step\n",
    "    return xarr"
   ]
  },
  {
   "cell_type": "markdown",
   "id": "3393ac9a-83f0-4d6d-b262-dfa8fca5adc0",
   "metadata": {},
   "source": [
    "#### 1.C"
   ]
  },
  {
   "cell_type": "code",
   "execution_count": 55,
   "id": "aea44415-7589-450b-86c3-369e28d7eb39",
   "metadata": {},
   "outputs": [
    {
     "name": "stdout",
     "output_type": "stream",
     "text": [
      "P(X_10 = 1|X_0 = 0) = 0.23\n"
     ]
    }
   ],
   "source": [
    "# Simulate 10 steps of the MC, which correspond to X_10, given starting from state 0\n",
    "# Take the last step and simply average the count of sequences that contain 1\n",
    "P = np.array([prob1_sim(N=10, MC=markov_chain, starting_state=0)[-1] for i in range(100)])\n",
    "print(f'P(X_10 = 1|X_0 = 0) = {(P == 1).sum() / P.size}')"
   ]
  },
  {
   "cell_type": "markdown",
   "id": "7c1b0205-2185-4035-9760-8799870f8a16",
   "metadata": {},
   "source": [
    "#### 1.D"
   ]
  },
  {
   "cell_type": "code",
   "execution_count": 59,
   "id": "ad9bcf1a-c4af-48fe-8d80-57c5c5e04afc",
   "metadata": {},
   "outputs": [
    {
     "name": "stdout",
     "output_type": "stream",
     "text": [
      "E[X10|X0 = 0] = 1.09\n"
     ]
    }
   ],
   "source": [
    "# Simulate 10 steps of the MC, which correspond to X_10, given starting from state 0\n",
    "# Take the last step and simply average the terminal value\n",
    "P = np.array([prob1_sim(N=10, MC=markov_chain, starting_state=0)[-1] for i in range(100)])\n",
    "print(f'E[X10|X0 = 0] = {P.mean()}')"
   ]
  },
  {
   "cell_type": "markdown",
   "id": "e254e1e5-b8cf-4973-9519-61943ed7f484",
   "metadata": {},
   "source": [
    "#### 1.E"
   ]
  },
  {
   "cell_type": "code",
   "execution_count": 106,
   "id": "dac94235-bb71-48ec-a88d-d29b05a38b82",
   "metadata": {},
   "outputs": [
    {
     "name": "stdout",
     "output_type": "stream",
     "text": [
      "P(T ≤ 10|X0 = 0) = 0.9\n"
     ]
    }
   ],
   "source": [
    "# Simulate 10 steps of the MC, which correspond to X_10, given starting from state 0\n",
    "# Count the number of instances where 1 is hit within the first ten steps\n",
    "P = np.array([prob1_sim(N=10, MC=markov_chain, starting_state=0) for i in range(100)])\n",
    "P = np.array([1 if 1 in i else 0 for i in P])\n",
    "print(f'P(T ≤ 10|X0 = 0) = {(P == 1).sum() / P.size}')"
   ]
  },
  {
   "cell_type": "markdown",
   "id": "8c2cc7a1-bae8-4e8e-8a3a-dd0bef283af1",
   "metadata": {},
   "source": [
    "#### 1.F"
   ]
  },
  {
   "cell_type": "code",
   "execution_count": 123,
   "id": "6c3a3345-0e10-4210-9c18-b51fe9d6d910",
   "metadata": {},
   "outputs": [
    {
     "name": "stdout",
     "output_type": "stream",
     "text": [
      "E[T|X0 = 0] = 3.13\n"
     ]
    }
   ],
   "source": [
    "# Simulate 1000 steps of the MC, given starting from state 0\n",
    "# Count the average time it takes to arrive first at state 1\n",
    "P = np.array([prob1_sim(N=1000, MC=markov_chain, starting_state=0) for i in range(100)])\n",
    "P = np.array([i.tolist().index(1) if 1 in i else i.size for i in P])\n",
    "print(f'E[T|X0 = 0] = {P.mean()}')"
   ]
  },
  {
   "cell_type": "markdown",
   "id": "23bd519f-35e6-409b-9205-316dfe4d127b",
   "metadata": {},
   "source": [
    "#### 1.G"
   ]
  },
  {
   "cell_type": "code",
   "execution_count": 142,
   "id": "6471428a-ec77-4981-8aba-791a5ea17ba1",
   "metadata": {},
   "outputs": [
    {
     "name": "stdout",
     "output_type": "stream",
     "text": [
      "Long-run proportions: {0: 0.40585858585858586, 1: 0.19161616161616163, 2: 0.4025252525252525}\n"
     ]
    }
   ],
   "source": [
    "P = np.array([prob1_sim(N=10000, MC=markov_chain, starting_state=0)])\n",
    "P = P[:, 100:]\n",
    "long_run_prop = {i : P[P == i].size / P.size for i in [0, 1, 2]}\n",
    "print(f'Long-run proportions: {long_run_prop}')"
   ]
  },
  {
   "cell_type": "markdown",
   "id": "9b492c6e-36c8-4ef0-a1f7-39fc143d9e9b",
   "metadata": {},
   "source": [
    "#### 1.H"
   ]
  },
  {
   "cell_type": "code",
   "execution_count": 144,
   "id": "d12424b5-9ef3-41e4-8f38-bc35eac56e05",
   "metadata": {},
   "outputs": [
    {
     "name": "stdout",
     "output_type": "stream",
     "text": [
      "Long-run average cost 1.7857575757575759\n"
     ]
    }
   ],
   "source": [
    "cost_func = {0:1, 1:3, 2:2}\n",
    "print(f'Long-run average cost {sum([long_run_prop[i]*cost_func[i] for i in long_run_prop])}')"
   ]
  },
  {
   "cell_type": "markdown",
   "id": "ff3358e7-9b1e-4a29-9e85-4d322b3b0636",
   "metadata": {},
   "source": [
    "### Problem 2"
   ]
  },
  {
   "cell_type": "code",
   "execution_count": 5,
   "id": "119b196a-e68a-44ba-80f0-4353643fd61d",
   "metadata": {},
   "outputs": [
    {
     "data": {
      "text/plain": [
       "array([[0.2, 0.8],\n",
       "       [0.6, 0.4]])"
      ]
     },
     "execution_count": 5,
     "metadata": {},
     "output_type": "execute_result"
    }
   ],
   "source": [
    "alpha = 0.2 \n",
    "beta = 0.4\n",
    "markov_chain = np.array([[alpha, 1-alpha], [1-beta, beta]])\n",
    "markov_chain"
   ]
  },
  {
   "cell_type": "code",
   "execution_count": 9,
   "id": "dddae1b4-6e09-46cc-aeaf-5ffb480e1621",
   "metadata": {},
   "outputs": [],
   "source": [
    "def markov_step(u:float, current_state:int, transition_proba:np.ndarray):\n",
    "    \"\"\"\n",
    "    Determine the Markov-Step based on current state \n",
    "    \"\"\"\n",
    "    X = np.cumsum(transition_proba[current_state, :])\n",
    "    \n",
    "    for idx, i in enumerate(X):\n",
    "        if idx == 0:\n",
    "            low, upp = 0, X[idx]\n",
    "        else:\n",
    "            low, upp = X[idx-1], X[idx]\n",
    "        \n",
    "        if low < u <= upp:\n",
    "            return idx"
   ]
  },
  {
   "cell_type": "markdown",
   "id": "42a356fd-ecf3-4f78-ae2f-cf199f801e1f",
   "metadata": {},
   "source": [
    "#### 2.B"
   ]
  },
  {
   "cell_type": "code",
   "execution_count": 179,
   "id": "357be002-80d1-4cbb-a1f5-2f7f9a8a3ada",
   "metadata": {},
   "outputs": [],
   "source": [
    "def prob2b_sim(N:int, MC:np.ndarray, starting_state:int=0, starting_active:int=10, max_ppl:int=100):\n",
    "    \"\"\"\n",
    "    Use Uniform random variable to generate MC sequence/path\n",
    "    \"\"\"\n",
    "    i = starting_active\n",
    "    j = starting_state\n",
    "    \n",
    "    xarr = [0]*N\n",
    "    for idx in range(N):\n",
    "        U = np.random.uniform(0, 1)\n",
    "        next_step = markov_step(u=U, current_state=j, transition_proba=MC)\n",
    "        \n",
    "        if next_step == 0:\n",
    "            i = 100 if i + 1 > 100 else i + 1\n",
    "        else:\n",
    "            i = 0 if i - 1 < 0 else i - 1\n",
    "        \n",
    "        j = next_step\n",
    "        xarr[idx] = i   \n",
    "       \n",
    "    return xarr"
   ]
  },
  {
   "cell_type": "code",
   "execution_count": 187,
   "id": "5fc69d11-f79d-424e-a9d5-a620c5add055",
   "metadata": {},
   "outputs": [
    {
     "name": "stdout",
     "output_type": "stream",
     "text": [
      "Long-Run Average of active: 1.4097777777777778\n"
     ]
    }
   ],
   "source": [
    "P = np.array(prob2b_sim(N=10000, MC=markov_chain, starting_state=0, starting_active=10, max_ppl=100))\n",
    "print(f'Long-Run Average of active: {P[1000:].mean()}')"
   ]
  },
  {
   "cell_type": "markdown",
   "id": "c7b0f5f6-2ec8-4717-9841-5b5c9f9e71a6",
   "metadata": {},
   "source": [
    "#### 2.D"
   ]
  },
  {
   "cell_type": "code",
   "execution_count": 38,
   "id": "a16aac98-081f-43db-8cae-b852613bba7c",
   "metadata": {},
   "outputs": [],
   "source": [
    "def prob2d_sim(N:int, MC:np.ndarray, starting_state:int=0, active:int=10, inactive:int=0, max_ppl:int=100):\n",
    "    \"\"\"\n",
    "    Use Uniform random variable to generate MC sequence/path\n",
    "    \"\"\"\n",
    "\n",
    "    next_step1, next_step2 = starting_state, starting_state\n",
    "    xarr = [0]*N\n",
    "    \n",
    "    for idx in range(N):\n",
    "        U1 = np.random.uniform(0, 1)\n",
    "        next_step1 = markov_step(u=U1, current_state=next_step1, transition_proba=MC)\n",
    "        \n",
    "        if next_step1 == 0:\n",
    "            active = 100 if active + 1 > 100 else active + 1\n",
    "        else:\n",
    "            active = 0 if active - 1 < 0 else active - 1\n",
    "        \n",
    "        U2 = np.random.uniform(0, 1)\n",
    "        next_step2 = markov_step(u=U2, current_state=next_step2, transition_proba=MC)\n",
    "        \n",
    "        if next_step2 == 0:\n",
    "            inactive = 100 if inactive + 1 > 100 else inactive + 1\n",
    "        else:\n",
    "            inactive = 0 if inactive - 1 < 0 else inactive - 1\n",
    "        \n",
    "        xarr[idx] = (active, inactive)   \n",
    "       \n",
    "    return xarr"
   ]
  },
  {
   "cell_type": "code",
   "execution_count": 51,
   "id": "a426e4ba-408c-44f5-889e-b5e141a50da2",
   "metadata": {},
   "outputs": [
    {
     "name": "stdout",
     "output_type": "stream",
     "text": [
      "Long-Run Average of active: 0.38855555555555554\n"
     ]
    }
   ],
   "source": [
    "P = np.array(prob2d_sim(N=10000, MC=markov_chain, starting_state=0, active=10, inactive=0, max_ppl=100))\n",
    "val = P[1000:,0] > P[1000:,1]\n",
    "print(f'Long-Run Average of active: {val.sum() / val.size}')"
   ]
  },
  {
   "cell_type": "markdown",
   "id": "a612a601-478c-4389-8d30-c372a1655df0",
   "metadata": {},
   "source": [
    "### Problem 3"
   ]
  },
  {
   "cell_type": "code",
   "execution_count": 30,
   "id": "8e530b90-60d9-4216-8213-4bc1d853a336",
   "metadata": {},
   "outputs": [],
   "source": [
    "def metropolis_hastings(X:np.ndarray, n_iter:int=1000, burn_in:int=100):\n",
    "    \n",
    "    d = 10\n",
    "    target = 20\n",
    "    samples = []\n",
    "    \n",
    "    for i in range(n_iter):\n",
    "        Y = X + np.random.uniform(-1, 1, size=d)\n",
    "        \n",
    "        if (np.prod(Y) > target) and (Y > 0).all():\n",
    "            proba = min(1, np.exp(-np.sum(Y)) / np.exp(-np.sum(X)))\n",
    "        else:\n",
    "            proba = 0 \n",
    "        \n",
    "        if np.random.uniform(0, 1) < proba:\n",
    "            X = Y\n",
    "            if i > burn_in:\n",
    "                samples.append(Y.copy())\n",
    "    \n",
    "    return samples"
   ]
  },
  {
   "cell_type": "code",
   "execution_count": 31,
   "id": "eb93f520-2706-4a43-b036-aeb449480ca4",
   "metadata": {},
   "outputs": [],
   "source": [
    "initial_value = np.ones(10)*20**(1/10)\n",
    "x_dist = metropolis_hastings(X=initial_value, n_iter=1000, burn_in=100)"
   ]
  },
  {
   "cell_type": "code",
   "execution_count": 32,
   "id": "a776eb77-fee5-45af-8cc8-fad5f9213078",
   "metadata": {},
   "outputs": [
    {
     "data": {
      "image/png": "[encoded data removed]",
      "text/plain": [
       "<Figure size 432x288 with 1 Axes>"
      ]
     },
     "metadata": {
      "needs_background": "light"
     },
     "output_type": "display_data"
    }
   ],
   "source": [
    "plt.hist(np.array(x_dist).flatten(), alpha=0.5, density=True)\n",
    "plt.show()"
   ]
  },
  {
   "cell_type": "markdown",
   "id": "0f12ad9d-4960-476f-8ebc-df9891452b1f",
   "metadata": {},
   "source": [
    "### Problem 4"
   ]
  },
  {
   "cell_type": "code",
   "execution_count": 48,
   "id": "00f7eb22-1c67-4eb1-8923-eeb5a0ac0317",
   "metadata": {},
   "outputs": [],
   "source": [
    "def metropolis_hastings_4a(initial_vector:tuple, n_iter:int=1000, burn_in:int=100):\n",
    "    \n",
    "    x, y, z = initial_vector[0], initial_vector[1], initial_vector[2]\n",
    "    samples = []\n",
    "    \n",
    "    for i in range(n_iter):\n",
    "        x_bar = x + np.random.uniform(-1, 1)\n",
    "        y_bar = y + np.random.uniform(-1, 1)\n",
    "        z_bar = z + np.random.uniform(-1, 1)\n",
    "        \n",
    "        if (x_bar > 0) and (y_bar > 0) and (z_bar > 0):\n",
    "            \n",
    "            num = np.exp(-(x_bar + y_bar + z_bar + x_bar*y_bar + x_bar*z_bar + y_bar*z_bar))\n",
    "            dem = np.exp(-(x + y + z + x*y + x*z + y*z))\n",
    "            \n",
    "            proba = min(1, num/dem)\n",
    "        else:\n",
    "            proba = 0 \n",
    "        \n",
    "        if np.random.uniform(0, 1) < proba:\n",
    "            x = x_bar\n",
    "            y = y_bar\n",
    "            z = z_bar\n",
    "            \n",
    "            if i > burn_in:\n",
    "                samples.append(x*y*z)\n",
    "    \n",
    "    return samples"
   ]
  },
  {
   "cell_type": "code",
   "execution_count": 49,
   "id": "9579e0eb-4d8a-4b56-b708-f23c3f8d7a34",
   "metadata": {},
   "outputs": [
    {
     "name": "stdout",
     "output_type": "stream",
     "text": [
      "E[XYZ]: 0.1217586246686568\n"
     ]
    }
   ],
   "source": [
    "x_dist = metropolis_hastings_4a(initial_vector=[1, 1, 1], n_iter=1000, burn_in=100)\n",
    "print(f'E[XYZ]: {np.array(x_dist).mean()}') "
   ]
  },
  {
   "cell_type": "code",
   "execution_count": 50,
   "id": "95e5f990-efb1-4ef8-8f06-00ceb9f8572c",
   "metadata": {},
   "outputs": [],
   "source": [
    "def gibbs_sampler_4b(initial_vector:tuple, n_iter:int=1000, burn_in:int=100):\n",
    "    \n",
    "    x, y, z = initial_vector[0], initial_vector[1], initial_vector[2]\n",
    "    samples = []\n",
    "    \n",
    "    def func(xval, yval, zval) -> float:\n",
    "        return np.exp(-(xval + yval + zval + xval*yval + xval*zval + yval*zval))\n",
    "    \n",
    "    for i in range(n_iter):\n",
    "        x_bar = x + np.random.uniform(-1, 1)\n",
    "        y_bar = y + np.random.uniform(-1, 1)\n",
    "        z_bar = z + np.random.uniform(-1, 1)\n",
    "        \n",
    "        if (x_bar > 0):\n",
    "            proba = min(1, func(x_bar, y, z)/func(x, y, z))\n",
    "            if np.random.uniform(0, 1) < proba:\n",
    "                x = x_bar\n",
    "\n",
    "        if (y_bar > 0):\n",
    "            proba = min(1, func(x, y_bar, z)/func(x, y, z))\n",
    "            if np.random.uniform(0, 1) < proba:\n",
    "                y = y_bar\n",
    "    \n",
    "        if (z_bar > 0):\n",
    "            proba = min(1, func(x, y, z_bar)/func(x, y, z))\n",
    "            if np.random.uniform(0, 1) < proba:\n",
    "                z = z_bar\n",
    "        \n",
    "        if i > burn_in:\n",
    "            samples.append(x*y*z)\n",
    "    \n",
    "    return samples"
   ]
  },
  {
   "cell_type": "code",
   "execution_count": 51,
   "id": "dadc7a4b-20d9-474a-b1d9-2cb7487a9ab7",
   "metadata": {},
   "outputs": [
    {
     "name": "stdout",
     "output_type": "stream",
     "text": [
      "E[XYZ]: 0.09302571920824325\n"
     ]
    }
   ],
   "source": [
    "x_dist = gibbs_sampler_4b(initial_vector=[1, 1, 1], n_iter=1000, burn_in=100)\n",
    "print(f'E[XYZ]: {np.array(x_dist).mean()}') "
   ]
  },
  {
   "cell_type": "code",
   "execution_count": null,
   "id": "3c7532d0-55dc-4de9-80fa-69690b68d385",
   "metadata": {},
   "outputs": [],
   "source": []
  }
 ],
 "metadata": {
  "kernelspec": {
   "display_name": "Python 3 (ipykernel)",
   "language": "python",
   "name": "python3"
  },
  "language_info": {
   "codemirror_mode": {
    "name": "ipython",
    "version": 3
   },
   "file_extension": ".py",
   "mimetype": "text/x-python",
   "name": "python",
   "nbconvert_exporter": "python",
   "pygments_lexer": "ipython3",
   "version": "3.9.7"
  }
 },
 "nbformat": 4,
 "nbformat_minor": 5
}
