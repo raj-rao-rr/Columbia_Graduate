{
 "cells": [
  {
   "cell_type": "code",
   "execution_count": 1,
   "id": "71c63eee-8e61-43e7-a07f-27507e1e394b",
   "metadata": {},
   "outputs": [],
   "source": [
    "import numpy as np \n",
    "import pandas as pd\n",
    "import scipy.stats as stats\n",
    "import matplotlib.pyplot as plt"
   ]
  },
  {
   "cell_type": "markdown",
   "id": "81b330ca-2b44-4bfd-baf2-1a1fb38acc59",
   "metadata": {},
   "source": [
    "### Problem 1\n",
    "\n",
    "$N_1 = min_{n}{\\sum_{i=1}^nU_i > 1}, U_i\\sim U(0,1)$\n",
    "\n",
    "$N_2 = min_{n}{\\sum_{i=1}^nU_i > 2}, U_i\\sim U(0,1)$"
   ]
  },
  {
   "cell_type": "code",
   "execution_count": 34,
   "id": "4f9bd404-12c1-448c-8d6b-90a2393f946e",
   "metadata": {},
   "outputs": [],
   "source": [
    "def func_prob1(limit_sum:int=1):\n",
    "    X = 0\n",
    "    N = 0\n",
    "    while X < limit_sum:\n",
    "        U = np.random.uniform(0, 1)\n",
    "        X += U\n",
    "        N += 1\n",
    "    return N"
   ]
  },
  {
   "cell_type": "code",
   "execution_count": 71,
   "id": "cdfb3069-1079-4028-a55e-4a036d68a830",
   "metadata": {},
   "outputs": [
    {
     "name": "stdout",
     "output_type": "stream",
     "text": [
      "Solve for N1 point-estimates at 95% conf.\n",
      "E[N_1] point-estimates with 100 samples: (2.7867, 2.4733)\n",
      "E[N_1] point-estimates with 1000 samples: (2.8107, 2.6993)\n",
      "E[N_1] point-estimates with 10000 samples: (2.7287, 2.6947)\n",
      "\n",
      "Solve for N2 point-estimates at 95% conf.\n",
      "E[N_2] point-estimates with 100 samples: (5.0523, 4.5477)\n",
      "E[N_2] point-estimates with 1000 samples: (4.7252, 4.5748)\n",
      "E[N_2] point-estimates with 10000 samples: (4.6956, 4.6476)\n"
     ]
    }
   ],
   "source": [
    "print('Solve for N1 point-estimates at 95% conf.')\n",
    "for n in [100, 1000, 10000]:\n",
    "    X = np.array([func_prob1(limit_sum=1) for i in range(n)])\n",
    "    z = stats.norm.ppf(0.975, loc=0, scale=1)\n",
    "    upper, lower = round(X.mean()-z*X.std(ddof=1)/np.sqrt(X.size), 4), round(X.mean()+z*X.std(ddof=1)/np.sqrt(X.size), 4)\n",
    "    print(f'E[N_1] point-estimates with {X.size} samples: ({lower}, {upper})')\n",
    "    \n",
    "print('\\nSolve for N2 point-estimates at 95% conf.')\n",
    "for n in [100, 1000, 10000]:\n",
    "    X = np.array([func_prob1(limit_sum=2) for i in range(n)])\n",
    "    z = stats.norm.ppf(0.975, loc=0, scale=1)\n",
    "    upper, lower = round(X.mean()-z*X.std(ddof=1)/np.sqrt(X.size), 4), round(X.mean()+z*X.std(ddof=1)/np.sqrt(X.size), 4)\n",
    "    print(f'E[N_2] point-estimates with {X.size} samples: ({lower}, {upper})')"
   ]
  },
  {
   "cell_type": "markdown",
   "id": "8d3d0084-076f-4aa6-a65f-126572a9d847",
   "metadata": {},
   "source": [
    "### Problem 2"
   ]
  },
  {
   "cell_type": "code",
   "execution_count": 59,
   "id": "5d860756-3616-4180-849a-b85078162471",
   "metadata": {},
   "outputs": [],
   "source": [
    "def func_prob2_inner():\n",
    "    \n",
    "    def func_prob2_inner(x:float, y:float):\n",
    "        return np.exp(-(x+y))*np.sin(x*y)\n",
    "    \n",
    "    U = np.random.uniform(0, 1)\n",
    "    V = np.random.uniform(0, 1)\n",
    "    x = -np.log(U)\n",
    "    y = x**2 * V\n",
    "    \n",
    "    return func_prob2_inner(x, y)"
   ]
  },
  {
   "cell_type": "code",
   "execution_count": 84,
   "id": "10644a24-e54a-43a9-8345-51c16a39cd9a",
   "metadata": {},
   "outputs": [
    {
     "name": "stdout",
     "output_type": "stream",
     "text": [
      "Point estimator of 0.0313\n",
      "E[N] point-estimates with 1000 samples: (0.0337, 0.029)\n"
     ]
    }
   ],
   "source": [
    "X = np.array([func_prob2_inner() for i in range(1000)])\n",
    "print(f'Point estimator of {round(X.mean(), 4)}')\n",
    "z = stats.norm.ppf(0.975, loc=0, scale=1)\n",
    "upper, lower = round(X.mean()-z*X.std(ddof=1)/np.sqrt(X.size), 4), round(X.mean()+z*X.std(ddof=1)/np.sqrt(X.size), 4)\n",
    "print(f'E[N] point-estimates with {X.size} samples: ({lower}, {upper})')"
   ]
  },
  {
   "cell_type": "markdown",
   "id": "cdad198c-dba1-4260-9c67-8540bda2289e",
   "metadata": {},
   "source": [
    "### Problem 3"
   ]
  },
  {
   "cell_type": "code",
   "execution_count": 68,
   "id": "e6dfdcd4-ee9c-4568-b8d9-00dbce2f0373",
   "metadata": {},
   "outputs": [
    {
     "name": "stdout",
     "output_type": "stream",
     "text": [
      "n = 3074.0\n"
     ]
    }
   ],
   "source": [
    "z = stats.norm.ppf(0.975, loc=0, scale=1)\n",
    "print(f'n = {np.ceil(2*(z/0.05)**2)}')"
   ]
  },
  {
   "cell_type": "markdown",
   "id": "43dcb926-54e3-4428-a7ba-4a96b88913c9",
   "metadata": {},
   "source": [
    "### Problem 4"
   ]
  },
  {
   "cell_type": "code",
   "execution_count": 75,
   "id": "30404486-75ab-4dd3-a552-32750f6f6f64",
   "metadata": {},
   "outputs": [
    {
     "name": "stdout",
     "output_type": "stream",
     "text": [
      "E[N] point-estimates with 95% confidence: (130.2128, 115.4872)\n"
     ]
    }
   ],
   "source": [
    "X = np.array([102, 112, 131, 107, 114, 95, 133, 145, 139, 117, \n",
    "              93, 111, 124, 122, 136, 141, 119, 122, 151, 143])\n",
    "z = stats.norm.ppf(0.975, loc=0, scale=1)\n",
    "upper, lower = round(X.mean()-z*X.std(ddof=1)/np.sqrt(X.size), 4), \\\n",
    "    round(X.mean()+z*X.std(ddof=1)/np.sqrt(X.size), 4)\n",
    "print(f'E[N] point-estimates with 95% confidence: ({lower}, {upper})')"
   ]
  },
  {
   "cell_type": "code",
   "execution_count": 82,
   "id": "3f7fa10e-a1c8-4b77-aa3d-80b603a9a813",
   "metadata": {},
   "outputs": [
    {
     "name": "stdout",
     "output_type": "stream",
     "text": [
      "n = 7491.0\n"
     ]
    }
   ],
   "source": [
    "z = stats.norm.ppf(1-(1-0.99)/2, loc=0, scale=1)\n",
    "print(f'n = {np.ceil(((X.std(ddof=1)*z)/0.5)**2)}')"
   ]
  },
  {
   "cell_type": "markdown",
   "id": "8344047a-2b26-402d-9a8f-8f1d119e3591",
   "metadata": {},
   "source": [
    "### Problem 5"
   ]
  },
  {
   "cell_type": "code",
   "execution_count": 92,
   "id": "e3006eb1-3c91-4d9d-9ba1-ac4f88d800de",
   "metadata": {},
   "outputs": [
    {
     "name": "stdout",
     "output_type": "stream",
     "text": [
      "E[N] point-estimates with 1000 samples: (0.558, 0.842)\n"
     ]
    }
   ],
   "source": [
    "z = stats.norm.ppf(1-(1-0.95)/2, loc=0, scale=1)\n",
    "lower, upper  = round(0.7-z*np.sqrt((0.7*0.3) / 40), 4), round(0.7+z*np.sqrt((0.7*0.3) / 40), 4)\n",
    "print(f'E[N] point-estimates with {X.size} samples: ({lower}, {upper})')"
   ]
  },
  {
   "cell_type": "markdown",
   "id": "73170e7a-4cc2-4a0c-b990-f975e3b2675b",
   "metadata": {},
   "source": [
    "### Problem 6"
   ]
  },
  {
   "cell_type": "code",
   "execution_count": 18,
   "id": "3e270735-7fc6-4ca9-b285-53a062aacf61",
   "metadata": {},
   "outputs": [
    {
     "name": "stdout",
     "output_type": "stream",
     "text": [
      "n = 21504572.0\n"
     ]
    }
   ],
   "source": [
    "X = np.array([5, 4, 9, 6, 21, 12, 7, 14, 17, 11, 20, \n",
    "              7, 10, 21, 15, 26, 9, 13, 8, 6])\n",
    "z = stats.norm.ppf(1-(1-0.99)/2, loc=0, scale=1)\n",
    "print(f'n = {np.ceil(((np.std(X**2, ddof=1)*z)/0.1)**2)}')"
   ]
  },
  {
   "cell_type": "code",
   "execution_count": null,
   "id": "2b93a500-81a5-4b77-83d9-eef02971468d",
   "metadata": {},
   "outputs": [],
   "source": []
  }
 ],
 "metadata": {
  "kernelspec": {
   "display_name": "Python 3 (ipykernel)",
   "language": "python",
   "name": "python3"
  },
  "language_info": {
   "codemirror_mode": {
    "name": "ipython",
    "version": 3
   },
   "file_extension": ".py",
   "mimetype": "text/x-python",
   "name": "python",
   "nbconvert_exporter": "python",
   "pygments_lexer": "ipython3",
   "version": "3.9.7"
  }
 },
 "nbformat": 4,
 "nbformat_minor": 5
}
