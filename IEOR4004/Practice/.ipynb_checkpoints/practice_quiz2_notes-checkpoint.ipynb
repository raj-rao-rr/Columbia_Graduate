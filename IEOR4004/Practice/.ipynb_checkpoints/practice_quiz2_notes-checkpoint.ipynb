{
 "cells": [
  {
   "cell_type": "code",
   "execution_count": 1,
   "id": "2993659b",
   "metadata": {},
   "outputs": [],
   "source": [
    "import pandas as pd \n",
    "import numpy as np \n",
    "import gurobipy as gp"
   ]
  },
  {
   "cell_type": "markdown",
   "id": "a20079f0",
   "metadata": {},
   "source": [
    "### Question 1"
   ]
  },
  {
   "cell_type": "code",
   "execution_count": 2,
   "id": "ccb802d8",
   "metadata": {},
   "outputs": [],
   "source": [
    "people = ['Carpenter', 'Plumber', 'Engineer']\n",
    "tasks = ['SOLDERING', 'FRAMING', 'DRAFTING', 'WIRING']\n",
    "\n",
    "inefficiency = {\n",
    "('Carpenter', 'SOLDERING'): 4,\n",
    "('Carpenter', 'FRAMING'): 6,\n",
    "('Carpenter', 'DRAFTING'): 4,\n",
    "('Carpenter', 'WIRING'): 4,\n",
    "('Plumber', 'SOLDERING'): 3,\n",
    "('Plumber', 'FRAMING'): 4,\n",
    "('Plumber', 'DRAFTING'): 2,\n",
    "('Plumber', 'WIRING'): 3,\n",
    "('Engineer', 'SOLDERING'): 7,\n",
    "('Engineer', 'FRAMING'): 5,\n",
    "('Engineer', 'DRAFTING'): 6,\n",
    "('Engineer', 'WIRING'): 5,\n",
    "}"
   ]
  },
  {
   "cell_type": "code",
   "execution_count": 3,
   "id": "8006854e",
   "metadata": {},
   "outputs": [
    {
     "name": "stdout",
     "output_type": "stream",
     "text": [
      "Gurobi Optimizer version 10.0.3 build v10.0.3rc0 (win64)\n",
      "\n",
      "CPU model: 11th Gen Intel(R) Core(TM) i7-11800H @ 2.30GHz, instruction set [SSE2|AVX|AVX2|AVX512]\n",
      "Thread count: 8 physical cores, 16 logical processors, using up to 16 threads\n",
      "\n",
      "Optimize a model with 7 rows, 12 columns and 24 nonzeros\n",
      "Model fingerprint: 0x33ac6253\n",
      "Variable types: 0 continuous, 12 integer (12 binary)\n",
      "Coefficient statistics:\n",
      "  Matrix range     [1e+00, 1e+00]\n",
      "  Objective range  [2e+00, 7e+00]\n",
      "  Bounds range     [1e+00, 1e+00]\n",
      "  RHS range        [1e+00, 1e+00]\n",
      "Found heuristic solution: objective 12.0000000\n",
      "Presolve time: 0.00s\n",
      "Presolved: 7 rows, 12 columns, 24 nonzeros\n",
      "Variable types: 0 continuous, 12 integer (12 binary)\n",
      "\n",
      "Root relaxation: objective 1.100000e+01, 3 iterations, 0.00 seconds (0.00 work units)\n",
      "\n",
      "    Nodes    |    Current Node    |     Objective Bounds      |     Work\n",
      " Expl Unexpl |  Obj  Depth IntInf | Incumbent    BestBd   Gap | It/Node Time\n",
      "\n",
      "*    0     0               0      11.0000000   11.00000  0.00%     -    0s\n",
      "\n",
      "Explored 1 nodes (3 simplex iterations) in 0.01 seconds (0.00 work units)\n",
      "Thread count was 16 (of 16 available processors)\n",
      "\n",
      "Solution count 2: 11 12 \n",
      "\n",
      "Optimal solution found (tolerance 1.00e-04)\n",
      "Best objective 1.100000000000e+01, best bound 1.100000000000e+01, gap 0.0000%\n",
      "\n",
      "Output Matrix...\n"
     ]
    },
    {
     "data": {
      "text/html": [
       "<div>\n",
       "<style scoped>\n",
       "    .dataframe tbody tr th:only-of-type {\n",
       "        vertical-align: middle;\n",
       "    }\n",
       "\n",
       "    .dataframe tbody tr th {\n",
       "        vertical-align: top;\n",
       "    }\n",
       "\n",
       "    .dataframe thead th {\n",
       "        text-align: right;\n",
       "    }\n",
       "</style>\n",
       "<table border=\"1\" class=\"dataframe\">\n",
       "  <thead>\n",
       "    <tr style=\"text-align: right;\">\n",
       "      <th></th>\n",
       "      <th>SOLDERING</th>\n",
       "      <th>FRAMING</th>\n",
       "      <th>DRAFTING</th>\n",
       "      <th>WIRING</th>\n",
       "    </tr>\n",
       "  </thead>\n",
       "  <tbody>\n",
       "    <tr>\n",
       "      <th>Carpenter</th>\n",
       "      <td>1.0</td>\n",
       "      <td>-0.0</td>\n",
       "      <td>-0.0</td>\n",
       "      <td>-0.0</td>\n",
       "    </tr>\n",
       "    <tr>\n",
       "      <th>Plumber</th>\n",
       "      <td>-0.0</td>\n",
       "      <td>-0.0</td>\n",
       "      <td>1.0</td>\n",
       "      <td>-0.0</td>\n",
       "    </tr>\n",
       "    <tr>\n",
       "      <th>Engineer</th>\n",
       "      <td>-0.0</td>\n",
       "      <td>1.0</td>\n",
       "      <td>-0.0</td>\n",
       "      <td>-0.0</td>\n",
       "    </tr>\n",
       "  </tbody>\n",
       "</table>\n",
       "</div>"
      ],
      "text/plain": [
       "           SOLDERING  FRAMING  DRAFTING  WIRING\n",
       "Carpenter        1.0     -0.0      -0.0    -0.0\n",
       "Plumber         -0.0     -0.0       1.0    -0.0\n",
       "Engineer        -0.0      1.0      -0.0    -0.0"
      ]
     },
     "execution_count": 3,
     "metadata": {},
     "output_type": "execute_result"
    }
   ],
   "source": [
    "m = gp.Model('question_1.a')\n",
    "\n",
    "alloc = {i: m.addVar(vtype=gp.GRB.BINARY, name=f'{i[0]}_{i[1]}') for i in inefficiency}\n",
    "\n",
    "# part A: we assume each person can only perform one task \n",
    "m.setObjective(sum(alloc[x] * inefficiency[x] for x in inefficiency), gp.GRB.MINIMIZE)\n",
    "\n",
    "for ppl in people:\n",
    "    m.addConstr(sum(alloc[(ppl,t)] for t in tasks) == 1)\n",
    "    \n",
    "for tsk in tasks:\n",
    "    m.addConstr(sum(alloc[(p,tsk)] for p in people) <= 1)\n",
    "\n",
    "m.optimize()\n",
    "\n",
    "print('\\nOutput Matrix...')\n",
    "out = pd.DataFrame({x[0]: {t: alloc[(x[0], t)].x for t in tasks} for x in alloc}).T\n",
    "out"
   ]
  },
  {
   "cell_type": "code",
   "execution_count": 4,
   "id": "cca49141",
   "metadata": {},
   "outputs": [
    {
     "name": "stdout",
     "output_type": "stream",
     "text": [
      "Gurobi Optimizer version 10.0.3 build v10.0.3rc0 (win64)\n",
      "\n",
      "CPU model: 11th Gen Intel(R) Core(TM) i7-11800H @ 2.30GHz, instruction set [SSE2|AVX|AVX2|AVX512]\n",
      "Thread count: 8 physical cores, 16 logical processors, using up to 16 threads\n",
      "\n",
      "Optimize a model with 7 rows, 12 columns and 24 nonzeros\n",
      "Model fingerprint: 0x0405756a\n",
      "Variable types: 0 continuous, 12 integer (12 binary)\n",
      "Coefficient statistics:\n",
      "  Matrix range     [1e+00, 1e+00]\n",
      "  Objective range  [2e+00, 7e+00]\n",
      "  Bounds range     [1e+00, 1e+00]\n",
      "  RHS range        [1e+00, 2e+00]\n",
      "Found heuristic solution: objective 22.0000000\n",
      "Presolve time: 0.00s\n",
      "Presolved: 7 rows, 12 columns, 24 nonzeros\n",
      "Variable types: 0 continuous, 12 integer (12 binary)\n",
      "Found heuristic solution: objective 15.0000000\n",
      "\n",
      "Root relaxation: objective 1.400000e+01, 5 iterations, 0.00 seconds (0.00 work units)\n",
      "\n",
      "    Nodes    |    Current Node    |     Objective Bounds      |     Work\n",
      " Expl Unexpl |  Obj  Depth IntInf | Incumbent    BestBd   Gap | It/Node Time\n",
      "\n",
      "*    0     0               0      14.0000000   14.00000  0.00%     -    0s\n",
      "\n",
      "Explored 1 nodes (5 simplex iterations) in 0.01 seconds (0.00 work units)\n",
      "Thread count was 16 (of 16 available processors)\n",
      "\n",
      "Solution count 3: 14 15 22 \n",
      "\n",
      "Optimal solution found (tolerance 1.00e-04)\n",
      "Best objective 1.400000000000e+01, best bound 1.400000000000e+01, gap 0.0000%\n",
      "\n",
      "Output Matrix...\n"
     ]
    },
    {
     "data": {
      "text/html": [
       "<div>\n",
       "<style scoped>\n",
       "    .dataframe tbody tr th:only-of-type {\n",
       "        vertical-align: middle;\n",
       "    }\n",
       "\n",
       "    .dataframe tbody tr th {\n",
       "        vertical-align: top;\n",
       "    }\n",
       "\n",
       "    .dataframe thead th {\n",
       "        text-align: right;\n",
       "    }\n",
       "</style>\n",
       "<table border=\"1\" class=\"dataframe\">\n",
       "  <thead>\n",
       "    <tr style=\"text-align: right;\">\n",
       "      <th></th>\n",
       "      <th>SOLDERING</th>\n",
       "      <th>FRAMING</th>\n",
       "      <th>DRAFTING</th>\n",
       "      <th>WIRING</th>\n",
       "    </tr>\n",
       "  </thead>\n",
       "  <tbody>\n",
       "    <tr>\n",
       "      <th>Carpenter</th>\n",
       "      <td>1.0</td>\n",
       "      <td>-0.0</td>\n",
       "      <td>-0.0</td>\n",
       "      <td>1.0</td>\n",
       "    </tr>\n",
       "    <tr>\n",
       "      <th>Plumber</th>\n",
       "      <td>0.0</td>\n",
       "      <td>1.0</td>\n",
       "      <td>1.0</td>\n",
       "      <td>0.0</td>\n",
       "    </tr>\n",
       "    <tr>\n",
       "      <th>Engineer</th>\n",
       "      <td>-0.0</td>\n",
       "      <td>-0.0</td>\n",
       "      <td>-0.0</td>\n",
       "      <td>-0.0</td>\n",
       "    </tr>\n",
       "  </tbody>\n",
       "</table>\n",
       "</div>"
      ],
      "text/plain": [
       "           SOLDERING  FRAMING  DRAFTING  WIRING\n",
       "Carpenter        1.0     -0.0      -0.0     1.0\n",
       "Plumber          0.0      1.0       1.0     0.0\n",
       "Engineer        -0.0     -0.0      -0.0    -0.0"
      ]
     },
     "execution_count": 4,
     "metadata": {},
     "output_type": "execute_result"
    }
   ],
   "source": [
    "m = gp.Model('question_1.b')\n",
    "\n",
    "alloc = {i: m.addVar(vtype=gp.GRB.BINARY, name=f'{i[0]}_{i[1]}') for i in inefficiency}\n",
    "\n",
    "# part b: we assume each person can perform two tasks and all tasks must be completed \n",
    "m.setObjective(sum(alloc[x] * inefficiency[x] for x in inefficiency), gp.GRB.MINIMIZE)\n",
    "\n",
    "for ppl in people:\n",
    "    m.addConstr(sum(alloc[(ppl,t)] for t in tasks) <= 2)\n",
    "    \n",
    "for tsk in tasks:\n",
    "    m.addConstr(sum(alloc[(p,tsk)] for p in people) == 1)\n",
    "\n",
    "m.optimize()\n",
    "\n",
    "print('\\nOutput Matrix...')\n",
    "out = pd.DataFrame({x[0]: {t: alloc[(x[0], t)].x for t in tasks} for x in alloc}).T\n",
    "out"
   ]
  },
  {
   "cell_type": "markdown",
   "id": "422c67f8",
   "metadata": {},
   "source": [
    "### Question 2"
   ]
  },
  {
   "cell_type": "code",
   "execution_count": 74,
   "id": "70c31aff",
   "metadata": {},
   "outputs": [],
   "source": [
    "replacement_path = {\n",
    "    '1_2': 4000, '2_3': 4300, '3_4': 4800, '4_5': 4900,\n",
    "    '1_3': 5400, '2_4': 6200, '3_5': 7100, \n",
    "    '1_4': 9800, '2_5': 8700\n",
    "                   }"
   ]
  },
  {
   "cell_type": "code",
   "execution_count": 75,
   "id": "e69c5c63",
   "metadata": {},
   "outputs": [
    {
     "name": "stdout",
     "output_type": "stream",
     "text": [
      "Gurobi Optimizer version 10.0.3 build v10.0.3rc0 (win64)\n",
      "\n",
      "CPU model: 11th Gen Intel(R) Core(TM) i7-11800H @ 2.30GHz, instruction set [SSE2|AVX|AVX2|AVX512]\n",
      "Thread count: 8 physical cores, 16 logical processors, using up to 16 threads\n",
      "\n",
      "Optimize a model with 4 rows, 9 columns and 15 nonzeros\n",
      "Model fingerprint: 0xa771d699\n",
      "Variable types: 0 continuous, 9 integer (9 binary)\n",
      "Coefficient statistics:\n",
      "  Matrix range     [1e+00, 1e+00]\n",
      "  Objective range  [4e+03, 1e+04]\n",
      "  Bounds range     [1e+00, 1e+00]\n",
      "  RHS range        [1e+00, 1e+00]\n",
      "Found heuristic solution: objective 18000.000000\n",
      "Presolve removed 4 rows and 9 columns\n",
      "Presolve time: 0.00s\n",
      "Presolve: All rows and columns removed\n",
      "\n",
      "Explored 0 nodes (0 simplex iterations) in 0.01 seconds (0.00 work units)\n",
      "Thread count was 1 (of 16 available processors)\n",
      "\n",
      "Solution count 2: 12500 18000 \n",
      "\n",
      "Optimal solution found (tolerance 1.00e-04)\n",
      "Best objective 1.250000000000e+04, best bound 1.250000000000e+04, gap 0.0000%\n",
      "\n",
      "Output Matrix...\n",
      "{'1_2': 0.0, '2_3': 0.0, '3_4': 0.0, '4_5': 0.0, '1_3': 1.0, '2_4': 0.0, '3_5': 1.0, '1_4': 0.0, '2_5': 0.0}\n"
     ]
    }
   ],
   "source": [
    "m = gp.Model('question_2')\n",
    "\n",
    "alloc = {i: m.addVar(vtype=gp.GRB.BINARY, name=f'{i}') for i in replacement_path}\n",
    "\n",
    "# we want to minimizw the cost of pathing i.e. shortest path problem \n",
    "m.setObjective(sum(alloc[x] * replacement_path[x] for x in replacement_path), gp.GRB.MINIMIZE)\n",
    "\n",
    "# we establish a constraint that limits the flow in-out of a system\n",
    "m.addConstr(alloc['1_2'] + alloc['1_3'] + alloc['1_4'] == 1)  # determine the starting point of the system\n",
    "\n",
    "m.addConstr(alloc['1_2'] == alloc['2_3'] + alloc['2_4'] + alloc['2_5'])\n",
    "m.addConstr(alloc['2_3'] + alloc['1_3'] == alloc['3_4'] + alloc['3_5'])\n",
    "m.addConstr(alloc['4_5'] == alloc['1_4'] + alloc['3_4'] + alloc['2_4'])\n",
    "\n",
    "m.optimize()\n",
    "\n",
    "print('\\nOutput Matrix...')\n",
    "print({x: alloc[x].x for x in alloc})"
   ]
  },
  {
   "cell_type": "markdown",
   "id": "1b4945f8",
   "metadata": {},
   "source": [
    "## Question 3"
   ]
  },
  {
   "cell_type": "code",
   "execution_count": 71,
   "id": "987e2776",
   "metadata": {},
   "outputs": [],
   "source": [
    "society = [1, 2, 3, 4]\n",
    "areas = ['Mathematics', 'Art', 'Engineering']\n",
    "students = [1, 2, 3, 4, 5, 6]\n",
    "\n",
    "soci_member = {1: [1, 2, 3, 4], 2: [1, 3, 6], 3: [2, 3, 4, 5], 4: [1, 2, 4, 6]}\n",
    "area_member = {'Mathematics': [1, 2, 3, 4], 'Art': [1, 3, 4, 5], 'Engineering': [1, 4, 5, 6]}"
   ]
  },
  {
   "cell_type": "markdown",
   "id": "238de9fd",
   "metadata": {},
   "source": [
    "$$\\sum_j^3\\sum_{i\\in[1,2,3,4]} x_{ij}$$"
   ]
  },
  {
   "cell_type": "code",
   "execution_count": 72,
   "id": "3eac2fb7",
   "metadata": {},
   "outputs": [
    {
     "name": "stdout",
     "output_type": "stream",
     "text": [
      "Gurobi Optimizer version 10.0.3 build v10.0.3rc0 (win64)\n",
      "\n",
      "CPU model: 11th Gen Intel(R) Core(TM) i7-11800H @ 2.30GHz, instruction set [SSE2|AVX|AVX2|AVX512]\n",
      "Thread count: 8 physical cores, 16 logical processors, using up to 16 threads\n",
      "\n",
      "Optimize a model with 25 rows, 18 columns and 93 nonzeros\n",
      "Model fingerprint: 0x43d1e65c\n",
      "Variable types: 0 continuous, 18 integer (18 binary)\n",
      "Coefficient statistics:\n",
      "  Matrix range     [1e+00, 1e+00]\n",
      "  Objective range  [1e+00, 1e+00]\n",
      "  Bounds range     [1e+00, 1e+00]\n",
      "  RHS range        [1e+00, 2e+00]\n",
      "Found heuristic solution: objective 6.0000000\n",
      "Presolve removed 12 rows and 0 columns\n",
      "Presolve time: 0.01s\n",
      "Presolved: 13 rows, 18 columns, 81 nonzeros\n",
      "Variable types: 0 continuous, 18 integer (18 binary)\n",
      "\n",
      "Root relaxation: cutoff, 0 iterations, 0.00 seconds (0.00 work units)\n",
      "\n",
      "Explored 1 nodes (0 simplex iterations) in 0.03 seconds (0.00 work units)\n",
      "Thread count was 16 (of 16 available processors)\n",
      "\n",
      "Solution count 1: 6 \n",
      "\n",
      "Optimal solution found (tolerance 1.00e-04)\n",
      "Best objective 6.000000000000e+00, best bound 6.000000000000e+00, gap 0.0000%\n"
     ]
    }
   ],
   "source": [
    "m3 = gp.Model('question_3')\n",
    "\n",
    "# we define the binary varaible to assign orientation \n",
    "alloc = m3.addVars(students, areas, vtype=gp.GRB.BINARY)\n",
    "\n",
    "m3.setObjective(sum(alloc[comb] for comb in alloc), gp.GRB.MAXIMIZE)\n",
    "\n",
    "# at most two students in each area can be on the council \n",
    "for a in areas:\n",
    "    m3.addConstr(sum(alloc[s, a] for s in students) <= 2)\n",
    "\n",
    "# a student who is skilled in more than one area must be assigned to one area\n",
    "for s in students:\n",
    "    m3.addConstr(sum(alloc[s, a] for a in areas) <= 1)\n",
    "\n",
    "# # constrain assignment by area to relevant students (better to hard set non-assigned to zero)\n",
    "m3.addConstr(alloc[5, 'Mathematics'] == 0)\n",
    "m3.addConstr(alloc[6, 'Mathematics'] == 0)\n",
    "\n",
    "m3.addConstr(alloc[2, 'Art'] == 0)\n",
    "m3.addConstr(alloc[6, 'Art'] == 0)\n",
    "\n",
    "m3.addConstr(alloc[2, 'Engineering'] == 0)\n",
    "m3.addConstr(alloc[3, 'Engineering'] == 0)\n",
    "\n",
    "# to determine that every honor society is represented we have to sum all members for a given society and have some \n",
    "# positive assignment to those values (this also limits the value assigned)\n",
    "for h in society:\n",
    "    m3.addConstr(sum(alloc[h1, a] for h1 in soci_member[h] for a in areas) >= 1)\n",
    "        \n",
    "m3.optimize()"
   ]
  },
  {
   "cell_type": "code",
   "execution_count": 18,
   "id": "c7939e3c",
   "metadata": {},
   "outputs": [
    {
     "name": "stdout",
     "output_type": "stream",
     "text": [
      "(1, 'Engineering') 1.0\n",
      "(2, 'Mathematics') 1.0\n",
      "(3, 'Art') 1.0\n",
      "(4, 'Mathematics') 1.0\n",
      "(5, 'Art') 1.0\n",
      "(6, 'Engineering') 1.0\n"
     ]
    }
   ],
   "source": [
    "for i in alloc:\n",
    "    if alloc[i].x > 0:\n",
    "        print(i, alloc[i].x)"
   ]
  },
  {
   "cell_type": "markdown",
   "id": "f7fc85d6",
   "metadata": {},
   "source": [
    "## Question 4"
   ]
  },
  {
   "cell_type": "code",
   "execution_count": 63,
   "id": "179ba65c",
   "metadata": {},
   "outputs": [],
   "source": [
    "silo = [1, 2, 3]\n",
    "farm = [1, 2, 3, 4]\n",
    "\n",
    "demand = {1: {1:30, 2:5, 3:0, 4:40}, 2: {1:0, 2:0, 3:5, 4:90}, 3: {1:100, 2:40, 3:30, 4:40}}\n",
    "silo_constraint = {1:20, 2:20, 3:200}\n",
    "farm_constraint = {1:200, 2:10, 3:60, 4:20}"
   ]
  },
  {
   "cell_type": "code",
   "execution_count": 70,
   "id": "99623421",
   "metadata": {},
   "outputs": [
    {
     "data": {
      "text/plain": [
       "{(1, 1): <gurobi.Var C0 (value 20.0)>,\n",
       " (1, 2): <gurobi.Var C1 (value 0.0)>,\n",
       " (1, 3): <gurobi.Var C2 (value 0.0)>,\n",
       " (1, 4): <gurobi.Var C3 (value 0.0)>,\n",
       " (2, 1): <gurobi.Var C4 (value 0.0)>,\n",
       " (2, 2): <gurobi.Var C5 (value 0.0)>,\n",
       " (2, 3): <gurobi.Var C6 (value 5.0)>,\n",
       " (2, 4): <gurobi.Var C7 (value 0.0)>,\n",
       " (3, 1): <gurobi.Var C8 (value 100.0)>,\n",
       " (3, 2): <gurobi.Var C9 (value 10.0)>,\n",
       " (3, 3): <gurobi.Var C10 (value 30.0)>,\n",
       " (3, 4): <gurobi.Var C11 (value 20.0)>}"
      ]
     },
     "execution_count": 70,
     "metadata": {},
     "output_type": "execute_result"
    }
   ],
   "source": [
    "alloc"
   ]
  },
  {
   "cell_type": "code",
   "execution_count": 65,
   "id": "942cbbab",
   "metadata": {},
   "outputs": [
    {
     "name": "stdout",
     "output_type": "stream",
     "text": [
      "Gurobi Optimizer version 10.0.3 build v10.0.3rc0 (win64)\n",
      "\n",
      "CPU model: 11th Gen Intel(R) Core(TM) i7-11800H @ 2.30GHz, instruction set [SSE2|AVX|AVX2|AVX512]\n",
      "Thread count: 8 physical cores, 16 logical processors, using up to 16 threads\n",
      "\n",
      "Optimize a model with 19 rows, 12 columns and 36 nonzeros\n",
      "Model fingerprint: 0x82e35416\n",
      "Coefficient statistics:\n",
      "  Matrix range     [1e+00, 1e+00]\n",
      "  Objective range  [1e+00, 1e+00]\n",
      "  Bounds range     [0e+00, 0e+00]\n",
      "  RHS range        [5e+00, 2e+02]\n",
      "Presolve removed 19 rows and 12 columns\n",
      "Presolve time: 0.00s\n",
      "Presolve: All rows and columns removed\n",
      "Iteration    Objective       Primal Inf.    Dual Inf.      Time\n",
      "       0    1.8500000e+02   0.000000e+00   0.000000e+00      0s\n",
      "\n",
      "Solved in 0 iterations and 0.01 seconds (0.00 work units)\n",
      "Optimal objective  1.850000000e+02\n",
      "(1, 1) 20.0\n",
      "(1, 2) 0.0\n",
      "(1, 3) 0.0\n",
      "(1, 4) 0.0\n",
      "(2, 1) 0.0\n",
      "(2, 2) 0.0\n",
      "(2, 3) 5.0\n",
      "(2, 4) 0.0\n",
      "(3, 1) 100.0\n",
      "(3, 2) 10.0\n",
      "(3, 3) 30.0\n",
      "(3, 4) 20.0\n",
      "\n",
      "Farm 1: 120.0\n",
      "Farm 2: 10.0\n",
      "Farm 3: 35.0\n",
      "Farm 4: 20.0\n",
      "\n",
      "Farm 1: 20.0\n",
      "Farm 2: 5.0\n",
      "Farm 3: 160.0\n"
     ]
    }
   ],
   "source": [
    "m4 = gp.Model('question4')\n",
    "\n",
    "alloc = m4.addVars(silo, farm, vtype=gp.GRB.CONTINUOUS)\n",
    "\n",
    "# optimization functoin is to maximize the total demand satafiied i.e. the demand function and allocation\n",
    "m4.setObjective(sum(alloc[s,f] for s in silo for f in farm), gp.GRB.MAXIMIZE)\n",
    "\n",
    "# set constraints on total demand satisfaction\n",
    "for f in farm:\n",
    "    m4.addConstr(sum(alloc[s, f] for s in silo) <= farm_constraint[f])\n",
    "    \n",
    "for s in silo:\n",
    "    m4.addConstr(sum(alloc[s, f] for f in farm) <= silo_constraint[s])\n",
    "    \n",
    "for a in alloc:\n",
    "    x1, x2 = a\n",
    "    m4.addConstr(alloc[x1, x2] <= demand[x1][x2])\n",
    "\n",
    "m4.optimize()\n",
    "\n",
    "if m4.status == gp.GRB.OPTIMAL:\n",
    "    for a in alloc:\n",
    "        print(a, alloc[a].x)\n",
    "    print()\n",
    "    for f in farm:\n",
    "        print(f'Farm {f}: {sum(alloc[i, f].x for i in silo)}')\n",
    "    print()\n",
    "    for s in silo:\n",
    "        print(f'Farm {s}: {sum(alloc[s, i].x for i in farm)}')\n",
    "    \n",
    "    "
   ]
  },
  {
   "cell_type": "markdown",
   "id": "a22b8081",
   "metadata": {},
   "source": [
    "## Question 5"
   ]
  },
  {
   "cell_type": "code",
   "execution_count": 9,
   "id": "b2af6665",
   "metadata": {},
   "outputs": [],
   "source": [
    "nodes =[1, 2, 3, 4, 5, 6, 7, 8]\n",
    "path = {(1, 4): 20, (2, 4): 10, (2, 6): 50, (2, 5): 20, \n",
    "        (3, 5): 15, (4, 5): 20, (4, 7): 10, (4, 6): 10,\n",
    "        (5, 6): 30, (5, 8): 30, (6, 7): 50, (6, 8): 20}"
   ]
  },
  {
   "cell_type": "code",
   "execution_count": 19,
   "id": "be7e63ea",
   "metadata": {},
   "outputs": [
    {
     "name": "stdout",
     "output_type": "stream",
     "text": [
      "Gurobi Optimizer version 10.0.3 build v10.0.3rc0 (win64)\n",
      "\n",
      "CPU model: 11th Gen Intel(R) Core(TM) i7-11800H @ 2.30GHz, instruction set [SSE2|AVX|AVX2|AVX512]\n",
      "Thread count: 8 physical cores, 16 logical processors, using up to 16 threads\n",
      "\n",
      "Optimize a model with 15 rows, 12 columns and 27 nonzeros\n",
      "Model fingerprint: 0xf2b54482\n",
      "Coefficient statistics:\n",
      "  Matrix range     [1e+00, 1e+00]\n",
      "  Objective range  [1e+00, 1e+00]\n",
      "  Bounds range     [0e+00, 0e+00]\n",
      "  RHS range        [1e+01, 5e+01]\n",
      "Presolve removed 12 rows and 4 columns\n",
      "Presolve time: 0.00s\n",
      "Presolved: 3 rows, 8 columns, 11 nonzeros\n",
      "\n",
      "Iteration    Objective       Primal Inf.    Dual Inf.      Time\n",
      "       0    1.1000000e+02   2.500000e+00   0.000000e+00      0s\n",
      "       3    1.1000000e+02   0.000000e+00   0.000000e+00      0s\n",
      "\n",
      "Solved in 3 iterations and 0.01 seconds (0.00 work units)\n",
      "Optimal objective  1.100000000e+02\n",
      "(1, 4) = 20.0\n",
      "(2, 4) = 5.0\n",
      "(2, 6) = 50.0\n",
      "(2, 5) = 20.0\n",
      "(3, 5) = 15.0\n",
      "(4, 5) = 5.0\n",
      "(4, 7) = 10.0\n",
      "(4, 6) = 10.0\n",
      "(5, 6) = 10.0\n",
      "(5, 8) = 30.0\n",
      "(6, 7) = 50.0\n",
      "(6, 8) = 20.0\n",
      "Daily demand at each terminal = 7: 60.0, 8: 50.0\n",
      "Daily capacity of each pump = 4: 25.0, 5: 40.0, 6: 70.0\n"
     ]
    }
   ],
   "source": [
    "m5 = gp.Model('question5')\n",
    "alloc = {i: m5.addVar(vtype=gp.GRB.CONTINUOUS, name=f'{i}') for i in path}\n",
    "\n",
    "# maximize the flow is objective (our variable will be the flow through the pipes)\n",
    "m5.setObjective(alloc[4, 7] + alloc[6, 7] + alloc[6, 8] + alloc[5, 8], gp.GRB.MAXIMIZE)\n",
    "\n",
    "# constraints on inner and outside path for each node\n",
    "m5.addConstr(alloc[1, 4] + alloc[2, 4] == alloc[4, 7] + alloc[4, 6] + alloc[4, 5])\n",
    "m5.addConstr(alloc[2, 6] + alloc[4, 6] + alloc[5, 6] == alloc[6, 7] + alloc[6, 8])\n",
    "m5.addConstr(alloc[2, 5] + alloc[4, 5] + alloc[3, 5] == alloc[5, 6] + alloc[5, 8])\n",
    "\n",
    "# add constraint for each path to take (otherwise unbounded)\n",
    "for i in alloc:\n",
    "    m5.addConstr(alloc[i] <= path[i])\n",
    "\n",
    "m5.optimize()\n",
    "\n",
    "# print out the amount of flow through the pipe\n",
    "if m5.status == gp.GRB.OPTIMAL:\n",
    "    for i in alloc:\n",
    "        print(f'{i} = {alloc[i].x}')\n",
    "    \n",
    "    print(f'Daily demand at each terminal = 7: {alloc[4, 7].x + alloc[6, 7].x}, 8: {alloc[6, 8].x + alloc[5, 8].x}')\n",
    "    print(f'Daily capacity of each pump = 4: {alloc[1, 4].x + alloc[2, 4].x}, 5: {alloc[2, 5].x + alloc[4, 5].x + alloc[3, 5].x}, 6: {alloc[2, 6].x + alloc[4, 6].x + alloc[5, 6].x}')"
   ]
  },
  {
   "cell_type": "markdown",
   "id": "d6e1de8a",
   "metadata": {},
   "source": [
    "## Question 6"
   ]
  },
  {
   "cell_type": "code",
   "execution_count": 58,
   "id": "dfe3b581",
   "metadata": {},
   "outputs": [
    {
     "name": "stdout",
     "output_type": "stream",
     "text": [
      "determine root of 4, 6\n",
      "\tnode4, parent series {1: 1, 2: 2, 3: 3, 4: 4, 5: 5, 6: 6}\n",
      "\tnode6, parent series {1: 1, 2: 2, 3: 3, 4: 4, 5: 5, 6: 6}\n",
      "\tnode4, parent series {1: 1, 2: 2, 3: 3, 4: 4, 5: 5, 6: 6}\n",
      "\tnode6, parent series {1: 1, 2: 2, 3: 3, 4: 4, 5: 5, 6: 6}\n",
      "...union root1 4, root2 6\n",
      "determine root of 1, 3\n",
      "\tnode1, parent series {1: 1, 2: 2, 3: 3, 4: 6, 5: 5, 6: 6}\n",
      "\tnode3, parent series {1: 1, 2: 2, 3: 3, 4: 6, 5: 5, 6: 6}\n",
      "\tnode1, parent series {1: 1, 2: 2, 3: 3, 4: 6, 5: 5, 6: 6}\n",
      "\tnode3, parent series {1: 1, 2: 2, 3: 3, 4: 6, 5: 5, 6: 6}\n",
      "...union root1 1, root2 3\n",
      "determine root of 2, 4\n",
      "\tnode2, parent series {1: 3, 2: 2, 3: 3, 4: 6, 5: 5, 6: 6}\n",
      "\tnode4, parent series {1: 3, 2: 2, 3: 3, 4: 6, 5: 5, 6: 6}\n",
      "\tparent node 6 does not equal 4\n",
      "\tnode6, parent series {1: 3, 2: 2, 3: 3, 4: 6, 5: 5, 6: 6}\n",
      "\tnode2, parent series {1: 3, 2: 2, 3: 3, 4: 6, 5: 5, 6: 6}\n",
      "\tnode4, parent series {1: 3, 2: 2, 3: 3, 4: 6, 5: 5, 6: 6}\n",
      "\tparent node 6 does not equal 4\n",
      "\tnode6, parent series {1: 3, 2: 2, 3: 3, 4: 6, 5: 5, 6: 6}\n",
      "...union root1 2, root2 6\n",
      "determine root of 2, 3\n",
      "\tnode2, parent series {1: 3, 2: 6, 3: 3, 4: 6, 5: 5, 6: 6}\n",
      "\tparent node 6 does not equal 2\n",
      "\tnode6, parent series {1: 3, 2: 6, 3: 3, 4: 6, 5: 5, 6: 6}\n",
      "\tnode3, parent series {1: 3, 2: 6, 3: 3, 4: 6, 5: 5, 6: 6}\n",
      "\tnode2, parent series {1: 3, 2: 6, 3: 3, 4: 6, 5: 5, 6: 6}\n",
      "\tparent node 6 does not equal 2\n",
      "\tnode6, parent series {1: 3, 2: 6, 3: 3, 4: 6, 5: 5, 6: 6}\n",
      "\tnode3, parent series {1: 3, 2: 6, 3: 3, 4: 6, 5: 5, 6: 6}\n",
      "...union root1 6, root2 3\n",
      "determine root of 4, 5\n",
      "\tnode4, parent series {1: 3, 2: 6, 3: 3, 4: 6, 5: 5, 6: 3}\n",
      "\tparent node 6 does not equal 4\n",
      "\tnode6, parent series {1: 3, 2: 6, 3: 3, 4: 6, 5: 5, 6: 3}\n",
      "\tparent node 3 does not equal 6\n",
      "\tnode3, parent series {1: 3, 2: 6, 3: 3, 4: 6, 5: 5, 6: 3}\n",
      "\tnode5, parent series {1: 3, 2: 6, 3: 3, 4: 3, 5: 5, 6: 3}\n",
      "\tnode4, parent series {1: 3, 2: 6, 3: 3, 4: 3, 5: 5, 6: 3}\n",
      "\tparent node 3 does not equal 4\n",
      "\tnode3, parent series {1: 3, 2: 6, 3: 3, 4: 3, 5: 5, 6: 3}\n",
      "\tnode5, parent series {1: 3, 2: 6, 3: 3, 4: 3, 5: 5, 6: 3}\n",
      "...union root1 3, root2 5\n",
      "determine root of 2, 6\n",
      "\tnode2, parent series {1: 3, 2: 6, 3: 3, 4: 3, 5: 3, 6: 3}\n",
      "\tparent node 6 does not equal 2\n",
      "\tnode6, parent series {1: 3, 2: 6, 3: 3, 4: 3, 5: 3, 6: 3}\n",
      "\tparent node 3 does not equal 6\n",
      "\tnode3, parent series {1: 3, 2: 6, 3: 3, 4: 3, 5: 3, 6: 3}\n",
      "\tnode6, parent series {1: 3, 2: 3, 3: 3, 4: 3, 5: 3, 6: 3}\n",
      "\tparent node 3 does not equal 6\n",
      "\tnode3, parent series {1: 3, 2: 3, 3: 3, 4: 3, 5: 3, 6: 3}\n",
      "determine root of 5, 6\n",
      "\tnode5, parent series {1: 3, 2: 3, 3: 3, 4: 3, 5: 3, 6: 3}\n",
      "\tparent node 3 does not equal 5\n",
      "\tnode3, parent series {1: 3, 2: 3, 3: 3, 4: 3, 5: 3, 6: 3}\n",
      "\tnode6, parent series {1: 3, 2: 3, 3: 3, 4: 3, 5: 3, 6: 3}\n",
      "\tparent node 3 does not equal 6\n",
      "\tnode3, parent series {1: 3, 2: 3, 3: 3, 4: 3, 5: 3, 6: 3}\n",
      "determine root of 3, 5\n",
      "\tnode3, parent series {1: 3, 2: 3, 3: 3, 4: 3, 5: 3, 6: 3}\n",
      "\tnode5, parent series {1: 3, 2: 3, 3: 3, 4: 3, 5: 3, 6: 3}\n",
      "\tparent node 3 does not equal 5\n",
      "\tnode3, parent series {1: 3, 2: 3, 3: 3, 4: 3, 5: 3, 6: 3}\n",
      "determine root of 1, 2\n",
      "\tnode1, parent series {1: 3, 2: 3, 3: 3, 4: 3, 5: 3, 6: 3}\n",
      "\tparent node 3 does not equal 1\n",
      "\tnode3, parent series {1: 3, 2: 3, 3: 3, 4: 3, 5: 3, 6: 3}\n",
      "\tnode2, parent series {1: 3, 2: 3, 3: 3, 4: 3, 5: 3, 6: 3}\n",
      "\tparent node 3 does not equal 2\n",
      "\tnode3, parent series {1: 3, 2: 3, 3: 3, 4: 3, 5: 3, 6: 3}\n",
      "determine root of 3, 4\n",
      "\tnode3, parent series {1: 3, 2: 3, 3: 3, 4: 3, 5: 3, 6: 3}\n",
      "\tnode4, parent series {1: 3, 2: 3, 3: 3, 4: 3, 5: 3, 6: 3}\n",
      "\tparent node 3 does not equal 4\n",
      "\tnode3, parent series {1: 3, 2: 3, 3: 3, 4: 3, 5: 3, 6: 3}\n",
      "Edges in the Minimum Spanning Tree:\n",
      "(4, 6)\n",
      "(1, 3)\n",
      "(2, 4)\n",
      "(2, 3)\n",
      "(4, 5)\n"
     ]
    }
   ],
   "source": [
    "# Data: edges with weights\n",
    "edges = {\n",
    "(1, 2): 700,\n",
    "(1, 3): 200,\n",
    "(2, 3): 300,\n",
    "(2, 4): 200,\n",
    "(3, 4): 700,\n",
    "(2, 6): 400,\n",
    "(3, 5): 600,\n",
    "(4, 5): 300,\n",
    "(4, 6): 100,\n",
    "(5, 6): 500\n",
    "}\n",
    "# Sorting edges based on weight\n",
    "sorted_edges = sorted(edges.items(), key=lambda item: item[1])\n",
    "\n",
    "# Data structure to keep track of the set each element belongs to\n",
    "parent = {i: i for i in range(1, 7)} # Initially , each node is its own parent\n",
    "rank = {i: 0 for i in range(1, 7)} # Used to keep the tree flat\n",
    "\n",
    "def find(node):\n",
    "    \"\"\"Find the set of the node with path compression.\"\"\"\n",
    "    print(f'\\tnode{node}, parent series {parent}')\n",
    "    if parent[node] != node:\n",
    "        print(f'\\tparent node {parent[node]} does not equal {node}' )\n",
    "        parent[node] = find(parent[node])\n",
    "    return parent[node]\n",
    "\n",
    "def union(node1 , node2):\n",
    "    \"\"\"Union the sets of the two nodes.\"\"\"\n",
    "    root1 = find(node1)\n",
    "    root2 = find(node2)\n",
    "    \n",
    "    print(f'...union root1 {root1}, root2 {root2}')\n",
    "    # Attach the smaller rank tree under the root of the higher rank tree\n",
    "    if root1 != root2:\n",
    "        if rank[root1] > rank[root2]:\n",
    "            parent[root2] = root1\n",
    "        else:\n",
    "            parent[root1] = root2\n",
    "            if rank[root1] == rank[root2]:\n",
    "                rank[root2] += 1\n",
    "\n",
    "mst = [] # To store the edges of the MST\n",
    "\n",
    "# Kruskal's Algorithm\n",
    "for edge, weight in sorted_edges:\n",
    "    print(f'determine root of {edge[0]}, {edge[1]}')\n",
    "    \n",
    "    # this determines the cycel with which we disgard set \n",
    "    if find(edge[0]) != find(edge[1]):\n",
    "        union(edge[0], edge[1])\n",
    "        mst.append(edge)\n",
    "        \n",
    "print(\"Edges in the Minimum Spanning Tree:\")\n",
    "for edge in mst:\n",
    "    print(edge)"
   ]
  },
  {
   "cell_type": "code",
   "execution_count": 56,
   "id": "ea8af893",
   "metadata": {},
   "outputs": [
    {
     "data": {
      "text/plain": [
       "[(4, 6), (1, 3), (2, 4), (2, 3), (4, 5)]"
      ]
     },
     "execution_count": 56,
     "metadata": {},
     "output_type": "execute_result"
    }
   ],
   "source": [
    "mst"
   ]
  },
  {
   "cell_type": "code",
   "execution_count": 43,
   "id": "bfe6cea8",
   "metadata": {},
   "outputs": [
    {
     "data": {
      "text/plain": [
       "[((4, 6), 100),\n",
       " ((1, 3), 200),\n",
       " ((2, 4), 200),\n",
       " ((2, 3), 300),\n",
       " ((4, 5), 300),\n",
       " ((2, 6), 400),\n",
       " ((5, 6), 500),\n",
       " ((3, 5), 600),\n",
       " ((1, 2), 700),\n",
       " ((3, 4), 700)]"
      ]
     },
     "execution_count": 43,
     "metadata": {},
     "output_type": "execute_result"
    }
   ],
   "source": [
    "sorted_edges"
   ]
  },
  {
   "cell_type": "code",
   "execution_count": 44,
   "id": "df764d0f",
   "metadata": {},
   "outputs": [
    {
     "data": {
      "text/plain": [
       "{1: 3, 2: 3, 3: 3, 4: 3, 5: 3, 6: 3}"
      ]
     },
     "execution_count": 44,
     "metadata": {},
     "output_type": "execute_result"
    }
   ],
   "source": [
    "parent"
   ]
  },
  {
   "cell_type": "code",
   "execution_count": 45,
   "id": "81b55731",
   "metadata": {},
   "outputs": [
    {
     "data": {
      "text/plain": [
       "{1: 0, 2: 0, 3: 2, 4: 0, 5: 0, 6: 1}"
      ]
     },
     "execution_count": 45,
     "metadata": {},
     "output_type": "execute_result"
    }
   ],
   "source": [
    "rank"
   ]
  },
  {
   "cell_type": "code",
   "execution_count": null,
   "id": "3c44c56d",
   "metadata": {},
   "outputs": [],
   "source": []
  }
 ],
 "metadata": {
  "kernelspec": {
   "display_name": "Python 3 (ipykernel)",
   "language": "python",
   "name": "python3"
  },
  "language_info": {
   "codemirror_mode": {
    "name": "ipython",
    "version": 3
   },
   "file_extension": ".py",
   "mimetype": "text/x-python",
   "name": "python",
   "nbconvert_exporter": "python",
   "pygments_lexer": "ipython3",
   "version": "3.9.7"
  }
 },
 "nbformat": 4,
 "nbformat_minor": 5
}
