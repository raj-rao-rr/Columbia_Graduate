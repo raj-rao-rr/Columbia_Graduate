{
 "cells": [
  {
   "cell_type": "code",
   "execution_count": 1,
   "id": "b5f6d2f5",
   "metadata": {},
   "outputs": [],
   "source": [
    "import pandas as pd\n",
    "import numpy as np\n",
    "\n",
    "import gurobipy as gp"
   ]
  },
  {
   "cell_type": "markdown",
   "id": "74be440a",
   "metadata": {},
   "source": [
    "### Problem 1 - Study Set 2"
   ]
  },
  {
   "cell_type": "code",
   "execution_count": 3,
   "id": "afa01b01",
   "metadata": {},
   "outputs": [],
   "source": [
    "m = gp.Model('model')"
   ]
  },
  {
   "cell_type": "code",
   "execution_count": 14,
   "id": "7fbf75bc",
   "metadata": {},
   "outputs": [
    {
     "name": "stdout",
     "output_type": "stream",
     "text": [
      "Gurobi Optimizer version 10.0.3 build v10.0.3rc0 (win64)\n",
      "\n",
      "CPU model: 11th Gen Intel(R) Core(TM) i7-11800H @ 2.30GHz, instruction set [SSE2|AVX|AVX2|AVX512]\n",
      "Thread count: 8 physical cores, 16 logical processors, using up to 16 threads\n",
      "\n",
      "Optimize a model with 12 rows, 12 columns and 32 nonzeros\n",
      "Coefficient statistics:\n",
      "  Matrix range     [5e-01, 2e+03]\n",
      "  Objective range  [3e+02, 2e+03]\n",
      "  Bounds range     [5e+02, 4e+03]\n",
      "  RHS range        [5e+02, 1e+07]\n",
      "Iteration    Objective       Primal Inf.    Dual Inf.      Time\n",
      "       0    1.4843750e+32   8.375000e+30   1.484375e+02      0s\n",
      "       7    1.2500000e+07   0.000000e+00   0.000000e+00      0s\n",
      "\n",
      "Solved in 7 iterations and 0.01 seconds (0.00 work units)\n",
      "Optimal objective  1.250000000e+07\n"
     ]
    }
   ],
   "source": [
    "Ei = 100   # Expected number of in-state Engineering students.\n",
    "Ai = 150   # Expected number of in-state Arts students.\n",
    "Eo = 150   # Expected number of out-of-state Engineering students.\n",
    "Ao = 100   # Expected number of out-of-state Arts students.\n",
    "C = 15     # avg number of courses\n",
    "\n",
    "# define varables for usage\n",
    "instate_fee = m.addVar(vtype=gp.GRB.CONTINUOUS, name='instate_fee')\n",
    "outstate_fee = m.addVar(vtype=gp.GRB.CONTINUOUS, name='outstate_fee')\n",
    "\n",
    "eng_instate_cost = m.addVar(vtype=gp.GRB.CONTINUOUS, name='eng_instate_cost')\n",
    "art_instate_cost = m.addVar(vtype=gp.GRB.CONTINUOUS, name='art_instate_cost')\n",
    "eng_outstate_cost = m.addVar(vtype=gp.GRB.CONTINUOUS, name='eng_outstate_cost')\n",
    "art_outstate_cost = m.addVar(vtype=gp.GRB.CONTINUOUS, name='art_outstate_cost')\n",
    "\n",
    "# set the objective function \n",
    "Z = Ei*(instate_fee + C*eng_instate_cost) + Ai*(instate_fee + C*art_instate_cost) + Eo*(outstate_fee + C*eng_outstate_cost) + Ao*(outstate_fee + C*art_outstate_cost)\n",
    "m.setObjective(Z, gp.GRB.MAXIMIZE)\n",
    "\n",
    "# add constraints \n",
    "m.addConstr(Z>=10000000,\n",
    "           'minimum_revenue')\n",
    "\n",
    "m.addConstr(Z/(Ei+Ai+Eo+Ao)<=25000, \n",
    "           'avg_student_tuition')\n",
    "\n",
    "m.addConstr(instate_fee <= 2000, 'instate_max')\n",
    "m.addConstr(instate_fee >= 500 , 'instate_min')\n",
    "m.addConstr(outstate_fee <= 4000, 'outstate_max')\n",
    "m.addConstr(outstate_fee >= 1000, 'outstate_min')\n",
    "\n",
    "m.addConstr(eng_instate_cost <= 1333, 'max_eng_instate')\n",
    "m.addConstr(art_instate_cost <= 1000, 'max_eng_instate')\n",
    "m.addConstr(eng_outstate_cost <= 2333, 'max_eng_instate')\n",
    "m.addConstr(art_outstate_cost <= 1667, 'max_eng_instate')\n",
    "\n",
    "m.optimize()"
   ]
  },
  {
   "cell_type": "markdown",
   "id": "6ec3b432",
   "metadata": {},
   "source": [
    "### Problem 4 -  Study Set 2"
   ]
  },
  {
   "cell_type": "code",
   "execution_count": 24,
   "id": "72bac307",
   "metadata": {},
   "outputs": [
    {
     "name": "stdout",
     "output_type": "stream",
     "text": [
      "Gurobi Optimizer version 10.0.3 build v10.0.3rc0 (win64)\n",
      "\n",
      "CPU model: 11th Gen Intel(R) Core(TM) i7-11800H @ 2.30GHz, instruction set [SSE2|AVX|AVX2|AVX512]\n",
      "Thread count: 8 physical cores, 16 logical processors, using up to 16 threads\n",
      "\n",
      "Optimize a model with 3 rows, 3 columns and 8 nonzeros\n",
      "Model fingerprint: 0x86ebf124\n",
      "Coefficient statistics:\n",
      "  Matrix range     [1e+00, 4e+00]\n",
      "  Objective range  [1e+01, 2e+01]\n",
      "  Bounds range     [0e+00, 0e+00]\n",
      "  RHS range        [2e+02, 4e+02]\n",
      "Presolve time: 0.00s\n",
      "Presolved: 3 rows, 3 columns, 8 nonzeros\n",
      "\n",
      "Iteration    Objective       Primal Inf.    Dual Inf.      Time\n",
      "       0    4.4000000e+31   4.750000e+30   4.400000e+01      0s\n",
      "       2    1.1000000e+03   0.000000e+00   0.000000e+00      0s\n",
      "\n",
      "Solved in 2 iterations and 0.00 seconds (0.00 work units)\n",
      "Optimal objective  1.100000000e+03\n",
      "60.0 0.0 25.0\n"
     ]
    }
   ],
   "source": [
    "m = gp.Model('Primal')\n",
    "\n",
    "x1 = m.addVar(vtype=gp.GRB.CONTINUOUS, name='x1')\n",
    "x2 = m.addVar(vtype=gp.GRB.CONTINUOUS, name='x2')\n",
    "x3 = m.addVar(vtype=gp.GRB.CONTINUOUS, name='x2')\n",
    "\n",
    "m.setObjective(10*x1 + 14*x2 + 20*x3, gp.GRB.MAXIMIZE)\n",
    "\n",
    "m.addConstr(2*x1+3*x2+4*x3 <= 220, 'const1')\n",
    "m.addConstr(4*x1+2*x2-x3 <= 385, 'const2')\n",
    "m.addConstr(x1+4*x3 <= 160, 'const3')\n",
    "\n",
    "m.optimize()\n",
    "\n",
    "print(x1.x, x2.x, x3.x)"
   ]
  },
  {
   "cell_type": "code",
   "execution_count": 30,
   "id": "e4d15c93",
   "metadata": {},
   "outputs": [
    {
     "name": "stdout",
     "output_type": "stream",
     "text": [
      "Gurobi Optimizer version 10.0.3 build v10.0.3rc0 (win64)\n",
      "\n",
      "CPU model: 11th Gen Intel(R) Core(TM) i7-11800H @ 2.30GHz, instruction set [SSE2|AVX|AVX2|AVX512]\n",
      "Thread count: 8 physical cores, 16 logical processors, using up to 16 threads\n",
      "\n",
      "Optimize a model with 3 rows, 3 columns and 8 nonzeros\n",
      "Model fingerprint: 0x56872af9\n",
      "Coefficient statistics:\n",
      "  Matrix range     [1e+00, 4e+00]\n",
      "  Objective range  [2e+02, 4e+02]\n",
      "  Bounds range     [0e+00, 0e+00]\n",
      "  RHS range        [1e+01, 2e+01]\n",
      "Presolve time: 0.00s\n",
      "Presolved: 3 rows, 3 columns, 8 nonzeros\n",
      "\n",
      "Iteration    Objective       Primal Inf.    Dual Inf.      Time\n",
      "       0    0.0000000e+00   2.900000e+01   0.000000e+00      0s\n",
      "       3    1.1000000e+03   0.000000e+00   0.000000e+00      0s\n",
      "\n",
      "Solved in 3 iterations and 0.00 seconds (0.00 work units)\n",
      "Optimal objective  1.100000000e+03\n",
      "5.0 0.0 0.0\n"
     ]
    }
   ],
   "source": [
    "m = gp.Model('Dual')\n",
    "\n",
    "y1 = m.addVar(vtype=gp.GRB.CONTINUOUS, name='y1')\n",
    "y2 = m.addVar(vtype=gp.GRB.CONTINUOUS, name='y2')\n",
    "y3 = m.addVar(vtype=gp.GRB.CONTINUOUS, name='y2')\n",
    "\n",
    "m.setObjective(220*y1 + 385*y2 + 160*y3, gp.GRB.MINIMIZE)\n",
    "\n",
    "m.addConstr(2*y1 + 4*y2 + y3 >= 10, 'const1')\n",
    "m.addConstr(3*y1 + 2*y2 >= 14, 'const2')\n",
    "m.addConstr(4*y1 - y2 + 4*y3 >= 20, 'const3')\n",
    "\n",
    "m.optimize()\n",
    "\n",
    "print(y1.x, y2.x, y3.x)"
   ]
  },
  {
   "cell_type": "markdown",
   "id": "25327e95",
   "metadata": {},
   "source": [
    "### Problem 5 - Study Set 1"
   ]
  },
  {
   "cell_type": "code",
   "execution_count": 73,
   "id": "a228664d",
   "metadata": {},
   "outputs": [],
   "source": [
    "savings_bond = 0.075\n",
    "bonds_6y = 0.079\n",
    "bond_price = 0.98\n",
    "muni_9y = 0.055\n",
    "muni_price = 1.02"
   ]
  },
  {
   "cell_type": "code",
   "execution_count": 74,
   "id": "71d2c3d5",
   "metadata": {},
   "outputs": [],
   "source": [
    "years = [1, 2, 3, 4, 5, 6, 7, 8, 9, 10]\n",
    "amount = [2000, 2000, 2500, 2500, 3000, 3500, 3500, 4000, 4000, 5000]\n",
    "investments = ['saving_bonds', 'government_bond', 'municipal_bond']\n",
    "\n",
    "investment_plan = dict(zip(years, amount))"
   ]
  },
  {
   "cell_type": "code",
   "execution_count": 75,
   "id": "88be0593",
   "metadata": {},
   "outputs": [
    {
     "name": "stdout",
     "output_type": "stream",
     "text": [
      "Gurobi Optimizer version 10.0.3 build v10.0.3rc0 (win64)\n",
      "\n",
      "CPU model: 11th Gen Intel(R) Core(TM) i7-11800H @ 2.30GHz, instruction set [SSE2|AVX|AVX2|AVX512]\n",
      "Thread count: 8 physical cores, 16 logical processors, using up to 16 threads\n",
      "\n",
      "Optimize a model with 23 rows, 30 columns and 43 nonzeros\n",
      "Model fingerprint: 0xa52cbb7b\n",
      "Coefficient statistics:\n",
      "  Matrix range     [1e+00, 1e+00]\n",
      "  Objective range  [1e+00, 2e+00]\n",
      "  Bounds range     [0e+00, 0e+00]\n",
      "  RHS range        [2e+03, 5e+03]\n",
      "Presolve removed 23 rows and 30 columns\n",
      "Presolve time: 0.00s\n",
      "Presolve: All rows and columns removed\n",
      "Iteration    Objective       Primal Inf.    Dual Inf.      Time\n",
      "       0    4.6737150e+04   0.000000e+00   0.000000e+00      0s\n",
      "\n",
      "Solved in 0 iterations and 0.01 seconds (0.00 work units)\n",
      "Optimal objective  4.673715000e+04\n"
     ]
    }
   ],
   "source": [
    "m1 = gp.Model('investment_plan')\n",
    "\n",
    "allocation = m1.addVars(years, investments, vtype=gp.GRB.CONTINUOUS)\n",
    "\n",
    "val = 0    \n",
    "val += sum(allocation[(i, 'saving_bonds')] * (1+savings_bond)**(11-i) for i in range(1, 11))\n",
    "val += sum(allocation[(i, 'government_bond')] * (1+bonds_6y)**(11-i) for i in range(1, 5))\n",
    "val += sum(allocation[(i, 'municipal_bond')] * (1+muni_9y)**(11-i) for i in range(1, 2))\n",
    "\n",
    "# create optimization formula:\n",
    "m1.setObjective(val, gp.GRB.MAXIMIZE)\n",
    "\n",
    "# set constraints for each allocation year\n",
    "for y in years: \n",
    "    m1.addConstr(allocation[(y, 'saving_bonds')] + \n",
    "                 0.98*allocation[(y, 'government_bond')] + \n",
    "                 1.02*allocation[(y, 'municipal_bond')] <= investment_plan[y], f'{y}_dollar_const')\n",
    "\n",
    "# set constraints for values not investable (can't invest in 9-year municpal past year 2)\n",
    "for y in years[2:]:\n",
    "    m1.addConstr(allocation[(y, 'municipal_bond')] == 0, f'{y}_muni_limit')\n",
    "\n",
    "# set constraints for values not investable (can't invest in 6-year municpal past year 5)\n",
    "for y in years[5:]:\n",
    "    m1.addConstr(allocation[(y, 'government_bond')] == 0, f'{y}_muni_limit')\n",
    "    \n",
    "m1.optimize()"
   ]
  },
  {
   "cell_type": "code",
   "execution_count": 76,
   "id": "17d15204",
   "metadata": {},
   "outputs": [],
   "source": [
    "A = pd.DataFrame.from_dict(allocation, orient='index').reset_index()\n",
    "B = pd.DataFrame(A['index'].apply(lambda x: list(x)).tolist())\n",
    "B.columns = ['Year', 'Bond Type']\n",
    "\n",
    "# combine values into one form\n",
    "C = B.join(A[0])\n",
    "C.columns = ['Year', 'Bond Type', 'Allocation']\n",
    "C['Allocation'] = C['Allocation'].apply(lambda x: x.x)"
   ]
  },
  {
   "cell_type": "code",
   "execution_count": 77,
   "id": "92958ff0",
   "metadata": {},
   "outputs": [
    {
     "data": {
      "text/html": [
       "<div>\n",
       "<style scoped>\n",
       "    .dataframe tbody tr th:only-of-type {\n",
       "        vertical-align: middle;\n",
       "    }\n",
       "\n",
       "    .dataframe tbody tr th {\n",
       "        vertical-align: top;\n",
       "    }\n",
       "\n",
       "    .dataframe thead th {\n",
       "        text-align: right;\n",
       "    }\n",
       "</style>\n",
       "<table border=\"1\" class=\"dataframe\">\n",
       "  <thead>\n",
       "    <tr style=\"text-align: right;\">\n",
       "      <th>Bond Type</th>\n",
       "      <th>government_bond</th>\n",
       "      <th>municipal_bond</th>\n",
       "      <th>saving_bonds</th>\n",
       "    </tr>\n",
       "    <tr>\n",
       "      <th>Year</th>\n",
       "      <th></th>\n",
       "      <th></th>\n",
       "      <th></th>\n",
       "    </tr>\n",
       "  </thead>\n",
       "  <tbody>\n",
       "    <tr>\n",
       "      <th>1</th>\n",
       "      <td>2040.816327</td>\n",
       "      <td>0.0</td>\n",
       "      <td>0.0</td>\n",
       "    </tr>\n",
       "    <tr>\n",
       "      <th>2</th>\n",
       "      <td>2040.816327</td>\n",
       "      <td>0.0</td>\n",
       "      <td>0.0</td>\n",
       "    </tr>\n",
       "    <tr>\n",
       "      <th>3</th>\n",
       "      <td>2551.020408</td>\n",
       "      <td>0.0</td>\n",
       "      <td>0.0</td>\n",
       "    </tr>\n",
       "    <tr>\n",
       "      <th>4</th>\n",
       "      <td>2551.020408</td>\n",
       "      <td>0.0</td>\n",
       "      <td>0.0</td>\n",
       "    </tr>\n",
       "    <tr>\n",
       "      <th>5</th>\n",
       "      <td>0.000000</td>\n",
       "      <td>0.0</td>\n",
       "      <td>3000.0</td>\n",
       "    </tr>\n",
       "    <tr>\n",
       "      <th>6</th>\n",
       "      <td>0.000000</td>\n",
       "      <td>0.0</td>\n",
       "      <td>3500.0</td>\n",
       "    </tr>\n",
       "    <tr>\n",
       "      <th>7</th>\n",
       "      <td>0.000000</td>\n",
       "      <td>0.0</td>\n",
       "      <td>3500.0</td>\n",
       "    </tr>\n",
       "    <tr>\n",
       "      <th>8</th>\n",
       "      <td>0.000000</td>\n",
       "      <td>0.0</td>\n",
       "      <td>4000.0</td>\n",
       "    </tr>\n",
       "    <tr>\n",
       "      <th>9</th>\n",
       "      <td>0.000000</td>\n",
       "      <td>0.0</td>\n",
       "      <td>4000.0</td>\n",
       "    </tr>\n",
       "    <tr>\n",
       "      <th>10</th>\n",
       "      <td>0.000000</td>\n",
       "      <td>0.0</td>\n",
       "      <td>5000.0</td>\n",
       "    </tr>\n",
       "  </tbody>\n",
       "</table>\n",
       "</div>"
      ],
      "text/plain": [
       "Bond Type  government_bond  municipal_bond  saving_bonds\n",
       "Year                                                    \n",
       "1              2040.816327             0.0           0.0\n",
       "2              2040.816327             0.0           0.0\n",
       "3              2551.020408             0.0           0.0\n",
       "4              2551.020408             0.0           0.0\n",
       "5                 0.000000             0.0        3000.0\n",
       "6                 0.000000             0.0        3500.0\n",
       "7                 0.000000             0.0        3500.0\n",
       "8                 0.000000             0.0        4000.0\n",
       "9                 0.000000             0.0        4000.0\n",
       "10                0.000000             0.0        5000.0"
      ]
     },
     "execution_count": 77,
     "metadata": {},
     "output_type": "execute_result"
    }
   ],
   "source": [
    "pd.pivot_table(data=C, index='Year', columns='Bond Type', values='Allocation')"
   ]
  },
  {
   "cell_type": "markdown",
   "id": "7b78a00a",
   "metadata": {},
   "source": [
    "## Problem 6 - Study Set 1"
   ]
  },
  {
   "cell_type": "code",
   "execution_count": 113,
   "id": "868a1fbc",
   "metadata": {},
   "outputs": [],
   "source": [
    "costs = {'A':120, 'B':90, 'C':100, 'D':150}\n",
    "const = {'A':1000, 'B':1200, 'C':900, 'D':1500}"
   ]
  },
  {
   "cell_type": "code",
   "execution_count": 124,
   "id": "f6829d90",
   "metadata": {},
   "outputs": [
    {
     "data": {
      "text/plain": [
       "73.75"
      ]
     },
     "execution_count": 124,
     "metadata": {},
     "output_type": "execute_result"
    }
   ],
   "source": [
    "(200 - 126.25)"
   ]
  },
  {
   "cell_type": "code",
   "execution_count": 114,
   "id": "45f9e779",
   "metadata": {},
   "outputs": [
    {
     "name": "stdout",
     "output_type": "stream",
     "text": [
      "Gurobi Optimizer version 10.0.3 build v10.0.3rc0 (win64)\n",
      "\n",
      "CPU model: 11th Gen Intel(R) Core(TM) i7-11800H @ 2.30GHz, instruction set [SSE2|AVX|AVX2|AVX512]\n",
      "Thread count: 8 physical cores, 16 logical processors, using up to 16 threads\n",
      "\n",
      "Optimize a model with 6 rows, 2 columns and 10 nonzeros\n",
      "Model fingerprint: 0x6d24c528\n",
      "Variable types: 0 continuous, 2 integer (0 binary)\n",
      "Coefficient statistics:\n",
      "  Matrix range     [1e-01, 1e+00]\n",
      "  Objective range  [7e+01, 1e+02]\n",
      "  Bounds range     [0e+00, 0e+00]\n",
      "  RHS range        [2e+02, 2e+03]\n",
      "Presolve removed 6 rows and 2 columns\n",
      "Presolve time: 0.00s\n",
      "Presolve: All rows and columns removed\n",
      "\n",
      "Explored 0 nodes (0 simplex iterations) in 0.00 seconds (0.00 work units)\n",
      "Thread count was 1 (of 16 available processors)\n",
      "\n",
      "Solution count 1: 495374 \n",
      "\n",
      "Optimal solution found (tolerance 1.00e-04)\n",
      "Best objective 4.953737500000e+05, best bound 4.953737500000e+05, gap 0.0000%\n",
      "200.0 3733.0\n"
     ]
    }
   ],
   "source": [
    "m1 = gp.Model('engineer_problem')\n",
    "\n",
    "# each varaible\n",
    "x1 = m1.addVar(vtype=gp.GRB.INTEGER, name='x1')\n",
    "x2 = m1.addVar(vtype=gp.GRB.INTEGER, name='x2')\n",
    "\n",
    "# determining profit function \n",
    "m1.setObjective((200 - 126.25) * x1 + (250 - 121.25) * x2, gp.GRB.MAXIMIZE)\n",
    "\n",
    "# defining constraints\n",
    "m1.addConstr(x1/8 + 2*x2/8 <= const['A'], 'A_barrel_const')\n",
    "m1.addConstr(x1/8 + 2*x2/8 <= const['B'], 'B_barrel_const')\n",
    "m1.addConstr(2*x1/8 + x2/8 <= const['C'], 'C_barrel_const')\n",
    "m1.addConstr(4*x1/8 + 3*x2/8 <= const['D'], 'D_barrel_const')\n",
    "\n",
    "# global demand\n",
    "m1.addConstr(x1 >= 200, 'f1_floor')\n",
    "m1.addConstr(x2 >= 400, 'f2_floor')\n",
    "\n",
    "m1.optimize()\n",
    "print(x1.x, x2.x) "
   ]
  },
  {
   "cell_type": "code",
   "execution_count": 126,
   "id": "7d82667d",
   "metadata": {},
   "outputs": [
    {
     "name": "stdout",
     "output_type": "stream",
     "text": [
      "Gurobi Optimizer version 10.0.3 build v10.0.3rc0 (win64)\n",
      "\n",
      "CPU model: 11th Gen Intel(R) Core(TM) i7-11800H @ 2.30GHz, instruction set [SSE2|AVX|AVX2|AVX512]\n",
      "Thread count: 8 physical cores, 16 logical processors, using up to 16 threads\n",
      "\n",
      "Optimize a model with 6 rows, 2 columns and 10 nonzeros\n",
      "Model fingerprint: 0x5ca8ee35\n",
      "Variable types: 0 continuous, 2 integer (0 binary)\n",
      "Coefficient statistics:\n",
      "  Matrix range     [1e-01, 1e+00]\n",
      "  Objective range  [7e+01, 1e+02]\n",
      "  Bounds range     [0e+00, 0e+00]\n",
      "  RHS range        [2e+02, 2e+03]\n",
      "\n",
      "Loaded MIP start from previous solve with objective 275811\n",
      "\n",
      "Presolve removed 5 rows and 0 columns\n",
      "Presolve time: 0.00s\n",
      "Presolved: 1 rows, 2 columns, 2 nonzeros\n",
      "Variable types: 0 continuous, 2 integer (0 binary)\n",
      "Found heuristic solution: objective 275887.50000\n",
      "\n",
      "Root relaxation: objective 4.112500e+05, 0 iterations, 0.00 seconds (0.00 work units)\n",
      "\n",
      "    Nodes    |    Current Node    |     Objective Bounds      |     Work\n",
      " Expl Unexpl |  Obj  Depth IntInf | Incumbent    BestBd   Gap | It/Node Time\n",
      "\n",
      "*    0     0               0    411250.00000 411250.000  0.00%     -    0s\n",
      "\n",
      "Explored 1 nodes (0 simplex iterations) in 0.01 seconds (0.00 work units)\n",
      "Thread count was 16 (of 16 available processors)\n",
      "\n",
      "Solution count 3: 411250 275888 275811 \n",
      "\n",
      "Optimal solution found (tolerance 1.00e-04)\n",
      "Best objective 4.112500000000e+05, best bound 4.112500000000e+05, gap 0.0000%\n",
      "2700.0 400.0\n"
     ]
    }
   ],
   "source": [
    "m1.update()\n",
    "\n",
    "# determining profit function \n",
    "m1.setObjective(200*x1 + 250*x2 - (120*(x1/8 + 2*x2/8) + 90*(x1/8 + 2*x2/8) + 100*(1*x1/8 + 3*x2/8) + 150*(1*x1/8 + 5*x2/8)), \n",
    "                gp.GRB.MAXIMIZE)\n",
    "\n",
    "m1.optimize()\n",
    "print(x1.x, x2.x) "
   ]
  },
  {
   "cell_type": "code",
   "execution_count": 127,
   "id": "67e4646d",
   "metadata": {},
   "outputs": [
    {
     "data": {
      "text/plain": [
       "<gurobi.LinExpr: 142.5 x1 + 66.25 x2>"
      ]
     },
     "execution_count": 127,
     "metadata": {},
     "output_type": "execute_result"
    }
   ],
   "source": [
    "m1.getObjective()"
   ]
  },
  {
   "cell_type": "code",
   "execution_count": 49,
   "id": "73115f33",
   "metadata": {},
   "outputs": [
    {
     "data": {
      "text/plain": [
       "<gurobi.Model MIP instance engineer_problem: 6 constrs, 2 vars, Parameter changes: Username=(user-defined)>"
      ]
     },
     "execution_count": 49,
     "metadata": {},
     "output_type": "execute_result"
    }
   ],
   "source": [
    "m1"
   ]
  },
  {
   "cell_type": "code",
   "execution_count": 109,
   "id": "c2cb68c1",
   "metadata": {},
   "outputs": [
    {
     "name": "stdout",
     "output_type": "stream",
     "text": [
      "Gurobi Optimizer version 10.0.3 build v10.0.3rc0 (win64)\n",
      "\n",
      "CPU model: 11th Gen Intel(R) Core(TM) i7-11800H @ 2.30GHz, instruction set [SSE2|AVX|AVX2|AVX512]\n",
      "Thread count: 8 physical cores, 16 logical processors, using up to 16 threads\n",
      "\n",
      "Optimize a model with 3 rows, 3 columns and 7 nonzeros\n",
      "Model fingerprint: 0x11b5ce92\n",
      "Coefficient statistics:\n",
      "  Matrix range     [1e+00, 2e+02]\n",
      "  Objective range  [8e+00, 1e+02]\n",
      "  Bounds range     [0e+00, 0e+00]\n",
      "  RHS range        [1e+03, 4e+04]\n",
      "Presolve time: 0.00s\n",
      "Presolved: 3 rows, 3 columns, 7 nonzeros\n",
      "\n",
      "Iteration    Objective       Primal Inf.    Dual Inf.      Time\n",
      "       0    2.9000000e+31   4.437500e+30   2.900000e+01      0s\n",
      "       3    1.1800000e+05   0.000000e+00   0.000000e+00      0s\n",
      "\n",
      "Solved in 3 iterations and 0.00 seconds (0.00 work units)\n",
      "Optimal objective  1.180000000e+05\n",
      "Optimal␣solution␣found!\n",
      "x1:␣10000\n",
      "Objective:␣118000\n",
      "x2:␣5000\n",
      "Objective:␣118000\n",
      "x3:␣270\n",
      "Objective:␣118000\n"
     ]
    }
   ],
   "source": [
    "m = gp.Model(\"CKC\")\n",
    "# Add decision variables\n",
    "x1 = m.addVar(vtype=gp.GRB.CONTINUOUS , name=\"x1\")\n",
    "x2 = m.addVar(vtype=gp.GRB.CONTINUOUS , name=\"x2\")\n",
    "x3 = m.addVar(vtype=gp.GRB.CONTINUOUS , name=\"x3\")\n",
    "# Integrate new variables\n",
    "m.update()\n",
    "# Set the objective function\n",
    "m.setObjective(8 * x1 + 13 * x2 - 100 * x3, gp.GRB.MAXIMIZE)\n",
    "# Add constraints\n",
    "m.addConstr(x1 + 2 * x2 <= 20000, \"labor_constraint\")\n",
    "m.addConstr(2 * x1 + 3 * x2 <= 35000, \"chemical_constraint\")\n",
    "m.addConstr(3 * x1 + 5 * x2 - 200 * x3<= 1000 , \"demand_constraint\")\n",
    "# Optimize the model\n",
    "m.optimize()\n",
    "\n",
    "# Display the optimal solution\n",
    "if m.status == gp.GRB.OPTIMAL:\n",
    "    print('Optimal␣solution␣found!')\n",
    "    for v in m.getVars():\n",
    "        print('%s:␣%g' % (v.varName , v.x))\n",
    "        print('Objective:␣%g' % m.objVal)"
   ]
  },
  {
   "cell_type": "code",
   "execution_count": 100,
   "id": "84867086",
   "metadata": {},
   "outputs": [],
   "source": [
    "# # Remove the old demand constraint\n",
    "# m.remove(m.getConstrByName(\"demand_constraint\"))\n",
    "# # Add the updated demand constraint\n",
    "# m.addConstr(3 * x1 + 5 * x2 <= 1000 + 250 * x3, \"demand_constraint\")\n",
    "# # Re-optimize the model with the updated constraint\n",
    "# m.optimize()\n",
    "# # Display the updated optimal solution\n",
    "# if m.status == gp.GRB.OPTIMAL:\n",
    "#     print('Optimal␣solution␣found!')\n",
    "#     for v in m.getVars():\n",
    "#         print('%s:␣%g' % (v.varName , v.x))\n",
    "#         print('Objective:␣%g' % m.objVal)"
   ]
  },
  {
   "cell_type": "code",
   "execution_count": 111,
   "id": "03e59052",
   "metadata": {},
   "outputs": [
    {
     "name": "stdout",
     "output_type": "stream",
     "text": [
      "Gurobi Optimizer version 10.0.3 build v10.0.3rc0 (win64)\n",
      "\n",
      "CPU model: 11th Gen Intel(R) Core(TM) i7-11800H @ 2.30GHz, instruction set [SSE2|AVX|AVX2|AVX512]\n",
      "Thread count: 8 physical cores, 16 logical processors, using up to 16 threads\n",
      "\n",
      "Optimize a model with 4 rows, 4 columns and 11 nonzeros\n",
      "Coefficient statistics:\n",
      "  Matrix range     [1e+00, 2e+02]\n",
      "  Objective range  [8e+00, 1e+02]\n",
      "  Bounds range     [0e+00, 0e+00]\n",
      "  RHS range        [1e+03, 4e+04]\n",
      "Iteration    Objective       Primal Inf.    Dual Inf.      Time\n",
      "       0    1.1800000e+05   0.000000e+00   0.000000e+00      0s\n",
      "\n",
      "Solved in 0 iterations and 0.00 seconds (0.00 work units)\n",
      "Optimal objective  1.180000000e+05\n",
      "Updated␣Optimal␣solution␣found!\n",
      "x1:␣10000\n",
      "Updated␣Objective:␣118000\n",
      "x2:␣5000\n",
      "Updated␣Objective:␣118000\n",
      "x3:␣270\n",
      "Updated␣Objective:␣118000\n",
      "x4:␣0\n",
      "Updated␣Objective:␣118000\n"
     ]
    }
   ],
   "source": [
    "# Add the new decision variable for the second promoter\n",
    "# m.remove(m.getVarByName(\"x4\"))\n",
    "x4 = m.addVar(vtype=gp.GRB.CONTINUOUS , name=\"x4\")\n",
    "\n",
    "# Integrate the new variable\n",
    "m.update()\n",
    "\n",
    "# Modify the Objective Function to include the cost associated with the new promoter\n",
    "# m.setObjective(m.getObjective() - 75 * x4, gp.GRB.MAXIMIZE) # Note the subtraction of the new term\n",
    "\n",
    "# Set the objective function\n",
    "m.setObjective(8 * x1 + 13 * x2 - 100 * x3 - 75 * x4, gp.GRB.MAXIMIZE)\n",
    "m.addConstr(3 * x1 + 5 * x2 - 200 * x3 - 110 * x4 <= 1000, \"demand_constraint\")\n",
    "\n",
    "# # Modify the Demand Constraint to include the additional demand generated by the new promoter\n",
    "# demand_constr = m.getConstrByName(\"demand_constraint\")\n",
    "# m.chgCoeff(demand_constr , x4, 110) # 110 being the increase in demand by the new promoter\n",
    "\n",
    "# Re-optimize the model with the updated objective function and constraint\n",
    "m.optimize()\n",
    "\n",
    "# Display the updated optimal solution\n",
    "if m.status == gp.GRB.OPTIMAL:\n",
    "    print('Updated␣Optimal␣solution␣found!')\n",
    "    for v in m.getVars():\n",
    "        print('%s:␣%g' % (v.varName , v.x))\n",
    "        print('Updated␣Objective:␣%g' % m.objVal)"
   ]
  },
  {
   "cell_type": "code",
   "execution_count": 106,
   "id": "17f4beaa",
   "metadata": {},
   "outputs": [
    {
     "data": {
      "text/plain": [
       "[<gurobi.Constr labor_constraint>,\n",
       " <gurobi.Constr chemical_constraint>,\n",
       " <gurobi.Constr demand_constraint>,\n",
       " <gurobi.Constr demand_constraint>]"
      ]
     },
     "execution_count": 106,
     "metadata": {},
     "output_type": "execute_result"
    }
   ],
   "source": [
    "[i for i in m.getConstrs()]"
   ]
  },
  {
   "cell_type": "code",
   "execution_count": 112,
   "id": "efdd3feb",
   "metadata": {},
   "outputs": [
    {
     "data": {
      "text/plain": [
       "<gurobi.LinExpr: 8.0 x1 + 13.0 x2 + -100.0 x3 + -75.0 x4>"
      ]
     },
     "execution_count": 112,
     "metadata": {},
     "output_type": "execute_result"
    }
   ],
   "source": [
    "m.getObjective()"
   ]
  },
  {
   "cell_type": "code",
   "execution_count": null,
   "id": "e0bb2318",
   "metadata": {},
   "outputs": [],
   "source": []
  }
 ],
 "metadata": {
  "kernelspec": {
   "display_name": "Python 3 (ipykernel)",
   "language": "python",
   "name": "python3"
  },
  "language_info": {
   "codemirror_mode": {
    "name": "ipython",
    "version": 3
   },
   "file_extension": ".py",
   "mimetype": "text/x-python",
   "name": "python",
   "nbconvert_exporter": "python",
   "pygments_lexer": "ipython3",
   "version": "3.9.7"
  }
 },
 "nbformat": 4,
 "nbformat_minor": 5
}
