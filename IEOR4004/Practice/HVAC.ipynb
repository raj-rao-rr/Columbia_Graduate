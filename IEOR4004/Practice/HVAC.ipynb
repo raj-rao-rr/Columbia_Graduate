{
 "cells": [
  {
   "cell_type": "code",
   "execution_count": 2,
   "metadata": {},
   "outputs": [],
   "source": [
    "import numpy as np\n",
    "from scipy.optimize import minimize"
   ]
  },
  {
   "cell_type": "code",
   "execution_count": 3,
   "metadata": {},
   "outputs": [],
   "source": [
    "# Sample hourly outdoor temperatures (24 hours)\n",
    "outdoor_temps = [10, 9, 8, 7, 7, 6, 7, 9, 12, 15, 18, 20, 22, 23, 24, 24, 23, 22, 20, 18, 16, 14, 12, 11]\n",
    "\n",
    "# Desired indoor temperature\n",
    "desired_temp = 22  # in degrees Celsius\n",
    "temp_range = 2  # permissible range from the desired temperature\n",
    "rate = 0.5  # hypothetical energy rate"
   ]
  },
  {
   "cell_type": "code",
   "execution_count": 4,
   "metadata": {},
   "outputs": [
    {
     "name": "stdout",
     "output_type": "stream",
     "text": [
      "Optimized indoor temperatures: [20.         20.         20.         20.         20.         20.\n",
      " 20.         20.         20.         20.         20.         20.\n",
      " 21.99999885 22.99999865 24.         24.         22.99999865 21.99999885\n",
      " 20.         20.         20.         20.         20.         20.        ]\n",
      "Total energy consumption: 70.50000250104783\n"
     ]
    }
   ],
   "source": [
    "# Energy consumption function\n",
    "def energy_consumption(indoor_temps, outdoor_temps, rate):\n",
    "    return sum(rate * abs(indoor - outdoor) for indoor, outdoor in zip(indoor_temps, outdoor_temps))\n",
    "\n",
    "# Objective function\n",
    "def objective(indoor_temps):\n",
    "    return energy_consumption(indoor_temps, outdoor_temps, rate)\n",
    "\n",
    "# Constraints\n",
    "def constraint_upper(indoor_temps):\n",
    "    return desired_temp + temp_range - indoor_temps\n",
    "\n",
    "def constraint_lower(indoor_temps):\n",
    "    return indoor_temps - (desired_temp - temp_range)\n",
    "\n",
    "# Initial guess (keeping indoor temperature constant at desired_temp)\n",
    "initial_guess = [desired_temp] * 24\n",
    "\n",
    "# Define the bounds for each hour's temperature\n",
    "bounds = [(desired_temp - temp_range, desired_temp + temp_range)] * 24\n",
    "\n",
    "# Optimization\n",
    "cons = [{'type': 'ineq', 'fun': constraint_upper},\n",
    "        {'type': 'ineq', 'fun': constraint_lower}]\n",
    "\n",
    "result = minimize(objective, initial_guess, method='SLSQP', bounds=bounds, constraints=cons)\n",
    "\n",
    "# Results\n",
    "if result.success:\n",
    "    optimized_temps = result.x\n",
    "    print(\"Optimized indoor temperatures:\", optimized_temps)\n",
    "    print(\"Total energy consumption:\", objective(optimized_temps))\n",
    "else:\n",
    "    print(\"Optimization failed:\", result.message)"
   ]
  }
 ],
 "metadata": {
  "kernelspec": {
   "display_name": "Python 3",
   "language": "python",
   "name": "python3"
  },
  "language_info": {
   "codemirror_mode": {
    "name": "ipython",
    "version": 3
   },
   "file_extension": ".py",
   "mimetype": "text/x-python",
   "name": "python",
   "nbconvert_exporter": "python",
   "pygments_lexer": "ipython3",
   "version": "3.8.5"
  }
 },
 "nbformat": 4,
 "nbformat_minor": 4
}
