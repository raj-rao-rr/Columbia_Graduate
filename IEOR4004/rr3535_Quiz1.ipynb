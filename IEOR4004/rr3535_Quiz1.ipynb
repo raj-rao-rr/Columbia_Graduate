{
 "cells": [
  {
   "cell_type": "code",
   "execution_count": 35,
   "id": "a39985d1",
   "metadata": {},
   "outputs": [],
   "source": [
    "import pandas as pd \n",
    "import numpy as np \n",
    "import gurobipy as gp "
   ]
  },
  {
   "cell_type": "markdown",
   "id": "ca13a1f5",
   "metadata": {},
   "source": [
    "## Question 2"
   ]
  },
  {
   "cell_type": "code",
   "execution_count": 36,
   "id": "d4dbb19b",
   "metadata": {},
   "outputs": [
    {
     "name": "stdout",
     "output_type": "stream",
     "text": [
      "Gurobi Optimizer version 10.0.3 build v10.0.3rc0 (win64)\n",
      "\n",
      "CPU model: 11th Gen Intel(R) Core(TM) i7-11800H @ 2.30GHz, instruction set [SSE2|AVX|AVX2|AVX512]\n",
      "Thread count: 8 physical cores, 16 logical processors, using up to 16 threads\n",
      "\n",
      "Optimize a model with 1 rows, 4 columns and 4 nonzeros\n",
      "Model fingerprint: 0xc5c29262\n",
      "Variable types: 0 continuous, 4 integer (0 binary)\n",
      "Coefficient statistics:\n",
      "  Matrix range     [4e+00, 3e+01]\n",
      "  Objective range  [5e-02, 5e-01]\n",
      "  Bounds range     [0e+00, 0e+00]\n",
      "  RHS range        [4e+02, 4e+02]\n",
      "Found heuristic solution: objective 8.0000000\n",
      "Presolve removed 1 rows and 4 columns\n",
      "Presolve time: 0.00s\n",
      "Presolve: All rows and columns removed\n",
      "\n",
      "Explored 0 nodes (0 simplex iterations) in 0.01 seconds (0.00 work units)\n",
      "Thread count was 1 (of 16 available processors)\n",
      "\n",
      "Solution count 1: 8 \n",
      "\n",
      "Optimal solution found (tolerance 1.00e-04)\n",
      "Best objective 8.000000000000e+00, best bound 8.000000000000e+00, gap 0.0000%\n",
      "16.0 0.0 -0.0 0.0\n"
     ]
    }
   ],
   "source": [
    "m1 = gp.Model('question2')\n",
    "\n",
    "# adding variables for quantity for each produced (each variable is defined integer so satsify integer constraint)\n",
    "x1 = m1.addVar(vtype=gp.GRB.INTEGER, name='carbon_turbo')\n",
    "x2 = m1.addVar(vtype=gp.GRB.INTEGER, name='carbon_propeller')\n",
    "x3 = m1.addVar(vtype=gp.GRB.INTEGER, name='alloy_turbo')\n",
    "x4 = m1.addVar(vtype=gp.GRB.INTEGER, name='alloy_propeller')\n",
    "\n",
    "# create profit function to optimize\n",
    "m1.setObjective(x1*(1-0.5) + x2*(0.5-0.35) + x3*(0.25-0.15) + x4*(0.15-0.1), gp.GRB.MAXIMIZE)\n",
    "\n",
    "# adding labor constraints\n",
    "m1.addConstr(25*x1 + 10*x2 + 20*x3 + 4*x4 <= 400, 'labor_constr')\n",
    "\n",
    "m1.optimize()\n",
    "\n",
    "if m1.status == gp.GRB.OPTIMAL:\n",
    "    print(x1.x, x2.x, x3.x, x4.x)"
   ]
  },
  {
   "cell_type": "code",
   "execution_count": 37,
   "id": "f47b7a85",
   "metadata": {},
   "outputs": [
    {
     "data": {
      "text/plain": [
       "8.0"
      ]
     },
     "execution_count": 37,
     "metadata": {},
     "output_type": "execute_result"
    }
   ],
   "source": [
    "# optimal profit \n",
    "16*(1-0.5) + 0*(0.5-0.35) + 0*(0.25-0.15) + 0*(0.15-0.1)"
   ]
  },
  {
   "cell_type": "code",
   "execution_count": 38,
   "id": "356cf7af",
   "metadata": {},
   "outputs": [
    {
     "name": "stdout",
     "output_type": "stream",
     "text": [
      "Gurobi Optimizer version 10.0.3 build v10.0.3rc0 (win64)\n",
      "\n",
      "CPU model: 11th Gen Intel(R) Core(TM) i7-11800H @ 2.30GHz, instruction set [SSE2|AVX|AVX2|AVX512]\n",
      "Thread count: 8 physical cores, 16 logical processors, using up to 16 threads\n",
      "\n",
      "Optimize a model with 1 rows, 4 columns and 4 nonzeros\n",
      "Model fingerprint: 0x0f750884\n",
      "Variable types: 0 continuous, 4 integer (0 binary)\n",
      "Coefficient statistics:\n",
      "  Matrix range     [4e+00, 3e+01]\n",
      "  Objective range  [5e-02, 5e-01]\n",
      "  Bounds range     [0e+00, 0e+00]\n",
      "  RHS range        [4e+02, 4e+02]\n",
      "\n",
      "Loaded MIP start from previous solve with objective 8\n",
      "\n",
      "Presolve removed 1 rows and 4 columns\n",
      "Presolve time: 0.00s\n",
      "Presolve: All rows and columns removed\n",
      "\n",
      "Explored 0 nodes (0 simplex iterations) in 0.01 seconds (0.00 work units)\n",
      "Thread count was 1 (of 16 available processors)\n",
      "\n",
      "Solution count 2: 8.15 8 \n",
      "\n",
      "Optimal solution found (tolerance 1.00e-04)\n",
      "Best objective 8.150000000000e+00, best bound 8.150000000000e+00, gap 0.0000%\n",
      "16.0 1.0 -0.0 0.0\n"
     ]
    }
   ],
   "source": [
    "# modifying the constraints to accept maxiumum of 410 labor hours\n",
    "m1.remove(m1.getConstrByName('labor_constr'))\n",
    "m1.update()\n",
    "m1.addConstr(25*x1 + 10*x2 + 20*x3 + 4*x4 <= 410, 'labor_constr_new')\n",
    "\n",
    "m1.optimize()\n",
    "\n",
    "if m1.status == gp.GRB.OPTIMAL:\n",
    "    print(x1.x, x2.x, x3.x, x4.x)"
   ]
  },
  {
   "cell_type": "markdown",
   "id": "2de58cc0",
   "metadata": {},
   "source": [
    "## Problem 3"
   ]
  },
  {
   "cell_type": "code",
   "execution_count": 40,
   "id": "36a60c89",
   "metadata": {},
   "outputs": [
    {
     "name": "stdout",
     "output_type": "stream",
     "text": [
      "True\n",
      "True\n",
      "True\n",
      "True\n",
      "True\n",
      "True\n",
      "True\n",
      "False\n"
     ]
    }
   ],
   "source": [
    "# problem 3.2\n",
    "x1 = 33\n",
    "x2 = 130\n",
    "x3 = 30\n",
    "x4 = 20\n",
    "\n",
    "# minimum checked [pass]\n",
    "print(x1 >= 30); print(x2>=130); print(x3>=30); print(x4>=20)\n",
    "\n",
    "# below the budget constraint [pass] \n",
    "print(5000*x1 + 1000*x2 + 9000*x3 + 12000*x4 <= 2200000)\n",
    "\n",
    "# # below the labor constraint [pass]\n",
    "print(3*x1 + 2*x2 + 5*x3 + 10*x4 <= 800)\n",
    "\n",
    "# for every small business, no more than 3 home loans\n",
    "print(x3 <= 3*x4)\n",
    "\n",
    "# personal loan = 4 auto loans [fail]\n",
    "print(x1*4 == x3)\n"
   ]
  },
  {
   "cell_type": "code",
   "execution_count": 47,
   "id": "9ba30842",
   "metadata": {},
   "outputs": [
    {
     "name": "stdout",
     "output_type": "stream",
     "text": [
      "Gurobi Optimizer version 10.0.3 build v10.0.3rc0 (win64)\n",
      "\n",
      "CPU model: 11th Gen Intel(R) Core(TM) i7-11800H @ 2.30GHz, instruction set [SSE2|AVX|AVX2|AVX512]\n",
      "Thread count: 8 physical cores, 16 logical processors, using up to 16 threads\n",
      "\n",
      "Optimize a model with 8 rows, 4 columns and 16 nonzeros\n",
      "Model fingerprint: 0x01b07616\n",
      "Variable types: 0 continuous, 4 integer (0 binary)\n",
      "Coefficient statistics:\n",
      "  Matrix range     [1e+00, 1e+04]\n",
      "  Objective range  [3e+01, 7e+02]\n",
      "  Bounds range     [0e+00, 0e+00]\n",
      "  RHS range        [1e+01, 2e+06]\n",
      "Presolve removed 6 rows and 2 columns\n",
      "Presolve time: 0.00s\n",
      "Presolved: 2 rows, 2 columns, 4 nonzeros\n",
      "Variable types: 0 continuous, 2 integer (0 binary)\n",
      "Found heuristic solution: objective 43530.000000\n",
      "\n",
      "Root relaxation: cutoff, 0 iterations, 0.00 seconds (0.00 work units)\n",
      "\n",
      "Explored 1 nodes (0 simplex iterations) in 0.01 seconds (0.00 work units)\n",
      "Thread count was 16 (of 16 available processors)\n",
      "\n",
      "Solution count 1: 43530 \n",
      "\n",
      "Optimal solution found (tolerance 1.00e-04)\n",
      "Best objective 4.353000000000e+04, best bound 4.353000000000e+04, gap 0.0000%\n",
      "33.0 132.0 31.0 28.0\n"
     ]
    }
   ],
   "source": [
    "# problem 3.3\n",
    "m2 = gp.Model('question3')\n",
    "\n",
    "# adding variables for quantity for each produced (each variable is defined integer so satsify integer constraint)\n",
    "x1 = m2.addVar(vtype=gp.GRB.INTEGER, name='personal_loans')\n",
    "x2 = m2.addVar(vtype=gp.GRB.INTEGER, name='auto_loans')\n",
    "x3 = m2.addVar(vtype=gp.GRB.INTEGER, name='home_loans')\n",
    "x4 = m2.addVar(vtype=gp.GRB.INTEGER, name='small_business')\n",
    "\n",
    "# create profit function to optimize\n",
    "m2.setObjective(x1*(250) + x2*(30) + x3*(360) + x4*(720), gp.GRB.MAXIMIZE)\n",
    "\n",
    "# adding labor constraints\n",
    "m2.addConstr(3*x1 + 2*x2 + 5*x3 + 10*x4 <= 800, 'labor_constr')\n",
    "\n",
    "# adding budget constraints\n",
    "m2.addConstr(5000*x1 + 1000*x2 + 9000*x3 + 12000*x4 <= 2200000, 'budget_constr')\n",
    "\n",
    "# minimum bank policy loan limits\n",
    "m2.addConstr(x1 >= 30, 'p_constr')\n",
    "m2.addConstr(x2 >= 130, 'a_constr')\n",
    "m2.addConstr(x3 >= 30, 'h_constr')\n",
    "m2.addConstr(x4 >= 10, 's_constr')\n",
    "\n",
    "# risk diversification constraints\n",
    "m2.addConstr(x2 == 4*x1, 'risk1') # for every personal loan granted, four auto loans have to be granted\n",
    "m2.addConstr(x3 <= 3*x4, 'risk2') # for every small business loan granted, no more than three home loans should be granted\n",
    "\n",
    "m2.optimize()\n",
    "\n",
    "if m1.status == gp.GRB.OPTIMAL:\n",
    "    print(x1.x, x2.x, x3.x, x4.x)\n"
   ]
  },
  {
   "cell_type": "markdown",
   "id": "2853e781",
   "metadata": {},
   "source": [
    "## Problem 1"
   ]
  },
  {
   "cell_type": "code",
   "execution_count": 48,
   "id": "153fa0b3",
   "metadata": {},
   "outputs": [
    {
     "name": "stdout",
     "output_type": "stream",
     "text": [
      "Gurobi Optimizer version 10.0.3 build v10.0.3rc0 (win64)\n",
      "\n",
      "CPU model: 11th Gen Intel(R) Core(TM) i7-11800H @ 2.30GHz, instruction set [SSE2|AVX|AVX2|AVX512]\n",
      "Thread count: 8 physical cores, 16 logical processors, using up to 16 threads\n",
      "\n",
      "Optimize a model with 3 rows, 3 columns and 6 nonzeros\n",
      "Model fingerprint: 0x03cc5bf8\n",
      "Coefficient statistics:\n",
      "  Matrix range     [1e+00, 3e+00]\n",
      "  Objective range  [2e+00, 3e+00]\n",
      "  Bounds range     [0e+00, 0e+00]\n",
      "  RHS range        [2e+00, 1e+01]\n",
      "Presolve removed 3 rows and 3 columns\n",
      "Presolve time: 0.00s\n",
      "Presolve: All rows and columns removed\n",
      "Iteration    Objective       Primal Inf.    Dual Inf.      Time\n",
      "       0    1.2000000e+01   0.000000e+00   0.000000e+00      0s\n",
      "\n",
      "Solved in 0 iterations and 0.00 seconds (0.00 work units)\n",
      "Optimal objective  1.200000000e+01\n",
      "4.0 0.0 0.0\n"
     ]
    }
   ],
   "source": [
    "# confirmatoin LP for question 1\n",
    "m3 = gp.Model('question1')\n",
    "\n",
    "# adding variables for quantity for each produced (each variable is defined integer so satsify integer constraint)\n",
    "x1 = m3.addVar(vtype=gp.GRB.CONTINUOUS, name='x1')\n",
    "x2 = m3.addVar(vtype=gp.GRB.CONTINUOUS, name='x2')\n",
    "x3 = m3.addVar(vtype=gp.GRB.CONTINUOUS, name='x3')\n",
    "\n",
    "# create profit function to optimize\n",
    "m3.setObjective(3*x1 - 2*x2, gp.GRB.MAXIMIZE)\n",
    "\n",
    "# adding labor constraints\n",
    "m3.addConstr(3*x1 + x2 <= 12)\n",
    "m3.addConstr(3*x1 - 2*x2 - x3 == 12)\n",
    "m3.addConstr(x1 >= 2)\n",
    "\n",
    "m3.optimize()\n",
    "\n",
    "if m1.status == gp.GRB.OPTIMAL:\n",
    "    print(x1.x, x2.x, x3.x)"
   ]
  },
  {
   "cell_type": "code",
   "execution_count": null,
   "id": "9679006d",
   "metadata": {},
   "outputs": [],
   "source": []
  }
 ],
 "metadata": {
  "kernelspec": {
   "display_name": "Python 3 (ipykernel)",
   "language": "python",
   "name": "python3"
  },
  "language_info": {
   "codemirror_mode": {
    "name": "ipython",
    "version": 3
   },
   "file_extension": ".py",
   "mimetype": "text/x-python",
   "name": "python",
   "nbconvert_exporter": "python",
   "pygments_lexer": "ipython3",
   "version": "3.9.7"
  }
 },
 "nbformat": 4,
 "nbformat_minor": 5
}
