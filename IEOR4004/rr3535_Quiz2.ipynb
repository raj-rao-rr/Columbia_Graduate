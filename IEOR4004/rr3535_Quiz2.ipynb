{
 "cells": [
  {
   "cell_type": "code",
   "execution_count": 4,
   "id": "a39985d1",
   "metadata": {},
   "outputs": [],
   "source": [
    "import pandas as pd \n",
    "import numpy as np \n",
    "import gurobipy as gp "
   ]
  },
  {
   "cell_type": "markdown",
   "id": "1cb1da8a",
   "metadata": {},
   "source": [
    "## Question 1"
   ]
  },
  {
   "cell_type": "code",
   "execution_count": 5,
   "id": "1805accb",
   "metadata": {},
   "outputs": [],
   "source": [
    "path = {('s', 'a'):1, ('s', 'b'):4, ('a', 'b'):2 ,('a', 'c'):6, ('b', 'd'):1, \n",
    "        ('b', 'e'):2, ('c', 'f'):2, ('d', 'c'):3,('d', 'g'):7, ('e', 'd'):3, ('f', 'g'):1}"
   ]
  },
  {
   "cell_type": "code",
   "execution_count": 15,
   "id": "ed97d347",
   "metadata": {},
   "outputs": [
    {
     "name": "stdout",
     "output_type": "stream",
     "text": [
      "Gurobi Optimizer version 10.0.3 build v10.0.3rc0 (win64)\n",
      "\n",
      "CPU model: 11th Gen Intel(R) Core(TM) i7-11800H @ 2.30GHz, instruction set [SSE2|AVX|AVX2|AVX512]\n",
      "Thread count: 8 physical cores, 16 logical processors, using up to 16 threads\n",
      "\n",
      "Optimize a model with 8 rows, 11 columns and 22 nonzeros\n",
      "Model fingerprint: 0x06faff3e\n",
      "Variable types: 0 continuous, 11 integer (11 binary)\n",
      "Coefficient statistics:\n",
      "  Matrix range     [1e+00, 1e+00]\n",
      "  Objective range  [1e+00, 7e+00]\n",
      "  Bounds range     [1e+00, 1e+00]\n",
      "  RHS range        [1e+00, 1e+00]\n",
      "Found heuristic solution: objective 10.0000000\n",
      "Presolve removed 8 rows and 11 columns\n",
      "Presolve time: 0.00s\n",
      "Presolve: All rows and columns removed\n",
      "\n",
      "Explored 0 nodes (0 simplex iterations) in 0.00 seconds (0.00 work units)\n",
      "Thread count was 1 (of 16 available processors)\n",
      "\n",
      "Solution count 1: 10 \n",
      "\n",
      "Optimal solution found (tolerance 1.00e-04)\n",
      "Best objective 1.000000000000e+01, best bound 1.000000000000e+01, gap 0.0000%\n",
      "path ('s', 'a') = 1.0\n",
      "path ('a', 'c') = 1.0\n",
      "path ('c', 'f') = 1.0\n",
      "path ('f', 'g') = 1.0\n"
     ]
    }
   ],
   "source": [
    "m = gp.Model('q1')\n",
    "\n",
    "alloc = {i: m.addVar(vtype=gp.GRB.BINARY, name=f'{i}') for i in path}\n",
    "\n",
    "# minimize the shorted distance for a given path assignment\n",
    "m.setObjective(sum(alloc[i] * path[i] for i in alloc), gp.GRB.MINIMIZE)\n",
    "\n",
    "# constraints to flow\n",
    "m.addConstr(alloc['s', 'a'] + alloc['s', 'b'] == 1) # start\n",
    "m.addConstr(alloc['f', 'g'] + alloc['d', 'g'] == 1) # end\n",
    "\n",
    "m.addConstr(alloc['s', 'a'] == alloc['a', 'c'] + alloc['a', 'b'])\n",
    "m.addConstr(alloc['s', 'b'] + alloc['a', 'b'] == alloc['b', 'd'] + alloc['b', 'e'])\n",
    "m.addConstr(alloc['a', 'c'] + alloc['d', 'c'] == alloc['c', 'f'])\n",
    "m.addConstr(alloc['b', 'd'] + alloc['e', 'd'] == alloc['d', 'c'] + alloc['d', 'g'])\n",
    "m.addConstr(alloc['b', 'e'] == alloc['e', 'd'])\n",
    "m.addConstr(alloc['c', 'f'] == alloc['f', 'g'])\n",
    "\n",
    "m.optimize()\n",
    "\n",
    "if m.status == gp.GRB.OPTIMAL:\n",
    "    for i in alloc:\n",
    "        if alloc[i].x == 1:\n",
    "            print(f'path {i} = {alloc[i].x}')\n",
    "\n"
   ]
  },
  {
   "cell_type": "markdown",
   "id": "0b349379",
   "metadata": {},
   "source": [
    "## Question 2"
   ]
  },
  {
   "cell_type": "code",
   "execution_count": 20,
   "id": "e56bef20",
   "metadata": {},
   "outputs": [],
   "source": [
    "workers = ['a', 'b', 'c', 'd', 'e', 'f', 'g']\n",
    "machine = ['m1', 'm2', 'm3', 'm4', 'm5']\n",
    "\n",
    "premium = {\n",
    "    'a': {'m1': 36, 'm2': 34, 'm3': 32, 'm4': 35, 'm5': 36},\n",
    "    'b': {'m1': 21, 'm2': 25, 'm3': 24, 'm4': 25, 'm5': 26},\n",
    "    'c': {'m1': 21, 'm2': 24, 'm3': 24, 'm4': 25, 'm5': 24},\n",
    "    'd': {'m1': 34, 'm2': 33, 'm3': 37, 'm4': 28, 'm5': 37},\n",
    "    'e': {'m1': 29, 'm2': 24, 'm3': 26, 'm4': 30, 'm5': 29},\n",
    "    'f': {'m1': 31, 'm2': 30, 'm3': 30, 'm4': 32, 'm5': 31},\n",
    "    'g': {'m1': 27, 'm2': 25, 'm3': 26, 'm4': 27, 'm5': 29}\n",
    "          }"
   ]
  },
  {
   "cell_type": "code",
   "execution_count": 21,
   "id": "cd23a3bc",
   "metadata": {},
   "outputs": [
    {
     "data": {
      "text/html": [
       "<div>\n",
       "<style scoped>\n",
       "    .dataframe tbody tr th:only-of-type {\n",
       "        vertical-align: middle;\n",
       "    }\n",
       "\n",
       "    .dataframe tbody tr th {\n",
       "        vertical-align: top;\n",
       "    }\n",
       "\n",
       "    .dataframe thead th {\n",
       "        text-align: right;\n",
       "    }\n",
       "</style>\n",
       "<table border=\"1\" class=\"dataframe\">\n",
       "  <thead>\n",
       "    <tr style=\"text-align: right;\">\n",
       "      <th></th>\n",
       "      <th>a</th>\n",
       "      <th>b</th>\n",
       "      <th>c</th>\n",
       "      <th>d</th>\n",
       "      <th>e</th>\n",
       "      <th>f</th>\n",
       "      <th>g</th>\n",
       "    </tr>\n",
       "  </thead>\n",
       "  <tbody>\n",
       "    <tr>\n",
       "      <th>m1</th>\n",
       "      <td>36</td>\n",
       "      <td>21</td>\n",
       "      <td>21</td>\n",
       "      <td>34</td>\n",
       "      <td>29</td>\n",
       "      <td>31</td>\n",
       "      <td>27</td>\n",
       "    </tr>\n",
       "    <tr>\n",
       "      <th>m2</th>\n",
       "      <td>34</td>\n",
       "      <td>25</td>\n",
       "      <td>24</td>\n",
       "      <td>33</td>\n",
       "      <td>24</td>\n",
       "      <td>30</td>\n",
       "      <td>25</td>\n",
       "    </tr>\n",
       "    <tr>\n",
       "      <th>m3</th>\n",
       "      <td>32</td>\n",
       "      <td>24</td>\n",
       "      <td>24</td>\n",
       "      <td>37</td>\n",
       "      <td>26</td>\n",
       "      <td>30</td>\n",
       "      <td>26</td>\n",
       "    </tr>\n",
       "    <tr>\n",
       "      <th>m4</th>\n",
       "      <td>35</td>\n",
       "      <td>25</td>\n",
       "      <td>25</td>\n",
       "      <td>28</td>\n",
       "      <td>30</td>\n",
       "      <td>32</td>\n",
       "      <td>27</td>\n",
       "    </tr>\n",
       "    <tr>\n",
       "      <th>m5</th>\n",
       "      <td>36</td>\n",
       "      <td>26</td>\n",
       "      <td>24</td>\n",
       "      <td>37</td>\n",
       "      <td>29</td>\n",
       "      <td>31</td>\n",
       "      <td>29</td>\n",
       "    </tr>\n",
       "  </tbody>\n",
       "</table>\n",
       "</div>"
      ],
      "text/plain": [
       "     a   b   c   d   e   f   g\n",
       "m1  36  21  21  34  29  31  27\n",
       "m2  34  25  24  33  24  30  25\n",
       "m3  32  24  24  37  26  30  26\n",
       "m4  35  25  25  28  30  32  27\n",
       "m5  36  26  24  37  29  31  29"
      ]
     },
     "execution_count": 21,
     "metadata": {},
     "output_type": "execute_result"
    }
   ],
   "source": [
    "pd.DataFrame(premium)"
   ]
  },
  {
   "cell_type": "code",
   "execution_count": 24,
   "id": "c9cf6cb2",
   "metadata": {},
   "outputs": [
    {
     "name": "stdout",
     "output_type": "stream",
     "text": [
      "Gurobi Optimizer version 10.0.3 build v10.0.3rc0 (win64)\n",
      "\n",
      "CPU model: 11th Gen Intel(R) Core(TM) i7-11800H @ 2.30GHz, instruction set [SSE2|AVX|AVX2|AVX512]\n",
      "Thread count: 8 physical cores, 16 logical processors, using up to 16 threads\n",
      "\n",
      "Optimize a model with 12 rows, 35 columns and 70 nonzeros\n",
      "Model fingerprint: 0xa0d6bf18\n",
      "Variable types: 0 continuous, 35 integer (35 binary)\n",
      "Coefficient statistics:\n",
      "  Matrix range     [1e+00, 1e+00]\n",
      "  Objective range  [2e+01, 4e+01]\n",
      "  Bounds range     [1e+00, 1e+00]\n",
      "  RHS range        [1e+00, 1e+00]\n",
      "Found heuristic solution: objective 204.0000000\n",
      "Presolve time: 0.00s\n",
      "Presolved: 12 rows, 35 columns, 70 nonzeros\n",
      "Variable types: 0 continuous, 35 integer (35 binary)\n",
      "Found heuristic solution: objective 192.0000000\n",
      "\n",
      "Root relaxation: objective 1.820000e+02, 8 iterations, 0.00 seconds (0.00 work units)\n",
      "\n",
      "    Nodes    |    Current Node    |     Objective Bounds      |     Work\n",
      " Expl Unexpl |  Obj  Depth IntInf | Incumbent    BestBd   Gap | It/Node Time\n",
      "\n",
      "*    0     0               0     182.0000000  182.00000  0.00%     -    0s\n",
      "\n",
      "Explored 1 nodes (8 simplex iterations) in 0.03 seconds (0.00 work units)\n",
      "Thread count was 16 (of 16 available processors)\n",
      "\n",
      "Solution count 3: 182 192 204 \n",
      "\n",
      "Optimal solution found (tolerance 1.00e-04)\n",
      "Best objective 1.820000000000e+02, best bound 1.820000000000e+02, gap 0.0000%\n",
      "path ('a', 'm3') = 1.0\n",
      "path ('b', 'm1') = 1.0\n",
      "path ('c', 'm1') = 1.0\n",
      "path ('d', 'm4') = 1.0\n",
      "path ('e', 'm2') = 1.0\n",
      "path ('f', 'm5') = 1.0\n",
      "path ('g', 'm2') = 1.0\n"
     ]
    }
   ],
   "source": [
    "m = gp.Model('q2')\n",
    "\n",
    "alloc = m.addVars(workers, machine, vtype=gp.GRB.BINARY)\n",
    "\n",
    "# minimize the insurance premium for a given worker assignment\n",
    "m.setObjective(sum(premium[i][j] * alloc[i, j] for i in workers for j in machine), gp.GRB.MINIMIZE)\n",
    "\n",
    "# worker constraints:every worker has to be matched to a single machine \n",
    "for i in workers:\n",
    "    m.addConstr(sum(alloc[i, j] for j in machine) == 1)\n",
    "    \n",
    "# machine constraints:every machine must have at least one person working on it \n",
    "for j in machine:\n",
    "    m.addConstr(sum(alloc[i, j] for i in workers) >= 1)\n",
    "\n",
    "m.optimize()\n",
    "\n",
    "if m.status == gp.GRB.OPTIMAL:\n",
    "    for i in alloc:\n",
    "        if alloc[i].x == 1:\n",
    "            print(f'path {i} = {alloc[i].x}')\n"
   ]
  },
  {
   "cell_type": "markdown",
   "id": "b133470a",
   "metadata": {},
   "source": [
    "## Question 3"
   ]
  },
  {
   "cell_type": "code",
   "execution_count": 57,
   "id": "011ffb14",
   "metadata": {},
   "outputs": [],
   "source": [
    "terminals = {1:'SE', 2:'LA', 3:'DE', 4:'CH', 5:'DA', 6:'NY', 7:'DC'}\n",
    "flip_t = {'SE':1, 'LA':2, 'DE':3, 'CH':4, 'DA':5, 'NY':6, 'DC':7}\n",
    "\n",
    "# hard assign the value without the LA -> CH terminal i.e. 2 -> 4 (we instantiate the MST with this edge)\n",
    "distance = {\n",
    "    ('SE', 'DE'):1300, ('SE', 'LA'):1100, ('SE', 'CH'):2000, ('LA', 'DA'):1400, \n",
    "    ('LA', 'DC'):2600, ('DE', 'DA'):780, ('DE', 'CH'):1000, \n",
    "    ('DA', 'CH'):900, ('DA', 'DC'):1300, ('CH', 'NY'):800, ('DC', 'NY'):200\n",
    "}\n",
    "\n",
    "useful_distance = {(flip_t[i[0]], flip_t[i[1]]) : distance[i] for i in distance}"
   ]
  },
  {
   "cell_type": "code",
   "execution_count": 58,
   "id": "cc58e40d",
   "metadata": {},
   "outputs": [],
   "source": [
    "# sorting edge based on weight \n",
    "sorted_edges = sorted(useful_distance.items(), key=lambda x: x[1])"
   ]
  },
  {
   "cell_type": "code",
   "execution_count": 59,
   "id": "45e74265",
   "metadata": {},
   "outputs": [
    {
     "data": {
      "text/plain": [
       "[((7, 6), 200),\n",
       " ((3, 5), 780),\n",
       " ((4, 6), 800),\n",
       " ((5, 4), 900),\n",
       " ((3, 4), 1000),\n",
       " ((1, 2), 1100),\n",
       " ((1, 3), 1300),\n",
       " ((5, 7), 1300),\n",
       " ((2, 5), 1400),\n",
       " ((1, 4), 2000),\n",
       " ((2, 7), 2600)]"
      ]
     },
     "execution_count": 59,
     "metadata": {},
     "output_type": "execute_result"
    }
   ],
   "source": [
    "sorted_edges"
   ]
  },
  {
   "cell_type": "code",
   "execution_count": 60,
   "id": "03b26fe1",
   "metadata": {},
   "outputs": [
    {
     "name": "stdout",
     "output_type": "stream",
     "text": [
      "(2, 4) -> LA,CH\n",
      "(7, 6) -> DC,NY\n",
      "(3, 5) -> DE,DA\n",
      "(4, 6) -> CH,NY\n",
      "(5, 4) -> DA,CH\n",
      "(1, 2) -> SE,LA\n",
      "Total Distance = 5780\n"
     ]
    }
   ],
   "source": [
    "# instantiate the parent class ID\n",
    "parent = {i: i for i in range(1,7+1)}\n",
    "rank = {i: 0 for i in range(1,7+1)}\n",
    "\n",
    "\n",
    "# HELPER FUNCTIONS\n",
    "def find(node):\n",
    "    if parent[node] != node:\n",
    "        parent[node] = find(parent[node])\n",
    "    return parent[node]\n",
    "\n",
    "def union(node1, node2):\n",
    "    root1 = find(node1)\n",
    "    root2 = find(node2)\n",
    "    \n",
    "    if root1 != root2:\n",
    "        if rank[root1] > rank[root2]:\n",
    "            parent[root2] = root1\n",
    "        else:\n",
    "            parent[root1] = root2\n",
    "            if rank[root1] == rank[root2]:\n",
    "                rank[root2] += 1\n",
    "                \n",
    "mst = []\n",
    "\n",
    "new_list = [((2,4), 2000)] + sorted_edges\n",
    "# Kruskal's Algo\n",
    "for edge, weight in new_list:\n",
    "    if find(edge[0]) != find(edge[1]):\n",
    "        union(edge[0], edge[1])\n",
    "        mst.append(edge)\n",
    "    \n",
    "# output edge path\n",
    "total_distance = 2000\n",
    "for edge in mst:\n",
    "    print(f'{edge} -> {terminals[edge[0]]},{terminals[edge[1]]}')\n",
    "    \n",
    "    if edge != (2,4):\n",
    "        total_distance += useful_distance[edge]\n",
    "    \n",
    "print(f'Total Distance = {total_distance}')"
   ]
  },
  {
   "cell_type": "code",
   "execution_count": 65,
   "id": "d448edc7",
   "metadata": {},
   "outputs": [],
   "source": [
    "# Part 3 of Question 3"
   ]
  },
  {
   "cell_type": "code",
   "execution_count": 64,
   "id": "7f4c1b05",
   "metadata": {},
   "outputs": [
    {
     "name": "stdout",
     "output_type": "stream",
     "text": [
      "(2, 4) -> LA,CH\n",
      "(7, 6) -> DC,NY\n",
      "(6, 9) -> NY,MT\n",
      "(3, 8) -> DE,VA\n",
      "(6, 10) -> NY,TR\n",
      "(4, 10) -> CH,TR\n",
      "(1, 8) -> SE,VA\n",
      "(3, 5) -> DE,DA\n",
      "(5, 4) -> DA,CH\n",
      "Total Distance = 6880\n"
     ]
    }
   ],
   "source": [
    "terminals = {1:'SE', 2:'LA', 3:'DE', 4:'CH', 5:'DA', 6:'NY', 7:'DC', 8:'VA', 9:'MT', 10:'TR'}\n",
    "flip_t = {'SE':1, 'LA':2, 'DE':3, 'CH':4, 'DA':5, 'NY':6, 'DC':7, 'VA':8, 'MT':9, 'TR':10}\n",
    "\n",
    "# hard assign the value without the LA -> CH terminal i.e. 2 -> 4 (we instantiate the MST with this edge)\n",
    "distance = {\n",
    "    ('SE', 'DE'):1300, ('SE', 'LA'):1100, ('SE', 'CH'):2000, ('LA', 'DA'):1400, \n",
    "    ('LA', 'DC'):2600, ('DE', 'DA'):780, ('DE', 'CH'):1000, \n",
    "    ('DA', 'CH'):900, ('DA', 'DC'):1300, ('CH', 'NY'):800, ('DC', 'NY'):200,\n",
    "    \n",
    "    ('SE', 'VA'):700, ('DE', 'VA'):600, ('CH', 'MT'):900, \n",
    "    ('NY', 'MT'):500, ('NY', 'TR'):600, ('DC', 'TR'):700, ('CH', 'TR'):600\n",
    "}\n",
    "\n",
    "useful_distance = {(flip_t[i[0]], flip_t[i[1]]) : distance[i] for i in distance}\n",
    "\n",
    "# sorting edge based on weight \n",
    "sorted_edges = sorted(useful_distance.items(), key=lambda x: x[1])\n",
    "\n",
    "# instantiate the parent class ID\n",
    "parent = {i: i for i in range(1,10+1)}\n",
    "rank = {i: 0 for i in range(1,10+1)}\n",
    "\n",
    "# HELPER FUNCTIONS\n",
    "def find(node):\n",
    "    if parent[node] != node:\n",
    "        parent[node] = find(parent[node])\n",
    "    return parent[node]\n",
    "\n",
    "def union(node1, node2):\n",
    "    root1 = find(node1)\n",
    "    root2 = find(node2)\n",
    "    \n",
    "    if root1 != root2:\n",
    "        if rank[root1] > rank[root2]:\n",
    "            parent[root2] = root1\n",
    "        else:\n",
    "            parent[root1] = root2\n",
    "            if rank[root1] == rank[root2]:\n",
    "                rank[root2] += 1\n",
    "                \n",
    "mst = []\n",
    "\n",
    "new_list = [((2,4), 2000)] + sorted_edges\n",
    "\n",
    "# Kruskal's Algo\n",
    "for edge, weight in new_list:\n",
    "    if find(edge[0]) != find(edge[1]):\n",
    "        union(edge[0], edge[1])\n",
    "        mst.append(edge)\n",
    "    \n",
    "# output edge path\n",
    "total_distance = 2000\n",
    "for edge in mst:\n",
    "    print(f'{edge} -> {terminals[edge[0]]},{terminals[edge[1]]}')\n",
    "    \n",
    "    if edge != (2,4):\n",
    "        total_distance += useful_distance[edge]\n",
    "    \n",
    "print(f'Total Distance = {total_distance}')"
   ]
  },
  {
   "cell_type": "code",
   "execution_count": null,
   "id": "6829c71e",
   "metadata": {},
   "outputs": [],
   "source": []
  }
 ],
 "metadata": {
  "kernelspec": {
   "display_name": "Python 3 (ipykernel)",
   "language": "python",
   "name": "python3"
  },
  "language_info": {
   "codemirror_mode": {
    "name": "ipython",
    "version": 3
   },
   "file_extension": ".py",
   "mimetype": "text/x-python",
   "name": "python",
   "nbconvert_exporter": "python",
   "pygments_lexer": "ipython3",
   "version": "3.9.7"
  }
 },
 "nbformat": 4,
 "nbformat_minor": 5
}
