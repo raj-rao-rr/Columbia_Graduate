{
 "cells": [
  {
   "cell_type": "code",
   "execution_count": 1,
   "id": "4b7cc127",
   "metadata": {},
   "outputs": [],
   "source": [
    "import pandas as pd\n",
    "import numpy as np \n",
    "import gurobipy as gp\n",
    "\n",
    "import seaborn as sns\n",
    "import matplotlib.pyplot as plt"
   ]
  },
  {
   "cell_type": "markdown",
   "id": "61abc468",
   "metadata": {},
   "source": [
    "## Question 2"
   ]
  },
  {
   "cell_type": "code",
   "execution_count": 2,
   "id": "e3222823",
   "metadata": {},
   "outputs": [],
   "source": [
    "m1 = gp.Model('question2')"
   ]
  },
  {
   "cell_type": "code",
   "execution_count": 3,
   "id": "ca3c986a",
   "metadata": {},
   "outputs": [
    {
     "name": "stdout",
     "output_type": "stream",
     "text": [
      "Gurobi Optimizer version 10.0.3 build v10.0.3rc0 (win64)\n",
      "\n",
      "CPU model: 11th Gen Intel(R) Core(TM) i7-11800H @ 2.30GHz, instruction set [SSE2|AVX|AVX2|AVX512]\n",
      "Thread count: 8 physical cores, 16 logical processors, using up to 16 threads\n",
      "\n",
      "Optimize a model with 3 rows, 2 columns and 5 nonzeros\n",
      "Model fingerprint: 0xbc5ea0ab\n",
      "Coefficient statistics:\n",
      "  Matrix range     [1e+00, 7e+00]\n",
      "  Objective range  [1e+00, 4e+00]\n",
      "  Bounds range     [0e+00, 0e+00]\n",
      "  RHS range        [3e+00, 1e+01]\n",
      "Presolve removed 1 rows and 0 columns\n",
      "Presolve time: 0.00s\n",
      "Presolved: 2 rows, 2 columns, 4 nonzeros\n",
      "\n",
      "Iteration    Objective       Primal Inf.    Dual Inf.      Time\n",
      "       0    8.4305000e+00   1.350000e-02   0.000000e+00      0s\n",
      "       1    8.4285714e+00   0.000000e+00   0.000000e+00      0s\n",
      "\n",
      "Solved in 1 iterations and 0.01 seconds (0.00 work units)\n",
      "Optimal objective  8.428571429e+00\n",
      "\n",
      "x_0 = 2.857142857142857\n",
      "x_1 = 3.0\n"
     ]
    }
   ],
   "source": [
    "# first solve a standard continous problem via LP relaxation (determine the optimal solution)\n",
    "alloc = {f'x_{i}' : m1.addVar(vtype=gp.GRB.CONTINUOUS, name=f'x_{i}') for i in range(2)}\n",
    "\n",
    "m1.setObjective(4*alloc['x_0'] - alloc['x_1'], gp.GRB.MAXIMIZE)\n",
    "\n",
    "m1.addConstr(7*alloc['x_0'] - 2*alloc['x_1'] <= 14)\n",
    "m1.addConstr(alloc['x_1'] <= 3)\n",
    "m1.addConstr(2*alloc['x_0'] - 2*alloc['x_1'] <= 3)\n",
    "\n",
    "m1.optimize()\n",
    "\n",
    "# output the optimal solution (corner point)\n",
    "if m1.status == gp.GRB.OPTIMAL:\n",
    "    print()\n",
    "    for i in alloc:\n",
    "        print(f'{i} = {alloc[i].x}')"
   ]
  },
  {
   "cell_type": "markdown",
   "id": "92ed5d23",
   "metadata": {},
   "source": [
    "**Iteratively solve using branch-and-bound algorithm, swapping the continous variable to an integer**"
   ]
  },
  {
   "cell_type": "code",
   "execution_count": 11,
   "id": "cc6c84bb",
   "metadata": {},
   "outputs": [
    {
     "name": "stdout",
     "output_type": "stream",
     "text": [
      "Gurobi Optimizer version 10.0.3 build v10.0.3rc0 (win64)\n",
      "\n",
      "CPU model: 11th Gen Intel(R) Core(TM) i7-11800H @ 2.30GHz, instruction set [SSE2|AVX|AVX2|AVX512]\n",
      "Thread count: 8 physical cores, 16 logical processors, using up to 16 threads\n",
      "\n",
      "Optimize a model with 5 rows, 2 columns and 7 nonzeros\n",
      "Model fingerprint: 0xfec00530\n",
      "Coefficient statistics:\n",
      "  Matrix range     [1e+00, 7e+00]\n",
      "  Objective range  [1e+00, 4e+00]\n",
      "  Bounds range     [0e+00, 0e+00]\n",
      "  RHS range        [2e+00, 1e+01]\n",
      "Presolve removed 5 rows and 2 columns\n",
      "Presolve time: 0.00s\n",
      "Presolve: All rows and columns removed\n",
      "Iteration    Objective       Primal Inf.    Dual Inf.      Time\n",
      "       0    6.0000000e+00   0.000000e+00   0.000000e+00      0s\n",
      "\n",
      "Solved in 0 iterations and 0.00 seconds (0.00 work units)\n",
      "Optimal objective  6.000000000e+00\n",
      "\n",
      "x_0 = 1.5\n",
      "x_1 = 0.0\n"
     ]
    }
   ],
   "source": [
    "m1 = gp.Model('question2')\n",
    "\n",
    "# first solve a standard continous problem via LP relaxation (determine the optimal solution)\n",
    "alloc = {f'x_{i}' : m1.addVar(vtype=gp.GRB.CONTINUOUS, name=f'x_{i}') for i in range(2)}\n",
    "\n",
    "m1.setObjective(4*alloc['x_0'] - alloc['x_1'], gp.GRB.MAXIMIZE)\n",
    "\n",
    "m1.addConstr(7*alloc['x_0'] - 2*alloc['x_1'] <= 14)\n",
    "m1.addConstr(alloc['x_1'] <= 3)\n",
    "m1.addConstr(2*alloc['x_0'] - 2*alloc['x_1'] <= 3)\n",
    "\n",
    "m1.addConstr(alloc['x_0'] <= 2)\n",
    "m1.addConstr(alloc['x_1'] <= 0)\n",
    "\n",
    "# for i in alloc:\n",
    "#     m1.addConstr(alloc[i] > 0.0)\n",
    "\n",
    "m1.optimize()\n",
    "\n",
    "# output the optimal solution (corner point)\n",
    "if m1.status == gp.GRB.OPTIMAL:\n",
    "    print()\n",
    "    for i in alloc:\n",
    "        print(f'{i} = {alloc[i].x}')"
   ]
  },
  {
   "cell_type": "code",
   "execution_count": null,
   "id": "549b1790",
   "metadata": {},
   "outputs": [],
   "source": []
  }
 ],
 "metadata": {
  "kernelspec": {
   "display_name": "Python 3 (ipykernel)",
   "language": "python",
   "name": "python3"
  },
  "language_info": {
   "codemirror_mode": {
    "name": "ipython",
    "version": 3
   },
   "file_extension": ".py",
   "mimetype": "text/x-python",
   "name": "python",
   "nbconvert_exporter": "python",
   "pygments_lexer": "ipython3",
   "version": "3.9.7"
  }
 },
 "nbformat": 4,
 "nbformat_minor": 5
}
