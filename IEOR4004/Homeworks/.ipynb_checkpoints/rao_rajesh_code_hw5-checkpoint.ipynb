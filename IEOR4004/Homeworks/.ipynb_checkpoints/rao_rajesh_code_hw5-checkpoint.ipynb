{
 "cells": [
  {
   "cell_type": "code",
   "execution_count": 13,
   "id": "4b7cc127",
   "metadata": {},
   "outputs": [],
   "source": [
    "import os\n",
    "import pandas as pd\n",
    "import numpy as np \n",
    "import gurobipy as gp\n",
    "\n",
    "import seaborn as sns\n",
    "import matplotlib.pyplot as plt"
   ]
  },
  {
   "cell_type": "markdown",
   "id": "61abc468",
   "metadata": {},
   "source": [
    "## Question 2"
   ]
  },
  {
   "cell_type": "code",
   "execution_count": 5,
   "id": "4720a923",
   "metadata": {},
   "outputs": [],
   "source": [
    "resistance = {'1_2':1, '1_3':4, '2_3':6, '2_4':12, '3_4':3}"
   ]
  },
  {
   "cell_type": "code",
   "execution_count": 11,
   "id": "b74d909f",
   "metadata": {},
   "outputs": [],
   "source": [
    "# create the LP file from base determination\n",
    "m = gp.Model(\"network\")\n",
    "\n",
    "# create path variables to be assigned\n",
    "flow = {i: m.addVar(vtype=gp.GRB.CONTINUOUS, name=f'x-{i}') for i in resistance.keys()}\n",
    "\n",
    "# Set objective\n",
    "m.setObjective(sum(flow[i]**2 * resistance[i] for i in resistance.keys()), gp.GRB.MINIMIZE)\n",
    "\n",
    "# Add constraints\n",
    "m.addConstr(flow['1_2']+flow['1_3']==710, name=\"c1\")\n",
    "m.addConstr(flow['1_2']==flow['2_3']+flow['2_4'], name=\"c2\")\n",
    "m.addConstr(flow['1_3']+flow['2_3']==flow['3_4'], name=\"c3\")\n",
    "m.addConstr(flow['2_4']+flow['3_4']==710, name=\"c4\")\n",
    "\n",
    "m.write(\"rao_rajesh_assign_hw5.lp\")"
   ]
  },
  {
   "cell_type": "markdown",
   "id": "2e593ff9",
   "metadata": {},
   "source": [
    "**import the model from LP to read and solve expression**"
   ]
  },
  {
   "cell_type": "code",
   "execution_count": 31,
   "id": "45b12be3",
   "metadata": {},
   "outputs": [
    {
     "name": "stdout",
     "output_type": "stream",
     "text": [
      "Read LP format model from file C:\\Users\\mahar\\OneDrive\\Documents\\Columbia University (Graduate)\\IEOR4004\\Homeworks/rao_rajesh_assign_hw5.lp\n",
      "Reading time = 0.00 seconds\n",
      ": 4 rows, 5 columns, 10 nonzeros\n",
      "Gurobi Optimizer version 10.0.3 build v10.0.3rc0 (win64)\n",
      "\n",
      "CPU model: 11th Gen Intel(R) Core(TM) i7-11800H @ 2.30GHz, instruction set [SSE2|AVX|AVX2|AVX512]\n",
      "Thread count: 8 physical cores, 16 logical processors, using up to 16 threads\n",
      "\n",
      "Optimize a model with 4 rows, 5 columns and 10 nonzeros\n",
      "Model fingerprint: 0x277cc2bb\n",
      "Model has 5 quadratic objective terms\n",
      "Coefficient statistics:\n",
      "  Matrix range     [1e+00, 1e+00]\n",
      "  Objective range  [0e+00, 0e+00]\n",
      "  QObjective range [2e+00, 2e+01]\n",
      "  Bounds range     [0e+00, 0e+00]\n",
      "  RHS range        [7e+02, 7e+02]\n",
      "Presolve removed 1 rows and 0 columns\n",
      "Presolve time: 0.00s\n",
      "Presolved: 3 rows, 5 columns, 7 nonzeros\n",
      "Presolved model has 5 quadratic objective terms\n",
      "Ordering time: 0.00s\n",
      "\n",
      "Barrier statistics:\n",
      " AA' NZ     : 2.000e+00\n",
      " Factor NZ  : 6.000e+00\n",
      " Factor Ops : 1.400e+01 (less than 1 second per iteration)\n",
      " Threads    : 1\n",
      "\n",
      "                  Objective                Residual\n",
      "Iter       Primal          Dual         Primal    Dual     Compl     Time\n",
      "   0   6.31103620e+06 -6.31103620e+06  1.50e+03 0.00e+00  3.33e+06     0s\n",
      "   1   2.06267081e+06  1.76507598e+05  1.50e-03 0.00e+00  3.77e+05     0s\n",
      "   2   2.03271170e+06  1.99040374e+06  5.56e-06 0.00e+00  8.46e+03     0s\n",
      "   3   2.03191078e+06  2.03178195e+06  5.46e-12 0.00e+00  2.58e+01     0s\n",
      "   4   2.03191077e+06  2.03191064e+06  4.55e-13 0.00e+00  2.58e-02     0s\n",
      "   5   2.03191077e+06  2.03191077e+06  2.27e-13 1.14e-13  2.58e-05     0s\n",
      "   6   2.03191077e+06  2.03191077e+06  2.27e-13 0.00e+00  2.58e-08     0s\n",
      "   7   2.03191077e+06  2.03191077e+06  0.00e+00 1.14e-13  2.58e-11     0s\n",
      "\n",
      "Barrier solved model in 7 iterations and 0.01 seconds (0.00 work units)\n",
      "Optimal objective 2.03191077e+06\n",
      "\n",
      "Optimal Solution Found:\n",
      "\n",
      "x-1_2: 371.38\n",
      "x-1_3: 338.62\n",
      "x-2_3: 163.85\n",
      "x-2_4: 207.54\n",
      "x-3_4: 502.46\n",
      "\n",
      "Flow in 710.0\n",
      "Flow out 710.0\n",
      "\n",
      "Objective Value: 2031910.77\n"
     ]
    }
   ],
   "source": [
    "lp_file_path = os.getcwd()+'/rao_rajesh_assign_hw5.lp'\n",
    "\n",
    "try:\n",
    "    # Create a new model\n",
    "    model = gp.read(lp_file_path)\n",
    "\n",
    "    # Optimize model\n",
    "    model.optimize()\n",
    "\n",
    "    # Print solution\n",
    "    if model.status == gp.GRB.OPTIMAL:\n",
    "        print('Optimal Solution Found:\\n')\n",
    "        for v in model.getVars():\n",
    "            print(f'{v.varName}: {round(v.x, 2)}')\n",
    "        print(f'\\nFlow in {sum(i.x for i in model.getVars()[:2])}')\n",
    "        print(f'Flow out {sum(i.x for i in model.getVars()[-2:])}')\n",
    "        print(f'\\nObjective Value: {round(model.objVal, 2)}')\n",
    "    else:\n",
    "        print('No optimal solution found.')\n",
    "\n",
    "except Exception as e:\n",
    "    print(f'An error occurred when reading the LP file: {e}')"
   ]
  },
  {
   "cell_type": "code",
   "execution_count": null,
   "id": "9cdb3ed3",
   "metadata": {},
   "outputs": [],
   "source": []
  }
 ],
 "metadata": {
  "kernelspec": {
   "display_name": "Python 3 (ipykernel)",
   "language": "python",
   "name": "python3"
  },
  "language_info": {
   "codemirror_mode": {
    "name": "ipython",
    "version": 3
   },
   "file_extension": ".py",
   "mimetype": "text/x-python",
   "name": "python",
   "nbconvert_exporter": "python",
   "pygments_lexer": "ipython3",
   "version": "3.9.7"
  }
 },
 "nbformat": 4,
 "nbformat_minor": 5
}
