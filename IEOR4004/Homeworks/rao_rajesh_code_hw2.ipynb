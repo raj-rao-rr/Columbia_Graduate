{
 "cells": [
  {
   "cell_type": "code",
   "execution_count": 4,
   "id": "5d1d10ba",
   "metadata": {},
   "outputs": [],
   "source": [
    "import numpy as np\n",
    "import pandas as pd\n",
    "\n",
    "import gurobipy as grb\n",
    "from gurobipy import GRB"
   ]
  },
  {
   "cell_type": "markdown",
   "id": "e177178c",
   "metadata": {},
   "source": [
    "## Problem 1"
   ]
  },
  {
   "cell_type": "markdown",
   "id": "76c3edf1",
   "metadata": {},
   "source": [
    "**Primal Problem Set**"
   ]
  },
  {
   "cell_type": "code",
   "execution_count": 9,
   "id": "caf7047a",
   "metadata": {},
   "outputs": [
    {
     "name": "stdout",
     "output_type": "stream",
     "text": [
      "Gurobi Optimizer version 10.0.3 build v10.0.3rc0 (win64)\n",
      "\n",
      "CPU model: 11th Gen Intel(R) Core(TM) i7-11800H @ 2.30GHz, instruction set [SSE2|AVX|AVX2|AVX512]\n",
      "Thread count: 8 physical cores, 16 logical processors, using up to 16 threads\n",
      "\n",
      "Optimize a model with 3 rows, 3 columns and 8 nonzeros\n",
      "Model fingerprint: 0x86ebf124\n",
      "Coefficient statistics:\n",
      "  Matrix range     [1e+00, 4e+00]\n",
      "  Objective range  [1e+01, 2e+01]\n",
      "  Bounds range     [0e+00, 0e+00]\n",
      "  RHS range        [2e+02, 4e+02]\n",
      "Presolve time: 0.00s\n",
      "Presolved: 3 rows, 3 columns, 8 nonzeros\n",
      "\n",
      "Iteration    Objective       Primal Inf.    Dual Inf.      Time\n",
      "       0    4.4000000e+31   4.750000e+30   4.400000e+01      0s\n",
      "       2    1.1000000e+03   0.000000e+00   0.000000e+00      0s\n",
      "\n",
      "Solved in 2 iterations and 0.01 seconds (0.00 work units)\n",
      "Optimal objective  1.100000000e+03\n",
      "Allocation to x_1: 60.0\n",
      "Allocation to x_2: 0.0\n",
      "Allocation to x_3: 25.0\n"
     ]
    }
   ],
   "source": [
    "# create a generic model to interact\n",
    "m1 = grb.Model(\"question_1_primal\")\n",
    "\n",
    "# ---------------------\n",
    "# DECISION VARIABLES\n",
    "# ---------------------\n",
    "alloc = {f'x_{i}' : m1.addVar(vtype=GRB.CONTINUOUS, name=f\"x_{i}\") for i in range(1, 4)}\n",
    "\n",
    "# ---------------------\n",
    "# OBJECTIVE FUNCTION\n",
    "# ---------------------\n",
    "m1.setObjective(10*alloc['x_1'] + 14*alloc['x_2'] + 20*alloc['x_3'], GRB.MAXIMIZE)\n",
    "\n",
    "# ---------------------\n",
    "# CONSTRAINTS\n",
    "# ---------------------\n",
    "m1.addConstr(2*alloc['x_1'] + 3*alloc['x_2'] + 4*alloc['x_3'] <= 220)\n",
    "m1.addConstr(4*alloc['x_1'] + 2*alloc['x_2'] - 1*alloc['x_3'] <= 385)\n",
    "m1.addConstr(alloc['x_1'] + 4*alloc['x_3'] <= 160)\n",
    "\n",
    "# ---------------------\n",
    "# OPTIMIZE\n",
    "# ---------------------\n",
    "# call method to ptimize model\n",
    "m1.optimize()\n",
    "\n",
    "# call the .x parameter to return allocation solution  \n",
    "for c in alloc.keys(): \n",
    "    print(f'Allocation to {c}: {alloc[c].x}')"
   ]
  },
  {
   "cell_type": "markdown",
   "id": "34c476e2",
   "metadata": {},
   "source": [
    "**Dual Problem Set**"
   ]
  },
  {
   "cell_type": "code",
   "execution_count": 11,
   "id": "958f2cb8",
   "metadata": {},
   "outputs": [
    {
     "name": "stdout",
     "output_type": "stream",
     "text": [
      "Gurobi Optimizer version 10.0.3 build v10.0.3rc0 (win64)\n",
      "\n",
      "CPU model: 11th Gen Intel(R) Core(TM) i7-11800H @ 2.30GHz, instruction set [SSE2|AVX|AVX2|AVX512]\n",
      "Thread count: 8 physical cores, 16 logical processors, using up to 16 threads\n",
      "\n",
      "Optimize a model with 3 rows, 3 columns and 8 nonzeros\n",
      "Model fingerprint: 0x56872af9\n",
      "Coefficient statistics:\n",
      "  Matrix range     [1e+00, 4e+00]\n",
      "  Objective range  [2e+02, 4e+02]\n",
      "  Bounds range     [0e+00, 0e+00]\n",
      "  RHS range        [1e+01, 2e+01]\n",
      "Presolve time: 0.00s\n",
      "Presolved: 3 rows, 3 columns, 8 nonzeros\n",
      "\n",
      "Iteration    Objective       Primal Inf.    Dual Inf.      Time\n",
      "       0    0.0000000e+00   2.900000e+01   0.000000e+00      0s\n",
      "       3    1.1000000e+03   0.000000e+00   0.000000e+00      0s\n",
      "\n",
      "Solved in 3 iterations and 0.01 seconds (0.00 work units)\n",
      "Optimal objective  1.100000000e+03\n",
      "Allocation to y_1: 5.0\n",
      "Allocation to y_2: 0.0\n",
      "Allocation to y_3: 0.0\n"
     ]
    }
   ],
   "source": [
    "# create a generic model to interact\n",
    "m1 = grb.Model(\"question_1_dual\")\n",
    "\n",
    "# ---------------------\n",
    "# DECISION VARIABLES\n",
    "# ---------------------\n",
    "alloc = {f'y_{i}' : m1.addVar(vtype=GRB.CONTINUOUS, name=f\"y_{i}\") for i in range(1, 4)}\n",
    "\n",
    "# ---------------------\n",
    "# OBJECTIVE FUNCTION\n",
    "# ---------------------\n",
    "m1.setObjective(220*alloc['y_1'] + 385*alloc['y_2'] + 160*alloc['y_3'], GRB.MINIMIZE)\n",
    "\n",
    "# ---------------------\n",
    "# CONSTRAINTS\n",
    "# ---------------------\n",
    "m1.addConstr(2*alloc['y_1'] + 4*alloc['y_2'] + 1*alloc['y_3'] >= 10)\n",
    "m1.addConstr(3*alloc['y_1'] + 2*alloc['y_2'] >= 14)\n",
    "m1.addConstr(4*alloc['y_1'] - 1*alloc['y_2'] + 4*alloc['y_3'] >= 20)\n",
    "\n",
    "# ---------------------\n",
    "# OPTIMIZE\n",
    "# ---------------------\n",
    "# call method to ptimize model\n",
    "m1.optimize()\n",
    "\n",
    "# call the .x parameter to return allocation solution  \n",
    "for c in alloc.keys(): \n",
    "    print(f'Allocation to {c}: {alloc[c].x}')"
   ]
  },
  {
   "cell_type": "markdown",
   "id": "6c93508a",
   "metadata": {},
   "source": [
    "## Problem 2"
   ]
  },
  {
   "cell_type": "code",
   "execution_count": 55,
   "id": "b3340fa9",
   "metadata": {},
   "outputs": [
    {
     "name": "stdout",
     "output_type": "stream",
     "text": [
      "Gurobi Optimizer version 10.0.3 build v10.0.3rc0 (win64)\n",
      "\n",
      "CPU model: 11th Gen Intel(R) Core(TM) i7-11800H @ 2.30GHz, instruction set [SSE2|AVX|AVX2|AVX512]\n",
      "Thread count: 8 physical cores, 16 logical processors, using up to 16 threads\n",
      "\n",
      "Optimize a model with 3 rows, 2 columns and 5 nonzeros\n",
      "Model fingerprint: 0x3c5cb736\n",
      "Coefficient statistics:\n",
      "  Matrix range     [1e+00, 1e+01]\n",
      "  Objective range  [1e+00, 2e+00]\n",
      "  Bounds range     [0e+00, 0e+00]\n",
      "  RHS range        [7e+00, 6e+01]\n",
      "Presolve removed 3 rows and 2 columns\n",
      "Presolve time: 0.00s\n",
      "Presolve: All rows and columns removed\n",
      "Iteration    Objective       Primal Inf.    Dual Inf.      Time\n",
      "       0    1.5000000e+01   0.000000e+00   0.000000e+00      0s\n",
      "\n",
      "Solved in 0 iterations and 0.00 seconds (0.00 work units)\n",
      "Optimal objective  1.500000000e+01\n",
      "Allocation to y_1: 2.5\n",
      "Allocation to y_2: 10.0\n"
     ]
    }
   ],
   "source": [
    "# create a generic model to interact\n",
    "m1 = grb.Model(\"question_2\")\n",
    "\n",
    "# ---------------------\n",
    "# DECISION VARIABLES\n",
    "# ---------------------\n",
    "alloc = {f'y_{i}' : m1.addVar(vtype=GRB.CONTINUOUS, name=f\"y_{i}\") for i in range(1, 3)}\n",
    "\n",
    "# ---------------------\n",
    "# OBJECTIVE FUNCTION\n",
    "# ---------------------\n",
    "m1.setObjective(2*alloc['y_1'] + alloc['y_2'], GRB.MAXIMIZE)\n",
    "\n",
    "# ---------------------\n",
    "# CONSTRAINTS\n",
    "# ---------------------\n",
    "m1.addConstr(12*alloc['y_1'] + 3*alloc['y_2'] <= 60)\n",
    "m1.addConstr(-3*alloc['y_1'] + alloc['y_2'] <= 7)\n",
    "m1.addConstr(alloc['y_2'] <= 10)\n",
    "\n",
    "# ---------------------\n",
    "# OPTIMIZE\n",
    "# ---------------------\n",
    "# call method to ptimize model\n",
    "m1.optimize()\n",
    "\n",
    "# call the .x parameter to return allocation solution  \n",
    "for c in alloc.keys(): \n",
    "    print(f'Allocation to {c}: {alloc[c].x}')"
   ]
  },
  {
   "cell_type": "markdown",
   "id": "9a6cb517",
   "metadata": {},
   "source": [
    "**Sensitivity Analysis**"
   ]
  },
  {
   "cell_type": "code",
   "execution_count": 37,
   "id": "c074e46d",
   "metadata": {},
   "outputs": [
    {
     "name": "stdout",
     "output_type": "stream",
     "text": [
      "\n",
      "(2.1) Ranges for Objective Coefficients:\n",
      "How much you could change the objective coefficient before changing the optimal basis\n",
      "y_1: -0.0 to 4.0\n",
      "y_2: 0.5 to inf\n",
      "\n",
      "(2.2) Shadow Prices:\n",
      "How much the objective function would change if you increase the right-hand side of the constraint by one unit\n",
      "R0: 0.16666666666666666\n",
      "R1: 0.0\n",
      "R2: 0.5\n"
     ]
    }
   ],
   "source": [
    "print(\"\"\"\\n(2.1) Ranges for Objective Coefficients:\n",
    "How much you could change the objective coefficient before changing the optimal basis\"\"\")\n",
    "for v in m1.getVars():     \n",
    "    print(f\"{v.VarName}: {v.SAObjLow} to {v.SAObjUp}\")\n",
    "\n",
    "print(\"\"\"\\n(2.2) Shadow Prices:\n",
    "How much the objective function would change if you increase the right-hand side of the constraint by one unit\"\"\") \n",
    "for c in m1.getConstrs():\n",
    "    print(f\"{c.ConstrName}: {c.Pi}\")"
   ]
  },
  {
   "cell_type": "code",
   "execution_count": null,
   "id": "51d22772",
   "metadata": {},
   "outputs": [],
   "source": []
  }
 ],
 "metadata": {
  "kernelspec": {
   "display_name": "Python 3 (ipykernel)",
   "language": "python",
   "name": "python3"
  },
  "language_info": {
   "codemirror_mode": {
    "name": "ipython",
    "version": 3
   },
   "file_extension": ".py",
   "mimetype": "text/x-python",
   "name": "python",
   "nbconvert_exporter": "python",
   "pygments_lexer": "ipython3",
   "version": "3.9.7"
  }
 },
 "nbformat": 4,
 "nbformat_minor": 5
}
