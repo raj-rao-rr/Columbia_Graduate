{
 "cells": [
  {
   "cell_type": "code",
   "execution_count": 2,
   "id": "b5f6d2f5",
   "metadata": {},
   "outputs": [],
   "source": [
    "import pandas as pd\n",
    "import numpy as np\n",
    "\n",
    "import gurobipy as gp"
   ]
  },
  {
   "cell_type": "markdown",
   "id": "74be440a",
   "metadata": {},
   "source": [
    "### Problem 1 - Study Set 2"
   ]
  },
  {
   "cell_type": "code",
   "execution_count": 3,
   "id": "afa01b01",
   "metadata": {},
   "outputs": [],
   "source": [
    "m = gp.Model('model')"
   ]
  },
  {
   "cell_type": "code",
   "execution_count": 14,
   "id": "7fbf75bc",
   "metadata": {},
   "outputs": [
    {
     "name": "stdout",
     "output_type": "stream",
     "text": [
      "Gurobi Optimizer version 10.0.3 build v10.0.3rc0 (win64)\n",
      "\n",
      "CPU model: 11th Gen Intel(R) Core(TM) i7-11800H @ 2.30GHz, instruction set [SSE2|AVX|AVX2|AVX512]\n",
      "Thread count: 8 physical cores, 16 logical processors, using up to 16 threads\n",
      "\n",
      "Optimize a model with 12 rows, 12 columns and 32 nonzeros\n",
      "Coefficient statistics:\n",
      "  Matrix range     [5e-01, 2e+03]\n",
      "  Objective range  [3e+02, 2e+03]\n",
      "  Bounds range     [5e+02, 4e+03]\n",
      "  RHS range        [5e+02, 1e+07]\n",
      "Iteration    Objective       Primal Inf.    Dual Inf.      Time\n",
      "       0    1.4843750e+32   8.375000e+30   1.484375e+02      0s\n",
      "       7    1.2500000e+07   0.000000e+00   0.000000e+00      0s\n",
      "\n",
      "Solved in 7 iterations and 0.01 seconds (0.00 work units)\n",
      "Optimal objective  1.250000000e+07\n"
     ]
    }
   ],
   "source": [
    "Ei = 100   # Expected number of in-state Engineering students.\n",
    "Ai = 150   # Expected number of in-state Arts students.\n",
    "Eo = 150   # Expected number of out-of-state Engineering students.\n",
    "Ao = 100   # Expected number of out-of-state Arts students.\n",
    "C = 15     # avg number of courses\n",
    "\n",
    "# define varables for usage\n",
    "instate_fee = m.addVar(vtype=gp.GRB.CONTINUOUS, name='instate_fee')\n",
    "outstate_fee = m.addVar(vtype=gp.GRB.CONTINUOUS, name='outstate_fee')\n",
    "\n",
    "eng_instate_cost = m.addVar(vtype=gp.GRB.CONTINUOUS, name='eng_instate_cost')\n",
    "art_instate_cost = m.addVar(vtype=gp.GRB.CONTINUOUS, name='art_instate_cost')\n",
    "eng_outstate_cost = m.addVar(vtype=gp.GRB.CONTINUOUS, name='eng_outstate_cost')\n",
    "art_outstate_cost = m.addVar(vtype=gp.GRB.CONTINUOUS, name='art_outstate_cost')\n",
    "\n",
    "# set the objective function \n",
    "Z = Ei*(instate_fee + C*eng_instate_cost) + Ai*(instate_fee + C*art_instate_cost) + Eo*(outstate_fee + C*eng_outstate_cost) + Ao*(outstate_fee + C*art_outstate_cost)\n",
    "m.setObjective(Z, gp.GRB.MAXIMIZE)\n",
    "\n",
    "# add constraints \n",
    "m.addConstr(Z>=10000000,\n",
    "           'minimum_revenue')\n",
    "\n",
    "m.addConstr(Z/(Ei+Ai+Eo+Ao)<=25000, \n",
    "           'avg_student_tuition')\n",
    "\n",
    "m.addConstr(instate_fee <= 2000, 'instate_max')\n",
    "m.addConstr(instate_fee >= 500 , 'instate_min')\n",
    "m.addConstr(outstate_fee <= 4000, 'outstate_max')\n",
    "m.addConstr(outstate_fee >= 1000, 'outstate_min')\n",
    "\n",
    "m.addConstr(eng_instate_cost <= 1333, 'max_eng_instate')\n",
    "m.addConstr(art_instate_cost <= 1000, 'max_eng_instate')\n",
    "m.addConstr(eng_outstate_cost <= 2333, 'max_eng_instate')\n",
    "m.addConstr(art_outstate_cost <= 1667, 'max_eng_instate')\n",
    "\n",
    "m.optimize()"
   ]
  },
  {
   "cell_type": "markdown",
   "id": "6ec3b432",
   "metadata": {},
   "source": [
    "### Problem 4 -  Study Set 2"
   ]
  },
  {
   "cell_type": "code",
   "execution_count": 24,
   "id": "72bac307",
   "metadata": {},
   "outputs": [
    {
     "name": "stdout",
     "output_type": "stream",
     "text": [
      "Gurobi Optimizer version 10.0.3 build v10.0.3rc0 (win64)\n",
      "\n",
      "CPU model: 11th Gen Intel(R) Core(TM) i7-11800H @ 2.30GHz, instruction set [SSE2|AVX|AVX2|AVX512]\n",
      "Thread count: 8 physical cores, 16 logical processors, using up to 16 threads\n",
      "\n",
      "Optimize a model with 3 rows, 3 columns and 8 nonzeros\n",
      "Model fingerprint: 0x86ebf124\n",
      "Coefficient statistics:\n",
      "  Matrix range     [1e+00, 4e+00]\n",
      "  Objective range  [1e+01, 2e+01]\n",
      "  Bounds range     [0e+00, 0e+00]\n",
      "  RHS range        [2e+02, 4e+02]\n",
      "Presolve time: 0.00s\n",
      "Presolved: 3 rows, 3 columns, 8 nonzeros\n",
      "\n",
      "Iteration    Objective       Primal Inf.    Dual Inf.      Time\n",
      "       0    4.4000000e+31   4.750000e+30   4.400000e+01      0s\n",
      "       2    1.1000000e+03   0.000000e+00   0.000000e+00      0s\n",
      "\n",
      "Solved in 2 iterations and 0.00 seconds (0.00 work units)\n",
      "Optimal objective  1.100000000e+03\n",
      "60.0 0.0 25.0\n"
     ]
    }
   ],
   "source": [
    "m = gp.Model('Primal')\n",
    "\n",
    "x1 = m.addVar(vtype=gp.GRB.CONTINUOUS, name='x1')\n",
    "x2 = m.addVar(vtype=gp.GRB.CONTINUOUS, name='x2')\n",
    "x3 = m.addVar(vtype=gp.GRB.CONTINUOUS, name='x2')\n",
    "\n",
    "m.setObjective(10*x1 + 14*x2 + 20*x3, gp.GRB.MAXIMIZE)\n",
    "\n",
    "m.addConstr(2*x1+3*x2+4*x3 <= 220, 'const1')\n",
    "m.addConstr(4*x1+2*x2-x3 <= 385, 'const2')\n",
    "m.addConstr(x1+4*x3 <= 160, 'const3')\n",
    "\n",
    "m.optimize()\n",
    "\n",
    "print(x1.x, x2.x, x3.x)"
   ]
  },
  {
   "cell_type": "code",
   "execution_count": 30,
   "id": "e4d15c93",
   "metadata": {},
   "outputs": [
    {
     "name": "stdout",
     "output_type": "stream",
     "text": [
      "Gurobi Optimizer version 10.0.3 build v10.0.3rc0 (win64)\n",
      "\n",
      "CPU model: 11th Gen Intel(R) Core(TM) i7-11800H @ 2.30GHz, instruction set [SSE2|AVX|AVX2|AVX512]\n",
      "Thread count: 8 physical cores, 16 logical processors, using up to 16 threads\n",
      "\n",
      "Optimize a model with 3 rows, 3 columns and 8 nonzeros\n",
      "Model fingerprint: 0x56872af9\n",
      "Coefficient statistics:\n",
      "  Matrix range     [1e+00, 4e+00]\n",
      "  Objective range  [2e+02, 4e+02]\n",
      "  Bounds range     [0e+00, 0e+00]\n",
      "  RHS range        [1e+01, 2e+01]\n",
      "Presolve time: 0.00s\n",
      "Presolved: 3 rows, 3 columns, 8 nonzeros\n",
      "\n",
      "Iteration    Objective       Primal Inf.    Dual Inf.      Time\n",
      "       0    0.0000000e+00   2.900000e+01   0.000000e+00      0s\n",
      "       3    1.1000000e+03   0.000000e+00   0.000000e+00      0s\n",
      "\n",
      "Solved in 3 iterations and 0.00 seconds (0.00 work units)\n",
      "Optimal objective  1.100000000e+03\n",
      "5.0 0.0 0.0\n"
     ]
    }
   ],
   "source": [
    "m = gp.Model('Dual')\n",
    "\n",
    "y1 = m.addVar(vtype=gp.GRB.CONTINUOUS, name='y1')\n",
    "y2 = m.addVar(vtype=gp.GRB.CONTINUOUS, name='y2')\n",
    "y3 = m.addVar(vtype=gp.GRB.CONTINUOUS, name='y2')\n",
    "\n",
    "m.setObjective(220*y1 + 385*y2 + 160*y3, gp.GRB.MINIMIZE)\n",
    "\n",
    "m.addConstr(2*y1 + 4*y2 + y3 >= 10, 'const1')\n",
    "m.addConstr(3*y1 + 2*y2 >= 14, 'const2')\n",
    "m.addConstr(4*y1 - y2 + 4*y3 >= 20, 'const3')\n",
    "\n",
    "m.optimize()\n",
    "\n",
    "print(y1.x, y2.x, y3.x)"
   ]
  },
  {
   "cell_type": "markdown",
   "id": "25327e95",
   "metadata": {},
   "source": [
    "### Problem 5 - Study Set 1"
   ]
  },
  {
   "cell_type": "code",
   "execution_count": 31,
   "id": "a228664d",
   "metadata": {},
   "outputs": [],
   "source": [
    "savings_bond = 0.075\n",
    "bonds_6y = 0.079\n",
    "bond_price = 0.98\n",
    "muni_9y = 0.085\n",
    "muni_price = 1.02"
   ]
  },
  {
   "cell_type": "code",
   "execution_count": 47,
   "id": "71d2c3d5",
   "metadata": {},
   "outputs": [],
   "source": [
    "years = [1, 2, 3, 4, 5, 6, 7, 8, 9, 10]\n",
    "amount = [2000, 2000, 2500, 2500, 3000, 3500, 3500, 4000, 4000, 5000]\n",
    "investments = ['saving_bonds', 'government_bond', 'municipal_bond']\n",
    "\n",
    "investment_plan = dict(zip(years, amount))"
   ]
  },
  {
   "cell_type": "code",
   "execution_count": 61,
   "id": "88be0593",
   "metadata": {},
   "outputs": [
    {
     "name": "stdout",
     "output_type": "stream",
     "text": [
      "Gurobi Optimizer version 10.0.3 build v10.0.3rc0 (win64)\n",
      "\n",
      "CPU model: 11th Gen Intel(R) Core(TM) i7-11800H @ 2.30GHz, instruction set [SSE2|AVX|AVX2|AVX512]\n",
      "Thread count: 8 physical cores, 16 logical processors, using up to 16 threads\n",
      "\n",
      "Optimize a model with 23 rows, 30 columns and 43 nonzeros\n",
      "Model fingerprint: 0x6dc0cd7f\n",
      "Coefficient statistics:\n",
      "  Matrix range     [1e+00, 1e+00]\n",
      "  Objective range  [1e+00, 2e+00]\n",
      "  Bounds range     [0e+00, 0e+00]\n",
      "  RHS range        [2e+03, 5e+03]\n",
      "Presolve removed 23 rows and 30 columns\n",
      "Presolve time: 0.00s\n",
      "Presolve: All rows and columns removed\n",
      "Iteration    Objective       Primal Inf.    Dual Inf.      Time\n",
      "       0    4.6805108e+04   0.000000e+00   0.000000e+00      0s\n",
      "\n",
      "Solved in 0 iterations and 0.01 seconds (0.00 work units)\n",
      "Optimal objective  4.680510793e+04\n"
     ]
    }
   ],
   "source": [
    "m1 = gp.Model('investment_plan')\n",
    "\n",
    "allocation = m1.addVars(years, investments, vtype=gp.GRB.CONTINUOUS)\n",
    "\n",
    "val = 0    \n",
    "val += sum(allocation[(i, 'saving_bonds')] * (1+savings_bond)**(11-i) for i in range(1, 11))\n",
    "val += sum(allocation[(i, 'government_bond')] * (1+bonds_6y)**(11-i) for i in range(1, 5))\n",
    "val += sum(allocation[(i, 'municipal_bond')] * (1+muni_9y)**(11-i) for i in range(1, 2))\n",
    "\n",
    "# create optimization formula:\n",
    "m1.setObjective(val, gp.GRB.MAXIMIZE)\n",
    "\n",
    "# set constraints for each allocation year\n",
    "for y in years: \n",
    "    m1.addConstr(allocation[(y, 'saving_bonds')] + \n",
    "                 0.98*allocation[(y, 'government_bond')] + \n",
    "                 1.02*allocation[(y, 'municipal_bond')] <= investment_plan[y], f'{y}_dollar_const')\n",
    "\n",
    "# set constraints for values not investable (can't invest in 9-year municpal past year 2)\n",
    "for y in years[2:]:\n",
    "    m1.addConstr(allocation[(y, 'municipal_bond')] == 0, f'{y}_muni_limit')\n",
    "\n",
    "# set constraints for values not investable (can't invest in 6-year municpal past year 5)\n",
    "for y in years[5:]:\n",
    "    m1.addConstr(allocation[(y, 'government_bond')] == 0, f'{y}_muni_limit')\n",
    "    \n",
    "m1.optimize()"
   ]
  },
  {
   "cell_type": "code",
   "execution_count": 78,
   "id": "17d15204",
   "metadata": {},
   "outputs": [],
   "source": [
    "A = pd.DataFrame.from_dict(allocation, orient='index').reset_index()\n",
    "B = pd.DataFrame(A['index'].apply(lambda x: list(x)).tolist())\n",
    "B.columns = ['Year', 'Bond Type']\n",
    "\n",
    "# combine values into one form\n",
    "C = B.join(A[0])\n",
    "C.columns = ['Year', 'Bond Type', 'Allocation']\n",
    "C['Allocation'] = C['Allocation'].apply(lambda x: x.x)"
   ]
  },
  {
   "cell_type": "code",
   "execution_count": 81,
   "id": "92958ff0",
   "metadata": {},
   "outputs": [
    {
     "data": {
      "text/html": [
       "<div>\n",
       "<style scoped>\n",
       "    .dataframe tbody tr th:only-of-type {\n",
       "        vertical-align: middle;\n",
       "    }\n",
       "\n",
       "    .dataframe tbody tr th {\n",
       "        vertical-align: top;\n",
       "    }\n",
       "\n",
       "    .dataframe thead th {\n",
       "        text-align: right;\n",
       "    }\n",
       "</style>\n",
       "<table border=\"1\" class=\"dataframe\">\n",
       "  <thead>\n",
       "    <tr style=\"text-align: right;\">\n",
       "      <th>Bond Type</th>\n",
       "      <th>government_bond</th>\n",
       "      <th>municipal_bond</th>\n",
       "      <th>saving_bonds</th>\n",
       "    </tr>\n",
       "    <tr>\n",
       "      <th>Year</th>\n",
       "      <th></th>\n",
       "      <th></th>\n",
       "      <th></th>\n",
       "    </tr>\n",
       "  </thead>\n",
       "  <tbody>\n",
       "    <tr>\n",
       "      <th>1</th>\n",
       "      <td>0.000000</td>\n",
       "      <td>1960.784314</td>\n",
       "      <td>0.0</td>\n",
       "    </tr>\n",
       "    <tr>\n",
       "      <th>2</th>\n",
       "      <td>2040.816327</td>\n",
       "      <td>0.000000</td>\n",
       "      <td>0.0</td>\n",
       "    </tr>\n",
       "    <tr>\n",
       "      <th>3</th>\n",
       "      <td>2551.020408</td>\n",
       "      <td>0.000000</td>\n",
       "      <td>0.0</td>\n",
       "    </tr>\n",
       "    <tr>\n",
       "      <th>4</th>\n",
       "      <td>2551.020408</td>\n",
       "      <td>0.000000</td>\n",
       "      <td>0.0</td>\n",
       "    </tr>\n",
       "    <tr>\n",
       "      <th>5</th>\n",
       "      <td>0.000000</td>\n",
       "      <td>0.000000</td>\n",
       "      <td>3000.0</td>\n",
       "    </tr>\n",
       "    <tr>\n",
       "      <th>6</th>\n",
       "      <td>0.000000</td>\n",
       "      <td>0.000000</td>\n",
       "      <td>3500.0</td>\n",
       "    </tr>\n",
       "    <tr>\n",
       "      <th>7</th>\n",
       "      <td>0.000000</td>\n",
       "      <td>0.000000</td>\n",
       "      <td>3500.0</td>\n",
       "    </tr>\n",
       "    <tr>\n",
       "      <th>8</th>\n",
       "      <td>0.000000</td>\n",
       "      <td>0.000000</td>\n",
       "      <td>4000.0</td>\n",
       "    </tr>\n",
       "    <tr>\n",
       "      <th>9</th>\n",
       "      <td>0.000000</td>\n",
       "      <td>0.000000</td>\n",
       "      <td>4000.0</td>\n",
       "    </tr>\n",
       "    <tr>\n",
       "      <th>10</th>\n",
       "      <td>0.000000</td>\n",
       "      <td>0.000000</td>\n",
       "      <td>5000.0</td>\n",
       "    </tr>\n",
       "  </tbody>\n",
       "</table>\n",
       "</div>"
      ],
      "text/plain": [
       "Bond Type  government_bond  municipal_bond  saving_bonds\n",
       "Year                                                    \n",
       "1                 0.000000     1960.784314           0.0\n",
       "2              2040.816327        0.000000           0.0\n",
       "3              2551.020408        0.000000           0.0\n",
       "4              2551.020408        0.000000           0.0\n",
       "5                 0.000000        0.000000        3000.0\n",
       "6                 0.000000        0.000000        3500.0\n",
       "7                 0.000000        0.000000        3500.0\n",
       "8                 0.000000        0.000000        4000.0\n",
       "9                 0.000000        0.000000        4000.0\n",
       "10                0.000000        0.000000        5000.0"
      ]
     },
     "execution_count": 81,
     "metadata": {},
     "output_type": "execute_result"
    }
   ],
   "source": [
    "pd.pivot_table(data=C, index='Year', columns='Bond Type', values='Allocation')"
   ]
  },
  {
   "cell_type": "code",
   "execution_count": null,
   "id": "2ea6e654",
   "metadata": {},
   "outputs": [],
   "source": []
  }
 ],
 "metadata": {
  "kernelspec": {
   "display_name": "Python 3 (ipykernel)",
   "language": "python",
   "name": "python3"
  },
  "language_info": {
   "codemirror_mode": {
    "name": "ipython",
    "version": 3
   },
   "file_extension": ".py",
   "mimetype": "text/x-python",
   "name": "python",
   "nbconvert_exporter": "python",
   "pygments_lexer": "ipython3",
   "version": "3.9.7"
  }
 },
 "nbformat": 4,
 "nbformat_minor": 5
}
