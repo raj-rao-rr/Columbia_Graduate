{
 "cells": [
  {
   "cell_type": "markdown",
   "id": "e488dc50",
   "metadata": {},
   "source": [
    "## Gurobi Introduction"
   ]
  },
  {
   "cell_type": "code",
   "execution_count": 1,
   "id": "60dbf04b",
   "metadata": {},
   "outputs": [],
   "source": [
    "import numpy as np \n",
    "import gurobipy as grb \n",
    "from gurobipy import GRB"
   ]
  },
  {
   "cell_type": "code",
   "execution_count": 2,
   "id": "cd1bd1ec",
   "metadata": {},
   "outputs": [],
   "source": [
    "# Gurobi License grbgetkey 276af2d5-cedb-49c1-af5d-26d3bb89770b"
   ]
  },
  {
   "cell_type": "code",
   "execution_count": 4,
   "id": "d3910399",
   "metadata": {},
   "outputs": [],
   "source": [
    "grb.l"
   ]
  },
  {
   "cell_type": "markdown",
   "id": "e90db667",
   "metadata": {},
   "source": [
    "**Vaccine Allocation Problem -** *Class Example*"
   ]
  },
  {
   "cell_type": "code",
   "execution_count": 4,
   "id": "cb1164fc",
   "metadata": {},
   "outputs": [
    {
     "name": "stdout",
     "output_type": "stream",
     "text": [
      "Gurobi Optimizer version 10.0.3 build v10.0.3rc0 (win64)\n",
      "\n",
      "CPU model: 11th Gen Intel(R) Core(TM) i7-11800H @ 2.30GHz, instruction set [SSE2|AVX|AVX2|AVX512]\n",
      "Thread count: 8 physical cores, 16 logical processors, using up to 16 threads\n",
      "\n",
      "Optimize a model with 9 rows, 4 columns and 12 nonzeros\n",
      "Model fingerprint: 0xb59091ef\n",
      "Variable types: 0 continuous, 4 integer (0 binary)\n",
      "Coefficient statistics:\n",
      "  Matrix range     [1e+00, 1e+00]\n",
      "  Objective range  [5e-01, 1e+00]\n",
      "  Bounds range     [0e+00, 0e+00]\n",
      "  RHS range        [5e+02, 5e+03]\n",
      "Presolve removed 9 rows and 4 columns\n",
      "Presolve time: 0.00s\n",
      "Presolve: All rows and columns removed\n",
      "\n",
      "Explored 0 nodes (0 simplex iterations) in 0.01 seconds (0.00 work units)\n",
      "Thread count was 1 (of 16 available processors)\n",
      "\n",
      "Solution count 1: 3710 \n",
      "\n",
      "Optimal solution found (tolerance 1.00e-04)\n",
      "Best objective 3.710000000000e+03, best bound 3.710000000000e+03, gap 0.0000%\n",
      "Allocation to Station A: 1200.0\n",
      "Allocation to Station B: 1700.0\n",
      "Allocation to Station C: 1200.0\n",
      "Allocation to Station D: 900.0\n"
     ]
    }
   ],
   "source": [
    "# Define the data\n",
    "stations = [\"A\", \"B\", \"C\", \"D\"]\n",
    "capacity = {\"A\": 2300 , \"B\": 1700 , \"C\": 1200 , \"D\": 900}\n",
    "priority = {\"A\": 0.5, \"B\": 0.7, \"C\": 1.0, \"D\": 0.8}\n",
    "total_vaccines = 5000\n",
    "min_vaccines = 500\n",
    "\n",
    "# create a generic model to interact\n",
    "m = grb.Model(\"vaccine_allocation\")\n",
    "\n",
    "# create variables\n",
    "alloc = {}\n",
    "for s in stations:\n",
    "    alloc[s] = m.addVar(vtype=GRB.INTEGER , name=f\"alloc_{s}\")\n",
    "\n",
    "# Set objective function, maximize the \n",
    "m.setObjective(sum(priority[s] * alloc[s] for s in stations), GRB.MAXIMIZE)\n",
    "\n",
    "# add universal constraints i.e all vaccine allocations are capped\n",
    "m.addConstr(sum(alloc[s] for s in stations) == total_vaccines , \"total_vaccines\")\n",
    "\n",
    "# add individual (case specific) constraints e.g. minimum vaccine reqs\n",
    "for s in stations:\n",
    "    m.addConstr(alloc[s] >= min_vaccines , f\"min_alloc_{s}\")\n",
    "    m.addConstr(alloc[s] <= capacity[s], f\"max_alloc_{s}\")\n",
    "\n",
    "# call method to ptimize model\n",
    "m.optimize()\n",
    "\n",
    "# call the .x parameter to return allocation solution  \n",
    "for s in stations: \n",
    "    print(f'Allocation to Station {s}: {alloc[s].x}')"
   ]
  },
  {
   "cell_type": "code",
   "execution_count": 11,
   "id": "cdf79f7a",
   "metadata": {},
   "outputs": [
    {
     "data": {
      "text/plain": [
       "[<gurobi.LinExpr: 0.5 alloc_A>,\n",
       " <gurobi.LinExpr: 0.7 alloc_B>,\n",
       " <gurobi.LinExpr: alloc_C>,\n",
       " <gurobi.LinExpr: 0.8 alloc_D>]"
      ]
     },
     "execution_count": 11,
     "metadata": {},
     "output_type": "execute_result"
    }
   ],
   "source": [
    "list(priority[s] * alloc[s] for s in stations)"
   ]
  },
  {
   "cell_type": "code",
   "execution_count": null,
   "id": "fc2081e1",
   "metadata": {},
   "outputs": [],
   "source": []
  },
  {
   "cell_type": "code",
   "execution_count": null,
   "id": "135ff354",
   "metadata": {},
   "outputs": [],
   "source": []
  }
 ],
 "metadata": {
  "kernelspec": {
   "display_name": "Python 3 (ipykernel)",
   "language": "python",
   "name": "python3"
  },
  "language_info": {
   "codemirror_mode": {
    "name": "ipython",
    "version": 3
   },
   "file_extension": ".py",
   "mimetype": "text/x-python",
   "name": "python",
   "nbconvert_exporter": "python",
   "pygments_lexer": "ipython3",
   "version": "3.9.7"
  }
 },
 "nbformat": 4,
 "nbformat_minor": 5
}
