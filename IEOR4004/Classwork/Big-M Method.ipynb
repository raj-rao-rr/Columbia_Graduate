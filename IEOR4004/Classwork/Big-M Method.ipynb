{
 "cells": [
  {
   "cell_type": "code",
   "execution_count": 1,
   "id": "b0a7d9d1",
   "metadata": {},
   "outputs": [],
   "source": [
    "import pandas as pd\n",
    "import numpy as np \n",
    "\n",
    "import gurobipy as gp"
   ]
  },
  {
   "cell_type": "code",
   "execution_count": 21,
   "id": "7d313957",
   "metadata": {},
   "outputs": [],
   "source": [
    "a = np.array([[1, 3], [6, 2]])\n",
    "b1 = 12\n",
    "b2 = 9\n",
    "\n",
    "M = 1e6"
   ]
  },
  {
   "cell_type": "code",
   "execution_count": 22,
   "id": "1de8d75a",
   "metadata": {},
   "outputs": [
    {
     "name": "stdout",
     "output_type": "stream",
     "text": [
      "Gurobi Optimizer version 10.0.3 build v10.0.3rc0 (win64)\n",
      "\n",
      "CPU model: 11th Gen Intel(R) Core(TM) i7-11800H @ 2.30GHz, instruction set [SSE2|AVX|AVX2|AVX512]\n",
      "Thread count: 8 physical cores, 16 logical processors, using up to 16 threads\n",
      "\n",
      "Optimize a model with 4 rows, 4 columns and 10 nonzeros\n",
      "Model fingerprint: 0x0aa16fb3\n",
      "Variable types: 2 continuous, 2 integer (2 binary)\n",
      "Coefficient statistics:\n",
      "  Matrix range     [1e+00, 1e+06]\n",
      "  Objective range  [0e+00, 0e+00]\n",
      "  Bounds range     [1e+00, 1e+00]\n",
      "  RHS range        [9e+00, 1e+06]\n",
      "Found heuristic solution: objective 0.0000000\n",
      "\n",
      "Explored 0 nodes (0 simplex iterations) in 0.00 seconds (0.00 work units)\n",
      "Thread count was 1 (of 16 available processors)\n",
      "\n",
      "Solution count 1: 0 \n",
      "\n",
      "Optimal solution found (tolerance 1.00e-04)\n",
      "Best objective 0.000000000000e+00, best bound 0.000000000000e+00, gap 0.0000%\n",
      "2000000000.0 2000000000.0 1.0 1.0\n"
     ]
    }
   ],
   "source": [
    "m = gp.Model('q1')\n",
    "\n",
    "x1 = m.addVar(vtype=gp.GRB.CONTINUOUS, name='x1')\n",
    "x2 = m.addVar(vtype=gp.GRB.CONTINUOUS, name='x2')\n",
    "z1 = m.addVar(vtype=gp.GRB.BINARY, name='b1')\n",
    "z2 = m.addVar(vtype=gp.GRB.BINARY, name='b2')\n",
    "\n",
    "m.addConstr(a[0,0]*x1 + a[0,1]*x2 >= b1)\n",
    "m.addConstr(a[1,0]*x1 + a[1,1]*x2 >= b2)\n",
    "\n",
    "m.addConstr(a[0,0]*x1 + a[0,1]*x2 >= b1 + M * (1-z1))\n",
    "m.addConstr(a[1,0]*x1 + a[1,1]*x2 >= b2 + M * (1-z2))\n",
    "\n",
    "m.optimize()\n",
    "\n",
    "if m.status == gp.GRB.OPTIMAL:\n",
    "    \n",
    "    print(x1.x, x2.x, z1.x, z2.x)\n"
   ]
  },
  {
   "cell_type": "code",
   "execution_count": 23,
   "id": "381e0cc5",
   "metadata": {},
   "outputs": [
    {
     "data": {
      "text/plain": [
       "8000000000.0"
      ]
     },
     "execution_count": 23,
     "metadata": {},
     "output_type": "execute_result"
    }
   ],
   "source": [
    "a[0,0]*x1.x + a[0,1]*x2.x"
   ]
  },
  {
   "cell_type": "code",
   "execution_count": 24,
   "id": "5583cca8",
   "metadata": {},
   "outputs": [
    {
     "data": {
      "text/plain": [
       "12.0"
      ]
     },
     "execution_count": 24,
     "metadata": {},
     "output_type": "execute_result"
    }
   ],
   "source": [
    "b1 + M * (1-z1.x)"
   ]
  },
  {
   "cell_type": "code",
   "execution_count": null,
   "id": "0e35b511",
   "metadata": {},
   "outputs": [],
   "source": []
  },
  {
   "cell_type": "code",
   "execution_count": null,
   "id": "e06adb1c",
   "metadata": {},
   "outputs": [],
   "source": []
  }
 ],
 "metadata": {
  "kernelspec": {
   "display_name": "Python 3 (ipykernel)",
   "language": "python",
   "name": "python3"
  },
  "language_info": {
   "codemirror_mode": {
    "name": "ipython",
    "version": 3
   },
   "file_extension": ".py",
   "mimetype": "text/x-python",
   "name": "python",
   "nbconvert_exporter": "python",
   "pygments_lexer": "ipython3",
   "version": "3.9.7"
  }
 },
 "nbformat": 4,
 "nbformat_minor": 5
}
