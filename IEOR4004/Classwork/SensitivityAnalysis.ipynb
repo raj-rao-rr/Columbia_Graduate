{
 "cells": [
  {
   "cell_type": "code",
   "execution_count": 2,
   "metadata": {},
   "outputs": [],
   "source": [
    "from gurobipy import Model, GRB"
   ]
  },
  {
   "cell_type": "code",
   "execution_count": 3,
   "metadata": {},
   "outputs": [
    {
     "name": "stdout",
     "output_type": "stream",
     "text": [
      "Academic license - for non-commercial use only - expires 2024-01-18\n",
      "Using license file C:\\Users\\yaren\\gurobi.lic\n",
      "Gurobi Optimizer version 9.1.1 build v9.1.1rc0 (win64)\n",
      "Thread count: 6 physical cores, 12 logical processors, using up to 12 threads\n",
      "Optimize a model with 2 rows, 2 columns and 4 nonzeros\n",
      "Model fingerprint: 0x70c0af2a\n",
      "Coefficient statistics:\n",
      "  Matrix range     [1e+00, 2e+00]\n",
      "  Objective range  [2e+00, 3e+00]\n",
      "  Bounds range     [4e+01, 4e+01]\n",
      "  RHS range        [8e+01, 1e+02]\n",
      "Presolve time: 0.01s\n",
      "Presolved: 2 rows, 2 columns, 4 nonzeros\n",
      "\n",
      "Iteration    Objective       Primal Inf.    Dual Inf.      Time\n",
      "       0    8.0000000e+30   1.500000e+30   8.000000e+00      0s\n",
      "       2    1.8000000e+02   0.000000e+00   0.000000e+00      0s\n",
      "\n",
      "Solved in 2 iterations and 0.02 seconds\n",
      "Optimal objective  1.800000000e+02\n",
      "Optimal Solution:\n",
      "x1: 20.0, x2: 60.0\n"
     ]
    }
   ],
   "source": [
    "# Create a model\n",
    "m = Model(\"sensitivity_analysis\")\n",
    "\n",
    "# Create variables\n",
    "x1 = m.addVar(lb=0, ub=40, name=\"x1\")  # 0 <= x1 <= 40\n",
    "x2 = m.addVar(lb=0, name=\"x2\")  # x2 >= 0\n",
    "\n",
    "# Set objective\n",
    "m.setObjective(3*x1 + 2*x2, GRB.MAXIMIZE)\n",
    "\n",
    "# Add constraints\n",
    "c1 = m.addConstr(2*x1 + x2 <= 100, \"c1\")\n",
    "c2 = m.addConstr(x1 + x2 <= 80, \"c2\")\n",
    "\n",
    "# Optimize model\n",
    "m.optimize()\n",
    "\n",
    "# Check if the model has an optimal solution\n",
    "if m.status == GRB.OPTIMAL:\n",
    "    print(\"Optimal Solution:\")\n",
    "    print(f\"x1: {x1.x}, x2: {x2.x}\")"
   ]
  },
  {
   "cell_type": "code",
   "execution_count": 21,
   "metadata": {},
   "outputs": [
    {
     "name": "stdout",
     "output_type": "stream",
     "text": [
      "\n",
      "Sensitivity Analysis\n",
      "\n",
      "Shadow Prices: how much the objective function would change if you increase the right-hand side of the constraint by one unit\n",
      "c1: 1.0\n",
      "c2: 1.0\n",
      "\n",
      "Reduced Costs: how much the objective function would change if a decision variable is increased by one unit\n",
      "x1: 0.0\n",
      "x2: 0.0\n",
      "\n",
      "Ranges for RHS: how much you could change the constraint without changing the optimal basis\n",
      "c1: 80.0 to 120.0\n",
      "c2: 60.0 to 100.0\n",
      "\n",
      "Ranges for Objective Coefficients: how much you could change the objective coefficient before changing the optimal basis\n",
      "x1: 2.0 to 4.0\n",
      "x2: 1.5 to 3.0\n"
     ]
    }
   ],
   "source": [
    "# Sensitivity Analysis\n",
    "print(\"\\nSensitivity Analysis\")\n",
    "    \n",
    "# Shadow Prices or Dual Values\n",
    "print(\"\\nShadow Prices: how much the objective function would change if you increase the right-hand side of the constraint by one unit\") # Shadow Prices can be obtained using c.Pi where c is a constraint.\n",
    "for c in m.getConstrs():\n",
    "    print(f\"{c.ConstrName}: {c.Pi}\")\n",
    "        \n",
    "# Reduced Costs  \n",
    "print(\"\\nReduced Costs: how much the objective function would change if a decision variable is increased by one unit\")  # Reduced Costs can be found using v.RC where v is a variable.\n",
    "for v in m.getVars():\n",
    "    print(f\"{v.VarName}: {v.RC}\")\n",
    "    \n",
    "# Ranges in which the current basis remains optimal\n",
    "print(\"\\nRanges for RHS: how much you could change the constraint without changing the optimal basis\") # Ranges for RHS within which the current basis stays optimal are found using c.SARHSLow and c.SARHSUp where c is a constraint.\n",
    "for c in m.getConstrs():\n",
    "    print(f\"{c.ConstrName}: {c.SARHSLow} to {c.SARHSUp}\")\n",
    "        \n",
    "print(\"\\nRanges for Objective Coefficients: how much you could change the objective coefficient before changing the optimal basis\")\n",
    "for v in m.getVars():     # Ranges for Objective Coefficients within which the current basis stays optimal are found using v.SAObjLow and v.SAObjUp where v is a variable.\n",
    "    print(f\"{v.VarName}: {v.SAObjLow} to {v.SAObjUp}\")"
   ]
  },
  {
   "cell_type": "code",
   "execution_count": 22,
   "metadata": {},
   "outputs": [
    {
     "name": "stdout",
     "output_type": "stream",
     "text": [
      "Gurobi Optimizer version 9.1.1 build v9.1.1rc0 (win64)\n",
      "Thread count: 6 physical cores, 12 logical processors, using up to 12 threads\n",
      "Optimize a model with 2 rows, 2 columns and 4 nonzeros\n",
      "Coefficient statistics:\n",
      "  Matrix range     [1e+00, 2e+00]\n",
      "  Objective range  [2e+00, 3e+00]\n",
      "  Bounds range     [4e+01, 4e+01]\n",
      "  RHS range        [8e+01, 1e+02]\n",
      "Iteration    Objective       Primal Inf.    Dual Inf.      Time\n",
      "       0    1.8100000e+02   0.000000e+00   0.000000e+00      0s\n",
      "\n",
      "Solved in 0 iterations and 0.00 seconds\n",
      "Optimal objective  1.810000000e+02\n",
      "Modified Solution:\n",
      "x1: 21.0, x2: 59.0\n",
      "Gurobi Optimizer version 9.1.1 build v9.1.1rc0 (win64)\n",
      "Thread count: 6 physical cores, 12 logical processors, using up to 12 threads\n",
      "Optimize a model with 2 rows, 2 columns and 4 nonzeros\n",
      "Coefficient statistics:\n",
      "  Matrix range     [1e+00, 2e+00]\n",
      "  Objective range  [2e+00, 3e+00]\n",
      "  Bounds range     [4e+01, 4e+01]\n",
      "  RHS range        [8e+01, 1e+02]\n",
      "\n",
      "Solved in 0 iterations and 0.01 seconds\n",
      "Optimal objective  1.810000000e+02\n",
      "Optimal Solution:\n",
      "x1: 21.0, x2: 59.0\n"
     ]
    }
   ],
   "source": [
    "#let's try a scenario where we increase the RHS of constraint 1 (c1) by 1 unit (looking at shadow price!)\n",
    "\n",
    "# Modify the RHS of a constraint and reoptimize\n",
    "rhs_change = 1  # Change this value as needed\n",
    "c1.RHS = 100 + rhs_change  # Changing the RHS of constraint c1\n",
    "\n",
    "# Reoptimize the model with the modified constraint\n",
    "m.optimize()\n",
    "\n",
    "# Print Modified Solution\n",
    "if m.status == GRB.OPTIMAL:\n",
    "    print(\"Modified Solution:\")\n",
    "    print(f\"x1: {x1.x}, x2: {x2.x}\")\n",
    "\n",
    "# Optimize model\n",
    "m.optimize()\n",
    "\n",
    "# Check if the model has an optimal solution\n",
    "if m.status == GRB.OPTIMAL:\n",
    "    print(\"Optimal Solution:\")\n",
    "    print(f\"x1: {x1.x}, x2: {x2.x}\")"
   ]
  },
  {
   "cell_type": "code",
   "execution_count": 18,
   "metadata": {},
   "outputs": [
    {
     "name": "stdout",
     "output_type": "stream",
     "text": [
      "Gurobi Optimizer version 9.1.1 build v9.1.1rc0 (win64)\n",
      "Thread count: 6 physical cores, 12 logical processors, using up to 12 threads\n",
      "Optimize a model with 7 rows, 4 columns and 16 nonzeros\n",
      "Coefficient statistics:\n",
      "  Matrix range     [1e+00, 2e+00]\n",
      "  Objective range  [1e+00, 3e+00]\n",
      "  Bounds range     [4e+01, 4e+01]\n",
      "  RHS range        [6e+01, 1e+02]\n",
      "Iteration    Objective       Primal Inf.    Dual Inf.      Time\n",
      "       0    1.9000000e+02   0.000000e+00   0.000000e+00      0s\n",
      "\n",
      "Solved in 0 iterations and 0.00 seconds\n",
      "Optimal objective  1.900000000e+02\n",
      "\n",
      "Solution after adding a new constraint:\n",
      "x1: 40.0, x2: 10.0\n"
     ]
    }
   ],
   "source": [
    "# Adding a new constraint and reoptimizing\n",
    "c3 = m.addConstr(x1 + 2*x2 <= 60, \"c3\")  # To add a new constraint and reoptimize, simply use the addConstr() method followed by optimize().\n",
    "m.update\n",
    "m.optimize()\n",
    "print(\"\\nSolution after adding a new constraint:\")\n",
    "\n",
    "print(f\"x1: {x1.x}, x2: {x2.x}\")"
   ]
  },
  {
   "cell_type": "code",
   "execution_count": 17,
   "metadata": {},
   "outputs": [
    {
     "name": "stdout",
     "output_type": "stream",
     "text": [
      "Gurobi Optimizer version 9.1.1 build v9.1.1rc0 (win64)\n",
      "Thread count: 6 physical cores, 12 logical processors, using up to 12 threads\n",
      "Optimize a model with 6 rows, 4 columns and 14 nonzeros\n",
      "Coefficient statistics:\n",
      "  Matrix range     [1e+00, 2e+00]\n",
      "  Objective range  [1e+00, 3e+00]\n",
      "  Bounds range     [4e+01, 4e+01]\n",
      "  RHS range        [6e+01, 1e+02]\n",
      "Iteration    Objective       Primal Inf.    Dual Inf.      Time\n",
      "       0    4.0000000e+30   1.000000e+30   4.000000e+00      0s\n",
      "       1    1.9000000e+02   0.000000e+00   0.000000e+00      0s\n",
      "\n",
      "Solved in 1 iterations and 0.01 seconds\n",
      "Optimal objective  1.900000000e+02\n",
      "\n",
      "Solution after adding a new variable:\n",
      "x1: 40.0, x2: 10.0, x3: 50.0\n"
     ]
    }
   ],
   "source": [
    "# Adding a new variable and reoptimizing\n",
    "x3 = m.addVar(lb=0, name=\"x3\")\n",
    "m.addConstr(x1 + x2 + x3 <= 100, \"c4\")\n",
    "m.setObjective(3*x1 + 2*x2 + x3, GRB.MAXIMIZE)\n",
    "m.update\n",
    "m.optimize()\n",
    "print(\"\\nSolution after adding a new variable:\")\n",
    "print(f\"x1: {x1.x}, x2: {x2.x}, x3: {x3.x}\")"
   ]
  }
 ],
 "metadata": {
  "kernelspec": {
   "display_name": "Python 3 (ipykernel)",
   "language": "python",
   "name": "python3"
  },
  "language_info": {
   "codemirror_mode": {
    "name": "ipython",
    "version": 3
   },
   "file_extension": ".py",
   "mimetype": "text/x-python",
   "name": "python",
   "nbconvert_exporter": "python",
   "pygments_lexer": "ipython3",
   "version": "3.9.7"
  }
 },
 "nbformat": 4,
 "nbformat_minor": 4
}
